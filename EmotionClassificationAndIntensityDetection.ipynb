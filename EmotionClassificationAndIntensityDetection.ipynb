{
  "nbformat": 4,
  "nbformat_minor": 0,
  "metadata": {
    "colab": {
      "name": "emotion_classifier.ipynb",
      "provenance": [],
      "toc_visible": true
    },
    "kernelspec": {
      "name": "python3",
      "display_name": "Python 3"
    },
    "accelerator": "GPU"
  },
  "cells": [
    {
      "cell_type": "code",
      "metadata": {
        "id": "1uGiKIOljrTM",
        "colab_type": "code",
        "outputId": "44732ca0-2408-4395-9e7f-b6e515391d9b",
        "colab": {
          "base_uri": "https://localhost:8080/",
          "height": 125
        }
      },
      "source": [
        "from google.colab import drive\n",
        "drive.mount('/content/drive')"
      ],
      "execution_count": 1,
      "outputs": [
        {
          "output_type": "stream",
          "text": [
            "Go to this URL in a browser: https://accounts.google.com/o/oauth2/auth?client_id=947318989803-6bn6qk8qdgf4n4g3pfee6491hc0brc4i.apps.googleusercontent.com&redirect_uri=urn%3aietf%3awg%3aoauth%3a2.0%3aoob&response_type=code&scope=email%20https%3a%2f%2fwww.googleapis.com%2fauth%2fdocs.test%20https%3a%2f%2fwww.googleapis.com%2fauth%2fdrive%20https%3a%2f%2fwww.googleapis.com%2fauth%2fdrive.photos.readonly%20https%3a%2f%2fwww.googleapis.com%2fauth%2fpeopleapi.readonly\n",
            "\n",
            "Enter your authorization code:\n",
            "··········\n",
            "Mounted at /content/drive\n"
          ],
          "name": "stdout"
        }
      ]
    },
    {
      "cell_type": "code",
      "metadata": {
        "id": "vfQZuBMVHYSO",
        "colab_type": "code",
        "colab": {}
      },
      "source": [
        "from fastai.text import *"
      ],
      "execution_count": 0,
      "outputs": []
    },
    {
      "cell_type": "markdown",
      "metadata": {
        "id": "yhzEuNgNjY5k",
        "colab_type": "text"
      },
      "source": [
        "### Raw Data"
      ]
    },
    {
      "cell_type": "code",
      "metadata": {
        "id": "t5P_KxiHHdC2",
        "colab_type": "code",
        "colab": {}
      },
      "source": [
        "BASE_PATH = Path('drive/My Drive/Google Colab/DL-project')\n",
        "DATA_PATH = BASE_PATH/\"dataset/output/\""
      ],
      "execution_count": 0,
      "outputs": []
    },
    {
      "cell_type": "code",
      "metadata": {
        "id": "juRljLF8Hta9",
        "colab_type": "code",
        "outputId": "6993ecc3-e586-4b99-8df1-211596cf7637",
        "colab": {
          "base_uri": "https://localhost:8080/",
          "height": 406
        }
      },
      "source": [
        "df = pd.read_csv(DATA_PATH/\"emotions_df.csv\")\n",
        "df = df[df.columns.difference(['Unnamed: 0','id'])]\n",
        "df"
      ],
      "execution_count": 4,
      "outputs": [
        {
          "output_type": "execute_result",
          "data": {
            "text/html": [
              "<div>\n",
              "<style scoped>\n",
              "    .dataframe tbody tr th:only-of-type {\n",
              "        vertical-align: middle;\n",
              "    }\n",
              "\n",
              "    .dataframe tbody tr th {\n",
              "        vertical-align: top;\n",
              "    }\n",
              "\n",
              "    .dataframe thead th {\n",
              "        text-align: right;\n",
              "    }\n",
              "</style>\n",
              "<table border=\"1\" class=\"dataframe\">\n",
              "  <thead>\n",
              "    <tr style=\"text-align: right;\">\n",
              "      <th></th>\n",
              "      <th>emotion</th>\n",
              "      <th>intensity</th>\n",
              "      <th>is_valid</th>\n",
              "      <th>text</th>\n",
              "    </tr>\n",
              "  </thead>\n",
              "  <tbody>\n",
              "    <tr>\n",
              "      <th>0</th>\n",
              "      <td>anger</td>\n",
              "      <td>0.938</td>\n",
              "      <td>False</td>\n",
              "      <td>How the fu*k! Who the heck! moved my fridge!.....</td>\n",
              "    </tr>\n",
              "    <tr>\n",
              "      <th>1</th>\n",
              "      <td>anger</td>\n",
              "      <td>0.896</td>\n",
              "      <td>True</td>\n",
              "      <td>So my Indian Uber driver just called someone t...</td>\n",
              "    </tr>\n",
              "    <tr>\n",
              "      <th>2</th>\n",
              "      <td>anger</td>\n",
              "      <td>0.896</td>\n",
              "      <td>False</td>\n",
              "      <td>@DPD_UK I asked for my parcel to be delivered ...</td>\n",
              "    </tr>\n",
              "    <tr>\n",
              "      <th>3</th>\n",
              "      <td>anger</td>\n",
              "      <td>0.896</td>\n",
              "      <td>False</td>\n",
              "      <td>so ef whichever butt wipe pulled the fire alar...</td>\n",
              "    </tr>\n",
              "    <tr>\n",
              "      <th>4</th>\n",
              "      <td>anger</td>\n",
              "      <td>0.896</td>\n",
              "      <td>False</td>\n",
              "      <td>Don't join @BTCare they put the phone down on ...</td>\n",
              "    </tr>\n",
              "    <tr>\n",
              "      <th>...</th>\n",
              "      <td>...</td>\n",
              "      <td>...</td>\n",
              "      <td>...</td>\n",
              "      <td>...</td>\n",
              "    </tr>\n",
              "    <tr>\n",
              "      <th>3955</th>\n",
              "      <td>sadness</td>\n",
              "      <td>0.833</td>\n",
              "      <td>False</td>\n",
              "      <td>Common app just randomly logged me out as I wa...</td>\n",
              "    </tr>\n",
              "    <tr>\n",
              "      <th>3956</th>\n",
              "      <td>sadness</td>\n",
              "      <td>0.688</td>\n",
              "      <td>False</td>\n",
              "      <td>I'd rather laugh with the rarest genius, in be...</td>\n",
              "    </tr>\n",
              "    <tr>\n",
              "      <th>3957</th>\n",
              "      <td>sadness</td>\n",
              "      <td>0.458</td>\n",
              "      <td>False</td>\n",
              "      <td>If you #invest in my new #film I will stop ask...</td>\n",
              "    </tr>\n",
              "    <tr>\n",
              "      <th>3958</th>\n",
              "      <td>sadness</td>\n",
              "      <td>0.333</td>\n",
              "      <td>False</td>\n",
              "      <td>Just watched Django Unchained, Other people ma...</td>\n",
              "    </tr>\n",
              "    <tr>\n",
              "      <th>3959</th>\n",
              "      <td>sadness</td>\n",
              "      <td>0.708</td>\n",
              "      <td>False</td>\n",
              "      <td>@KeithOlbermann depressing how despicable Trum...</td>\n",
              "    </tr>\n",
              "  </tbody>\n",
              "</table>\n",
              "<p>3960 rows × 4 columns</p>\n",
              "</div>"
            ],
            "text/plain": [
              "      emotion  ...                                               text\n",
              "0       anger  ...  How the fu*k! Who the heck! moved my fridge!.....\n",
              "1       anger  ...  So my Indian Uber driver just called someone t...\n",
              "2       anger  ...  @DPD_UK I asked for my parcel to be delivered ...\n",
              "3       anger  ...  so ef whichever butt wipe pulled the fire alar...\n",
              "4       anger  ...  Don't join @BTCare they put the phone down on ...\n",
              "...       ...  ...                                                ...\n",
              "3955  sadness  ...  Common app just randomly logged me out as I wa...\n",
              "3956  sadness  ...  I'd rather laugh with the rarest genius, in be...\n",
              "3957  sadness  ...  If you #invest in my new #film I will stop ask...\n",
              "3958  sadness  ...  Just watched Django Unchained, Other people ma...\n",
              "3959  sadness  ...  @KeithOlbermann depressing how despicable Trum...\n",
              "\n",
              "[3960 rows x 4 columns]"
            ]
          },
          "metadata": {
            "tags": []
          },
          "execution_count": 4
        }
      ]
    },
    {
      "cell_type": "markdown",
      "metadata": {
        "id": "IW-7gpvjmrNP",
        "colab_type": "text"
      },
      "source": [
        "### Load and preprocess the data and form a databunch"
      ]
    },
    {
      "cell_type": "code",
      "metadata": {
        "id": "L0-nTaKoH9uZ",
        "colab_type": "code",
        "outputId": "00e9ed97-3f0a-4bfa-999b-756d9fc8decd",
        "colab": {
          "base_uri": "https://localhost:8080/",
          "height": 72
        }
      },
      "source": [
        "data_lm = (TextList.from_df(df, DATA_PATH, cols=[\"text\"])\n",
        "                  .random_split_by_pct(0.1)\n",
        "                  .label_for_lm()\n",
        "                  .databunch(bs=48))"
      ],
      "execution_count": 5,
      "outputs": [
        {
          "output_type": "stream",
          "text": [
            "/usr/local/lib/python3.6/dist-packages/fastai/data_block.py:215: UserWarning: `random_split_by_pct` is deprecated, please use `split_by_rand_pct`.\n",
            "  warn(\"`random_split_by_pct` is deprecated, please use `split_by_rand_pct`.\")\n"
          ],
          "name": "stderr"
        },
        {
          "output_type": "display_data",
          "data": {
            "text/html": [
              ""
            ],
            "text/plain": [
              "<IPython.core.display.HTML object>"
            ]
          },
          "metadata": {
            "tags": []
          }
        },
        {
          "output_type": "display_data",
          "data": {
            "text/html": [
              ""
            ],
            "text/plain": [
              "<IPython.core.display.HTML object>"
            ]
          },
          "metadata": {
            "tags": []
          }
        }
      ]
    },
    {
      "cell_type": "code",
      "metadata": {
        "id": "EQopeEqVIeF2",
        "colab_type": "code",
        "outputId": "35cd8ef4-706b-4000-a2fd-eba17ecb937f",
        "colab": {
          "base_uri": "https://localhost:8080/",
          "height": 314
        }
      },
      "source": [
        "data_lm.show_batch()"
      ],
      "execution_count": 6,
      "outputs": [
        {
          "output_type": "display_data",
          "data": {
            "text/html": [
              "<table border=\"1\" class=\"dataframe\">\n",
              "  <thead>\n",
              "    <tr style=\"text-align: right;\">\n",
              "      <th>idx</th>\n",
              "      <th>text</th>\n",
              "    </tr>\n",
              "  </thead>\n",
              "  <tbody>\n",
              "    <tr>\n",
              "      <td>0</td>\n",
              "      <td>alarm in xxunk bc i was sound asleep # pissed # angry # upset # tired # sad # tired # hangry xxrep 6 # xxbos xxmaj do n't join xxunk they put the phone down on you , talk over you and are rude . xxmaj taking money out of my acc xxunk ! # fuming xxbos xxmaj when you 've still got a whole season of xxmaj xxunk</td>\n",
              "    </tr>\n",
              "    <tr>\n",
              "      <td>1</td>\n",
              "      <td>a half xxunk excuse and now here i am burning in hell forever xxbos @manutd you have had from me over the years is irrelevant . xxmaj its an absolute joke . # xxunk # xxunk # fuming # xxunk # joke # xxunk xxbos xxunk _ _ xxmaj part xxunk xxunk for a xxunk xxunk or two - this was xxup not what i expected . xxup sort xxup</td>\n",
              "    </tr>\n",
              "    <tr>\n",
              "      <td>2</td>\n",
              "      <td>yeah i received a fine today which i am furious about , currently xxunk it after being a xxunk for so long ... xxbos xxmaj men in rage xxunk those that wish them best . # rage # emotions # negative # positive # wish # xxunk # xxunk # xxunk # control # believe # best # hope xxbos xxmaj in 2016 , xxmaj black people are xxup still</td>\n",
              "    </tr>\n",
              "    <tr>\n",
              "      <td>3</td>\n",
              "      <td>of which things i should be outraged at + in which order ? # outrage # racism # xxunk # abortion # cops xxbos xxunk xxunk xxunk true . xxmaj just me xxunk xxunk because i 'm still bitter with xxmaj xxunk . xxmaj like an old man yelling from his xxunk . xxbos i will never watch xxunk anatomy xxwrep 5 ever again if xxmaj xxunk xxmaj xxunk takes</td>\n",
              "    </tr>\n",
              "    <tr>\n",
              "      <td>4</td>\n",
              "      <td># xxunk xxbos xxmaj dear xxmaj xxunk .. xxmaj it is hard to xxunk this but for once try to xxunk this bitter xxunk ... that is .. xxmaj pakistan is number one in xxmaj test xxunk ! ! ! xxbos a little nose irritation and a little more xxunk on my body . i 'm so not into flu , into flu , into flu # xxunk xxbos i</td>\n",
              "    </tr>\n",
              "  </tbody>\n",
              "</table>"
            ],
            "text/plain": [
              "<IPython.core.display.HTML object>"
            ]
          },
          "metadata": {
            "tags": []
          }
        }
      ]
    },
    {
      "cell_type": "code",
      "metadata": {
        "id": "Dtk9DSQbm0gh",
        "colab_type": "code",
        "colab": {
          "base_uri": "https://localhost:8080/",
          "height": 372
        },
        "outputId": "f2d12684-5472-4836-b08e-4945c50969c2"
      },
      "source": [
        "data_lm.vocab.itos[:20]"
      ],
      "execution_count": 7,
      "outputs": [
        {
          "output_type": "execute_result",
          "data": {
            "text/plain": [
              "['xxunk',\n",
              " 'xxpad',\n",
              " 'xxbos',\n",
              " 'xxeos',\n",
              " 'xxfld',\n",
              " 'xxmaj',\n",
              " 'xxup',\n",
              " 'xxrep',\n",
              " 'xxwrep',\n",
              " '#',\n",
              " '.',\n",
              " 'the',\n",
              " 'i',\n",
              " ',',\n",
              " 'to',\n",
              " 'a',\n",
              " 'and',\n",
              " '!',\n",
              " 'of',\n",
              " 'is']"
            ]
          },
          "metadata": {
            "tags": []
          },
          "execution_count": 7
        }
      ]
    },
    {
      "cell_type": "code",
      "metadata": {
        "id": "fVP1Redxm3zq",
        "colab_type": "code",
        "colab": {
          "base_uri": "https://localhost:8080/",
          "height": 34
        },
        "outputId": "77e4e809-9566-4ca4-fec1-51f694a7d722"
      },
      "source": [
        "data_lm.train_ds[0][0]"
      ],
      "execution_count": 8,
      "outputs": [
        {
          "output_type": "execute_result",
          "data": {
            "text/plain": [
              "Text xxbos xxmaj how the xxunk ! xxmaj who the xxunk ! moved my xxunk ! ... should i xxunk the xxunk door . # angry # mad # #"
            ]
          },
          "metadata": {
            "tags": []
          },
          "execution_count": 8
        }
      ]
    },
    {
      "cell_type": "code",
      "metadata": {
        "id": "xySQf1xNm5TQ",
        "colab_type": "code",
        "colab": {
          "base_uri": "https://localhost:8080/",
          "height": 34
        },
        "outputId": "67631347-8e1b-4c4e-d824-a0c9d86b7cfc"
      },
      "source": [
        "data_lm.train_ds[0][0].data[:10]"
      ],
      "execution_count": 9,
      "outputs": [
        {
          "output_type": "execute_result",
          "data": {
            "text/plain": [
              "array([ 2,  5, 72, 11,  0, 17,  5, 78, 11,  0])"
            ]
          },
          "metadata": {
            "tags": []
          },
          "execution_count": 9
        }
      ]
    },
    {
      "cell_type": "code",
      "metadata": {
        "id": "I5sSr1Z5nEAD",
        "colab_type": "code",
        "colab": {
          "base_uri": "https://localhost:8080/",
          "height": 34
        },
        "outputId": "91de55c5-f3e7-41f7-8e1a-3e3cd8866bfa"
      },
      "source": [
        "len(data_lm.vocab.itos),len(data_lm.train_ds)"
      ],
      "execution_count": 10,
      "outputs": [
        {
          "output_type": "execute_result",
          "data": {
            "text/plain": [
              "(2512, 3564)"
            ]
          },
          "metadata": {
            "tags": []
          },
          "execution_count": 10
        }
      ]
    },
    {
      "cell_type": "code",
      "metadata": {
        "id": "qCMxIcvHnM_e",
        "colab_type": "code",
        "colab": {}
      },
      "source": [
        "# Save the databunch\n",
        "data_lm.save()"
      ],
      "execution_count": 0,
      "outputs": []
    },
    {
      "cell_type": "code",
      "metadata": {
        "id": "Hp7yI9dunQMh",
        "colab_type": "code",
        "colab": {}
      },
      "source": [
        "## Load already saved databunch\n",
        "# data_lm = load_data(DATA_PATH, 'lm_databunch', bs=bs)"
      ],
      "execution_count": 0,
      "outputs": []
    },
    {
      "cell_type": "markdown",
      "metadata": {
        "id": "WP8IgcRUTywh",
        "colab_type": "text"
      },
      "source": [
        "### The Transfer Learning Step\n",
        "The AWD_LSTM object contains the pretrained weights and the neural net architecture of the wikitext-103 language model."
      ]
    },
    {
      "cell_type": "code",
      "metadata": {
        "id": "eYFNV_AKIhq1",
        "colab_type": "code",
        "colab": {}
      },
      "source": [
        "learn_lm = language_model_learner(data_lm, AWD_LSTM, drop_mult=0.3)"
      ],
      "execution_count": 0,
      "outputs": []
    },
    {
      "cell_type": "code",
      "metadata": {
        "id": "tn21IIkMInpp",
        "colab_type": "code",
        "outputId": "d54d2e7c-fbe1-49b5-8866-8a1444a1b9aa",
        "colab": {
          "base_uri": "https://localhost:8080/",
          "height": 202
        }
      },
      "source": [
        "# Training (fine-tuning) the Twitter Data language model\n",
        "learn_lm.lr_find()"
      ],
      "execution_count": 13,
      "outputs": [
        {
          "output_type": "display_data",
          "data": {
            "text/html": [
              "\n",
              "    <div>\n",
              "        <style>\n",
              "            /* Turns off some styling */\n",
              "            progress {\n",
              "                /* gets rid of default border in Firefox and Opera. */\n",
              "                border: none;\n",
              "                /* Needs to be in here for Safari polyfill so background images work as expected. */\n",
              "                background-size: auto;\n",
              "            }\n",
              "            .progress-bar-interrupted, .progress-bar-interrupted::-webkit-progress-bar {\n",
              "                background: #F44336;\n",
              "            }\n",
              "        </style>\n",
              "      <progress value='3' class='' max='4' style='width:300px; height:20px; vertical-align: middle;'></progress>\n",
              "      75.00% [3/4 00:13<00:04]\n",
              "    </div>\n",
              "    \n",
              "<table border=\"1\" class=\"dataframe\">\n",
              "  <thead>\n",
              "    <tr style=\"text-align: left;\">\n",
              "      <th>epoch</th>\n",
              "      <th>train_loss</th>\n",
              "      <th>valid_loss</th>\n",
              "      <th>accuracy</th>\n",
              "      <th>time</th>\n",
              "    </tr>\n",
              "  </thead>\n",
              "  <tbody>\n",
              "    <tr>\n",
              "      <td>0</td>\n",
              "      <td>5.846679</td>\n",
              "      <td>#na#</td>\n",
              "      <td>00:04</td>\n",
              "    </tr>\n",
              "    <tr>\n",
              "      <td>1</td>\n",
              "      <td>5.821504</td>\n",
              "      <td>#na#</td>\n",
              "      <td>00:04</td>\n",
              "    </tr>\n",
              "    <tr>\n",
              "      <td>2</td>\n",
              "      <td>5.401343</td>\n",
              "      <td>#na#</td>\n",
              "      <td>00:04</td>\n",
              "    </tr>\n",
              "  </tbody>\n",
              "</table><p>\n",
              "\n",
              "    <div>\n",
              "        <style>\n",
              "            /* Turns off some styling */\n",
              "            progress {\n",
              "                /* gets rid of default border in Firefox and Opera. */\n",
              "                border: none;\n",
              "                /* Needs to be in here for Safari polyfill so background images work as expected. */\n",
              "                background-size: auto;\n",
              "            }\n",
              "            .progress-bar-interrupted, .progress-bar-interrupted::-webkit-progress-bar {\n",
              "                background: #F44336;\n",
              "            }\n",
              "        </style>\n",
              "      <progress value='24' class='' max='25' style='width:300px; height:20px; vertical-align: middle;'></progress>\n",
              "      96.00% [24/25 00:04<00:00 9.9741]\n",
              "    </div>\n",
              "    "
            ],
            "text/plain": [
              "<IPython.core.display.HTML object>"
            ]
          },
          "metadata": {
            "tags": []
          }
        },
        {
          "output_type": "stream",
          "text": [
            "LR Finder is complete, type {learner_name}.recorder.plot() to see the graph.\n"
          ],
          "name": "stdout"
        }
      ]
    },
    {
      "cell_type": "code",
      "metadata": {
        "id": "6K-adMoMIrt5",
        "colab_type": "code",
        "outputId": "a2a00800-4e09-47cf-d38f-c67774f55ec6",
        "colab": {
          "base_uri": "https://localhost:8080/",
          "height": 278
        }
      },
      "source": [
        "learn_lm.recorder.plot()"
      ],
      "execution_count": 14,
      "outputs": [
        {
          "output_type": "display_data",
          "data": {
            "image/png": "[encoded data removed]",
            "text/plain": [
              "<Figure size 432x288 with 1 Axes>"
            ]
          },
          "metadata": {
            "tags": [],
            "needs_background": "light"
          }
        }
      ]
    },
    {
      "cell_type": "code",
      "metadata": {
        "id": "5eQEotz-I5BD",
        "colab_type": "code",
        "outputId": "95e9206f-fcbc-4556-bf50-d09856a9d007",
        "colab": {
          "base_uri": "https://localhost:8080/",
          "height": 77
        }
      },
      "source": [
        "learn_lm.fit_one_cycle(1, 3e-2, moms=(0.8,0.7))"
      ],
      "execution_count": 50,
      "outputs": [
        {
          "output_type": "display_data",
          "data": {
            "text/html": [
              "<table border=\"1\" class=\"dataframe\">\n",
              "  <thead>\n",
              "    <tr style=\"text-align: left;\">\n",
              "      <th>epoch</th>\n",
              "      <th>train_loss</th>\n",
              "      <th>valid_loss</th>\n",
              "      <th>accuracy</th>\n",
              "      <th>time</th>\n",
              "    </tr>\n",
              "  </thead>\n",
              "  <tbody>\n",
              "    <tr>\n",
              "      <td>0</td>\n",
              "      <td>4.655357</td>\n",
              "      <td>4.039533</td>\n",
              "      <td>0.250794</td>\n",
              "      <td>00:04</td>\n",
              "    </tr>\n",
              "  </tbody>\n",
              "</table>"
            ],
            "text/plain": [
              "<IPython.core.display.HTML object>"
            ]
          },
          "metadata": {
            "tags": []
          }
        }
      ]
    },
    {
      "cell_type": "code",
      "metadata": {
        "id": "9vy5K2k5Vlvx",
        "colab_type": "code",
        "colab": {}
      },
      "source": [
        "# Save the weights\n",
        "learn_lm.save('fit_1')"
      ],
      "execution_count": 0,
      "outputs": []
    },
    {
      "cell_type": "code",
      "metadata": {
        "id": "78E74C-hVsS1",
        "colab_type": "code",
        "colab": {
          "base_uri": "https://localhost:8080/",
          "height": 1000
        },
        "outputId": "fb66f0af-db96-4338-d91e-5285dc8b1d8a"
      },
      "source": [
        "learn_lm.load('fit_1')"
      ],
      "execution_count": 52,
      "outputs": [
        {
          "output_type": "execute_result",
          "data": {
            "text/plain": [
              "LanguageLearner(data=TextLMDataBunch;\n",
              "\n",
              "Train: LabelList (3564 items)\n",
              "x: LMTextList\n",
              "xxbos xxmaj how the xxunk ! xxmaj who the xxunk ! moved my xxunk ! ... should i xxunk the xxunk door . # angry # mad # #,xxbos xxmaj so my xxmaj indian xxmaj uber driver just called someone the n word . xxmaj if i was n't in a moving xxunk i 'd have jumped out # disgusted,xxbos so xxunk whichever butt wipe pulled the fire alarm in xxunk bc i was sound asleep # pissed # angry # upset # tired # sad # tired # hangry xxrep 6 #,xxbos xxmaj do n't join xxunk they put the phone down on you , talk over you and are rude . xxmaj taking money out of my acc xxunk ! # fuming,xxbos xxmaj when you 've still got a whole season of xxmaj xxunk to watch and a stupid cunt in work ruins it for us 😭 😭 xxunk # raging # xxunk\n",
              "y: LMLabelList\n",
              ",,,,\n",
              "Path: drive/My Drive/Google Colab/DL-project/dataset/output;\n",
              "\n",
              "Valid: LabelList (396 items)\n",
              "x: LMTextList\n",
              "xxbos xxunk take me with you ! ! xxup jk . xxmaj have fun , relax , get a xxunk or two and chill . xxmaj do n't eat the xxunk , most places frown on that .,xxbos xxunk xxunk xxmaj its okay to be xxunk just rejoice with the xxunk in the xxunk way . xxmaj by the way it 's not your business , so why care ?,xxbos xxmaj xxunk this xxunk we are dying over against xxunk xxunk xxunk xxunk ways toward fine huff xxunk l ...,xxbos felt a bit shit getting a very high blood xxunk then i xxunk it 's my first one xxunk 15 this week which is incredible for me ! # happy,xxbos # xxmaj trump is # afraid of the big , bad # xxmaj hillary . # election # xxunk # xxunk # xxunk # xxunk # hide # xxunk # fear\n",
              "y: LMLabelList\n",
              ",,,,\n",
              "Path: drive/My Drive/Google Colab/DL-project/dataset/output;\n",
              "\n",
              "Test: None, model=SequentialRNN(\n",
              "  (0): AWD_LSTM(\n",
              "    (encoder): Embedding(2512, 400, padding_idx=1)\n",
              "    (encoder_dp): EmbeddingDropout(\n",
              "      (emb): Embedding(2512, 400, padding_idx=1)\n",
              "    )\n",
              "    (rnns): ModuleList(\n",
              "      (0): WeightDropout(\n",
              "        (module): LSTM(400, 1152, batch_first=True)\n",
              "      )\n",
              "      (1): WeightDropout(\n",
              "        (module): LSTM(1152, 1152, batch_first=True)\n",
              "      )\n",
              "      (2): WeightDropout(\n",
              "        (module): LSTM(1152, 400, batch_first=True)\n",
              "      )\n",
              "    )\n",
              "    (input_dp): RNNDropout()\n",
              "    (hidden_dps): ModuleList(\n",
              "      (0): RNNDropout()\n",
              "      (1): RNNDropout()\n",
              "      (2): RNNDropout()\n",
              "    )\n",
              "  )\n",
              "  (1): LinearDecoder(\n",
              "    (decoder): Linear(in_features=400, out_features=2512, bias=True)\n",
              "    (output_dp): RNNDropout()\n",
              "  )\n",
              "), opt_func=functools.partial(<class 'torch.optim.adam.Adam'>, betas=(0.9, 0.99)), loss_func=FlattenedLoss of CrossEntropyLoss(), metrics=[<function accuracy at 0x7f9930affa60>], true_wd=True, bn_wd=True, wd=0.01, train_bn=True, path=PosixPath('drive/My Drive/Google Colab/DL-project/dataset/output'), model_dir='models', callback_fns=[functools.partial(<class 'fastai.basic_train.Recorder'>, add_time=True, silent=False)], callbacks=[RNNTrainer\n",
              "learn: LanguageLearner(data=TextLMDataBunch;\n",
              "\n",
              "Train: LabelList (3564 items)\n",
              "x: LMTextList\n",
              "xxbos xxmaj how the xxunk ! xxmaj who the xxunk ! moved my xxunk ! ... should i xxunk the xxunk door . # angry # mad # #,xxbos xxmaj so my xxmaj indian xxmaj uber driver just called someone the n word . xxmaj if i was n't in a moving xxunk i 'd have jumped out # disgusted,xxbos so xxunk whichever butt wipe pulled the fire alarm in xxunk bc i was sound asleep # pissed # angry # upset # tired # sad # tired # hangry xxrep 6 #,xxbos xxmaj do n't join xxunk they put the phone down on you , talk over you and are rude . xxmaj taking money out of my acc xxunk ! # fuming,xxbos xxmaj when you 've still got a whole season of xxmaj xxunk to watch and a stupid cunt in work ruins it for us 😭 😭 xxunk # raging # xxunk\n",
              "y: LMLabelList\n",
              ",,,,\n",
              "Path: drive/My Drive/Google Colab/DL-project/dataset/output;\n",
              "\n",
              "Valid: LabelList (396 items)\n",
              "x: LMTextList\n",
              "xxbos xxunk take me with you ! ! xxup jk . xxmaj have fun , relax , get a xxunk or two and chill . xxmaj do n't eat the xxunk , most places frown on that .,xxbos xxunk xxunk xxmaj its okay to be xxunk just rejoice with the xxunk in the xxunk way . xxmaj by the way it 's not your business , so why care ?,xxbos xxmaj xxunk this xxunk we are dying over against xxunk xxunk xxunk xxunk ways toward fine huff xxunk l ...,xxbos felt a bit shit getting a very high blood xxunk then i xxunk it 's my first one xxunk 15 this week which is incredible for me ! # happy,xxbos # xxmaj trump is # afraid of the big , bad # xxmaj hillary . # election # xxunk # xxunk # xxunk # xxunk # hide # xxunk # fear\n",
              "y: LMLabelList\n",
              ",,,,\n",
              "Path: drive/My Drive/Google Colab/DL-project/dataset/output;\n",
              "\n",
              "Test: None, model=SequentialRNN(\n",
              "  (0): AWD_LSTM(\n",
              "    (encoder): Embedding(2512, 400, padding_idx=1)\n",
              "    (encoder_dp): EmbeddingDropout(\n",
              "      (emb): Embedding(2512, 400, padding_idx=1)\n",
              "    )\n",
              "    (rnns): ModuleList(\n",
              "      (0): WeightDropout(\n",
              "        (module): LSTM(400, 1152, batch_first=True)\n",
              "      )\n",
              "      (1): WeightDropout(\n",
              "        (module): LSTM(1152, 1152, batch_first=True)\n",
              "      )\n",
              "      (2): WeightDropout(\n",
              "        (module): LSTM(1152, 400, batch_first=True)\n",
              "      )\n",
              "    )\n",
              "    (input_dp): RNNDropout()\n",
              "    (hidden_dps): ModuleList(\n",
              "      (0): RNNDropout()\n",
              "      (1): RNNDropout()\n",
              "      (2): RNNDropout()\n",
              "    )\n",
              "  )\n",
              "  (1): LinearDecoder(\n",
              "    (decoder): Linear(in_features=400, out_features=2512, bias=True)\n",
              "    (output_dp): RNNDropout()\n",
              "  )\n",
              "), opt_func=functools.partial(<class 'torch.optim.adam.Adam'>, betas=(0.9, 0.99)), loss_func=FlattenedLoss of CrossEntropyLoss(), metrics=[<function accuracy at 0x7f9930affa60>], true_wd=True, bn_wd=True, wd=0.01, train_bn=True, path=PosixPath('drive/My Drive/Google Colab/DL-project/dataset/output'), model_dir='models', callback_fns=[functools.partial(<class 'fastai.basic_train.Recorder'>, add_time=True, silent=False)], callbacks=[...], layer_groups=[Sequential(\n",
              "  (0): WeightDropout(\n",
              "    (module): LSTM(400, 1152, batch_first=True)\n",
              "  )\n",
              "  (1): RNNDropout()\n",
              "), Sequential(\n",
              "  (0): WeightDropout(\n",
              "    (module): LSTM(1152, 1152, batch_first=True)\n",
              "  )\n",
              "  (1): RNNDropout()\n",
              "), Sequential(\n",
              "  (0): WeightDropout(\n",
              "    (module): LSTM(1152, 400, batch_first=True)\n",
              "  )\n",
              "  (1): RNNDropout()\n",
              "), Sequential(\n",
              "  (0): Embedding(2512, 400, padding_idx=1)\n",
              "  (1): EmbeddingDropout(\n",
              "    (emb): Embedding(2512, 400, padding_idx=1)\n",
              "  )\n",
              "  (2): LinearDecoder(\n",
              "    (decoder): Linear(in_features=400, out_features=2512, bias=True)\n",
              "    (output_dp): RNNDropout()\n",
              "  )\n",
              ")], add_time=True, silent=False)\n",
              "alpha: 2.0\n",
              "beta: 1.0], layer_groups=[Sequential(\n",
              "  (0): WeightDropout(\n",
              "    (module): LSTM(400, 1152, batch_first=True)\n",
              "  )\n",
              "  (1): RNNDropout()\n",
              "), Sequential(\n",
              "  (0): WeightDropout(\n",
              "    (module): LSTM(1152, 1152, batch_first=True)\n",
              "  )\n",
              "  (1): RNNDropout()\n",
              "), Sequential(\n",
              "  (0): WeightDropout(\n",
              "    (module): LSTM(1152, 400, batch_first=True)\n",
              "  )\n",
              "  (1): RNNDropout()\n",
              "), Sequential(\n",
              "  (0): Embedding(2512, 400, padding_idx=1)\n",
              "  (1): EmbeddingDropout(\n",
              "    (emb): Embedding(2512, 400, padding_idx=1)\n",
              "  )\n",
              "  (2): LinearDecoder(\n",
              "    (decoder): Linear(in_features=400, out_features=2512, bias=True)\n",
              "    (output_dp): RNNDropout()\n",
              "  )\n",
              ")], add_time=True, silent=False)"
            ]
          },
          "metadata": {
            "tags": []
          },
          "execution_count": 52
        }
      ]
    },
    {
      "cell_type": "code",
      "metadata": {
        "id": "YlVYz4pJI-xa",
        "colab_type": "code",
        "colab": {}
      },
      "source": [
        "learn_lm.unfreeze()"
      ],
      "execution_count": 0,
      "outputs": []
    },
    {
      "cell_type": "code",
      "metadata": {
        "id": "PmghYAPcJI_R",
        "colab_type": "code",
        "outputId": "a1569a48-9a7c-454e-b3d7-9bc81e7fd4b3",
        "colab": {
          "base_uri": "https://localhost:8080/",
          "height": 257
        }
      },
      "source": [
        "learn_lm.fit_one_cycle(7, 1e-3, moms=(0.8,0.7))"
      ],
      "execution_count": 54,
      "outputs": [
        {
          "output_type": "display_data",
          "data": {
            "text/html": [
              "<table border=\"1\" class=\"dataframe\">\n",
              "  <thead>\n",
              "    <tr style=\"text-align: left;\">\n",
              "      <th>epoch</th>\n",
              "      <th>train_loss</th>\n",
              "      <th>valid_loss</th>\n",
              "      <th>accuracy</th>\n",
              "      <th>time</th>\n",
              "    </tr>\n",
              "  </thead>\n",
              "  <tbody>\n",
              "    <tr>\n",
              "      <td>0</td>\n",
              "      <td>3.867778</td>\n",
              "      <td>3.920544</td>\n",
              "      <td>0.265278</td>\n",
              "      <td>00:04</td>\n",
              "    </tr>\n",
              "    <tr>\n",
              "      <td>1</td>\n",
              "      <td>3.755624</td>\n",
              "      <td>3.808944</td>\n",
              "      <td>0.277183</td>\n",
              "      <td>00:04</td>\n",
              "    </tr>\n",
              "    <tr>\n",
              "      <td>2</td>\n",
              "      <td>3.590013</td>\n",
              "      <td>3.734940</td>\n",
              "      <td>0.284722</td>\n",
              "      <td>00:05</td>\n",
              "    </tr>\n",
              "    <tr>\n",
              "      <td>3</td>\n",
              "      <td>3.406483</td>\n",
              "      <td>3.690333</td>\n",
              "      <td>0.290675</td>\n",
              "      <td>00:05</td>\n",
              "    </tr>\n",
              "    <tr>\n",
              "      <td>4</td>\n",
              "      <td>3.205107</td>\n",
              "      <td>3.673542</td>\n",
              "      <td>0.295139</td>\n",
              "      <td>00:05</td>\n",
              "    </tr>\n",
              "    <tr>\n",
              "      <td>5</td>\n",
              "      <td>3.021436</td>\n",
              "      <td>3.679144</td>\n",
              "      <td>0.300794</td>\n",
              "      <td>00:05</td>\n",
              "    </tr>\n",
              "    <tr>\n",
              "      <td>6</td>\n",
              "      <td>2.887572</td>\n",
              "      <td>3.679475</td>\n",
              "      <td>0.301389</td>\n",
              "      <td>00:05</td>\n",
              "    </tr>\n",
              "  </tbody>\n",
              "</table>"
            ],
            "text/plain": [
              "<IPython.core.display.HTML object>"
            ]
          },
          "metadata": {
            "tags": []
          }
        }
      ]
    },
    {
      "cell_type": "code",
      "metadata": {
        "id": "8CI9U7peJLMx",
        "colab_type": "code",
        "colab": {}
      },
      "source": [
        "learn_lm.save(\"fine_tuned\")"
      ],
      "execution_count": 0,
      "outputs": []
    },
    {
      "cell_type": "code",
      "metadata": {
        "id": "Czn2f_soJSXU",
        "colab_type": "code",
        "colab": {}
      },
      "source": [
        "learn_lm.save_encoder('fine_tuned_enc')"
      ],
      "execution_count": 0,
      "outputs": []
    },
    {
      "cell_type": "markdown",
      "metadata": {
        "id": "rkjJh_xxY3EE",
        "colab_type": "text"
      },
      "source": [
        "#### Generate twitter like text, with the fine-tuned Twitter language model\n"
      ]
    },
    {
      "cell_type": "code",
      "metadata": {
        "id": "mOEsE4uRY9y3",
        "colab_type": "code",
        "colab": {}
      },
      "source": [
        "TEXT = \"#not #happy because\"\n",
        "N_WORDS = 40\n",
        "N_SENTENCES = 2"
      ],
      "execution_count": 0,
      "outputs": []
    },
    {
      "cell_type": "code",
      "metadata": {
        "id": "ZUxQWZITZDS4",
        "colab_type": "code",
        "colab": {
          "base_uri": "https://localhost:8080/",
          "height": 107
        },
        "outputId": "cc4a1323-cc59-4efe-8e28-087ebc3b3fa7"
      },
      "source": [
        "print(\"\\n\".join(learn_lm.predict(TEXT, N_WORDS, temperature=0.75) for _ in range(N_SENTENCES)))"
      ],
      "execution_count": 63,
      "outputs": [
        {
          "output_type": "stream",
          "text": [
            "#not #happy because you 're # happy and you have a # happy . You 'll not always see someone who loves me # smile xxbos \n",
            " \n",
            "  What a # joy # happy # happy xxbos Stay the day i\n",
            "#not #happy because it 's just a # smile . We 're # happy and not # friends . # fashion # friends # love # twitter # success xxbos When new 's are r soft and horrific i 'm going\n"
          ],
          "name": "stdout"
        }
      ]
    },
    {
      "cell_type": "markdown",
      "metadata": {
        "id": "fnUatNoQZdSO",
        "colab_type": "text"
      },
      "source": [
        "### Building an Tweet Emotion Classifier"
      ]
    },
    {
      "cell_type": "code",
      "metadata": {
        "id": "UBFkQtY1JS_o",
        "colab_type": "code",
        "outputId": "0ef45b4a-31be-4cb2-8028-ea24456c0b23",
        "colab": {
          "base_uri": "https://localhost:8080/",
          "height": 16
        }
      },
      "source": [
        "data_clas = (TextList.from_df(df=df, path=DATA_PATH, cols='text', vocab=data_lm.vocab)\n",
        "             .split_from_df(col='is_valid')\n",
        "             .label_from_df(cols=['emotion'])\n",
        "             .databunch(bs=48))"
      ],
      "execution_count": 65,
      "outputs": [
        {
          "output_type": "display_data",
          "data": {
            "text/html": [
              ""
            ],
            "text/plain": [
              "<IPython.core.display.HTML object>"
            ]
          },
          "metadata": {
            "tags": []
          }
        },
        {
          "output_type": "display_data",
          "data": {
            "text/html": [
              ""
            ],
            "text/plain": [
              "<IPython.core.display.HTML object>"
            ]
          },
          "metadata": {
            "tags": []
          }
        }
      ]
    },
    {
      "cell_type": "code",
      "metadata": {
        "id": "spRr_5tMcE2F",
        "colab_type": "code",
        "colab": {}
      },
      "source": [
        "data_clas.save('twitter_textlist_class')"
      ],
      "execution_count": 0,
      "outputs": []
    },
    {
      "cell_type": "code",
      "metadata": {
        "id": "IoSKGO28J4Qm",
        "colab_type": "code",
        "outputId": "5e52daa4-e071-4056-b24a-0279a6067b77",
        "colab": {
          "base_uri": "https://localhost:8080/",
          "height": 264
        }
      },
      "source": [
        "data_clas.show_batch()"
      ],
      "execution_count": 66,
      "outputs": [
        {
          "output_type": "display_data",
          "data": {
            "text/html": [
              "<table border=\"1\" class=\"dataframe\">\n",
              "  <thead>\n",
              "    <tr style=\"text-align: right;\">\n",
              "      <th>text</th>\n",
              "      <th>target</th>\n",
              "    </tr>\n",
              "  </thead>\n",
              "  <tbody>\n",
              "    <tr>\n",
              "      <td>xxbos [ xxmaj moment of levity on the xxup xxunk ] xxmaj baby : i want xxup isis ! xxmaj give me xxup isis ! \\n  xxmaj mom : xxmaj xxunk ! \\n  xxmaj baby : i want xxup isis ! \\n  xxmaj west xxmaj indian woman : xxmaj she wants what ? \\n  xxmaj mom : * xxmaj xxunk * .</td>\n",
              "      <td>joy</td>\n",
              "    </tr>\n",
              "    <tr>\n",
              "      <td>xxbos xxunk xxmaj start w / the 3 xxunk in xxmaj blue xxmaj xxunk \\n  1 ) xxmaj wild \\n  xxunk \\n  xxunk xxmaj me down 😭 😭 for # xxmaj xxunk \\n  xxmaj also , \\n  xxunk xxmaj good . # serious xxunk / xxunk xxunk</td>\n",
              "      <td>sadness</td>\n",
              "    </tr>\n",
              "    <tr>\n",
              "      <td>xxbos xxmaj folk xxmaj band ' xxmaj xxunk xxmaj down ' will be replaced by ' xxmaj the xxmaj paul xxmaj xxunk xxmaj xxunk ' at xxmaj xxunk xxmaj bank xxmaj park xxmaj sat 24 11 am - 3 pm due to ill health # jazz</td>\n",
              "      <td>sadness</td>\n",
              "    </tr>\n",
              "    <tr>\n",
              "      <td>xxbos xxmaj he : u r beautiful \\n  xxmaj she : i xxunk a bf \\n \\n  xxmaj same as \\n \\n  # xxmaj india : u guys r # terrorist \\n  # xxmaj pak : we have # xxunk # xxunk . \\n \\n  # xxunk # terror</td>\n",
              "      <td>fear</td>\n",
              "    </tr>\n",
              "    <tr>\n",
              "      <td>xxbos xxmaj xxunk a \\n  xxunk heart , \\n  so far &amp; &amp; \\n  yet so near , \\n  the years so \\n  tough &amp; &amp; xxunk , \\n  this xxunk \\n  road , \\n  still xxunk ! # depression \\n \\n  # xxunk # xxunk</td>\n",
              "      <td>sadness</td>\n",
              "    </tr>\n",
              "  </tbody>\n",
              "</table>"
            ],
            "text/plain": [
              "<IPython.core.display.HTML object>"
            ]
          },
          "metadata": {
            "tags": []
          }
        }
      ]
    },
    {
      "cell_type": "code",
      "metadata": {
        "id": "THFf9TdNZ3le",
        "colab_type": "code",
        "colab": {}
      },
      "source": [
        "from sklearn.metrics import f1_score\n",
        "\n",
        "@np_func\n",
        "def f1(inp,targ): return f1_score(targ, np.argmax(inp, axis=-1), average=None)"
      ],
      "execution_count": 0,
      "outputs": []
    },
    {
      "cell_type": "code",
      "metadata": {
        "id": "LkBzC39IJ8jo",
        "colab_type": "code",
        "colab": {}
      },
      "source": [
        "learn_c = text_classifier_learner(data_clas, AWD_LSTM, drop_mult=0.3, metrics=[accuracy,f1])\n",
        "learn_c.load_encoder('fine_tuned_enc')\n",
        "learn_c.freeze()"
      ],
      "execution_count": 0,
      "outputs": []
    },
    {
      "cell_type": "code",
      "metadata": {
        "id": "xSSRF85yKGN-",
        "colab_type": "code",
        "outputId": "d8b02ec9-e325-455f-9f11-d94ef23a8244",
        "colab": {
          "base_uri": "https://localhost:8080/",
          "height": 142
        }
      },
      "source": [
        "learn_c.lr_find()"
      ],
      "execution_count": 74,
      "outputs": [
        {
          "output_type": "display_data",
          "data": {
            "text/html": [
              "\n",
              "    <div>\n",
              "        <style>\n",
              "            /* Turns off some styling */\n",
              "            progress {\n",
              "                /* gets rid of default border in Firefox and Opera. */\n",
              "                border: none;\n",
              "                /* Needs to be in here for Safari polyfill so background images work as expected. */\n",
              "                background-size: auto;\n",
              "            }\n",
              "            .progress-bar-interrupted, .progress-bar-interrupted::-webkit-progress-bar {\n",
              "                background: #F44336;\n",
              "            }\n",
              "        </style>\n",
              "      <progress value='1' class='' max='2' style='width:300px; height:20px; vertical-align: middle;'></progress>\n",
              "      50.00% [1/2 00:04<00:04]\n",
              "    </div>\n",
              "    \n",
              "<table border=\"1\" class=\"dataframe\">\n",
              "  <thead>\n",
              "    <tr style=\"text-align: left;\">\n",
              "      <th>epoch</th>\n",
              "      <th>train_loss</th>\n",
              "      <th>valid_loss</th>\n",
              "      <th>accuracy</th>\n",
              "      <th>f1</th>\n",
              "      <th>time</th>\n",
              "    </tr>\n",
              "  </thead>\n",
              "  <tbody>\n",
              "    <tr>\n",
              "      <td>0</td>\n",
              "      <td>1.410934</td>\n",
              "      <td>#na#</td>\n",
              "      <td>00:04</td>\n",
              "    </tr>\n",
              "  </tbody>\n",
              "</table><p>\n",
              "\n",
              "    <div>\n",
              "        <style>\n",
              "            /* Turns off some styling */\n",
              "            progress {\n",
              "                /* gets rid of default border in Firefox and Opera. */\n",
              "                border: none;\n",
              "                /* Needs to be in here for Safari polyfill so background images work as expected. */\n",
              "                background-size: auto;\n",
              "            }\n",
              "            .progress-bar-interrupted, .progress-bar-interrupted::-webkit-progress-bar {\n",
              "                background: #F44336;\n",
              "            }\n",
              "        </style>\n",
              "      <progress value='26' class='' max='66' style='width:300px; height:20px; vertical-align: middle;'></progress>\n",
              "      39.39% [26/66 00:01<00:02 2.1108]\n",
              "    </div>\n",
              "    "
            ],
            "text/plain": [
              "<IPython.core.display.HTML object>"
            ]
          },
          "metadata": {
            "tags": []
          }
        },
        {
          "output_type": "stream",
          "text": [
            "LR Finder is complete, type {learner_name}.recorder.plot() to see the graph.\n"
          ],
          "name": "stdout"
        }
      ]
    },
    {
      "cell_type": "code",
      "metadata": {
        "id": "HMdo6qRSKILl",
        "colab_type": "code",
        "outputId": "bab61bc0-dd9a-4cff-8714-170d69c96141",
        "colab": {
          "base_uri": "https://localhost:8080/",
          "height": 278
        }
      },
      "source": [
        "learn_c.recorder.plot()"
      ],
      "execution_count": 75,
      "outputs": [
        {
          "output_type": "display_data",
          "data": {
            "image/png": "[encoded data removed]",
            "text/plain": [
              "<Figure size 432x288 with 1 Axes>"
            ]
          },
          "metadata": {
            "tags": [],
            "needs_background": "light"
          }
        }
      ]
    },
    {
      "cell_type": "code",
      "metadata": {
        "id": "2Cpa54ggbVjh",
        "colab_type": "code",
        "colab": {}
      },
      "source": [
        "lr = 3e-2"
      ],
      "execution_count": 0,
      "outputs": []
    },
    {
      "cell_type": "code",
      "metadata": {
        "id": "ZAzU-rsPKQEl",
        "colab_type": "code",
        "outputId": "15e90040-4c16-4f6c-b46d-ff7f73d13611",
        "colab": {
          "base_uri": "https://localhost:8080/",
          "height": 107
        }
      },
      "source": [
        "learn_c.fit_one_cycle(2, 3e-2, moms=(0.8,0.7))"
      ],
      "execution_count": 76,
      "outputs": [
        {
          "output_type": "display_data",
          "data": {
            "text/html": [
              "<table border=\"1\" class=\"dataframe\">\n",
              "  <thead>\n",
              "    <tr style=\"text-align: left;\">\n",
              "      <th>epoch</th>\n",
              "      <th>train_loss</th>\n",
              "      <th>valid_loss</th>\n",
              "      <th>accuracy</th>\n",
              "      <th>f1</th>\n",
              "      <th>time</th>\n",
              "    </tr>\n",
              "  </thead>\n",
              "  <tbody>\n",
              "    <tr>\n",
              "      <td>0</td>\n",
              "      <td>1.270718</td>\n",
              "      <td>1.200119</td>\n",
              "      <td>0.480405</td>\n",
              "      <td>0.488108</td>\n",
              "      <td>0.448346</td>\n",
              "      <td>00:05</td>\n",
              "    </tr>\n",
              "    <tr>\n",
              "      <td>1</td>\n",
              "      <td>1.118956</td>\n",
              "      <td>1.106481</td>\n",
              "      <td>0.509482</td>\n",
              "      <td>0.478406</td>\n",
              "      <td>0.552404</td>\n",
              "      <td>00:05</td>\n",
              "    </tr>\n",
              "  </tbody>\n",
              "</table>"
            ],
            "text/plain": [
              "<IPython.core.display.HTML object>"
            ]
          },
          "metadata": {
            "tags": []
          }
        }
      ]
    },
    {
      "cell_type": "code",
      "metadata": {
        "id": "6FPC9ErOatvS",
        "colab_type": "code",
        "colab": {
          "base_uri": "https://localhost:8080/",
          "height": 107
        },
        "outputId": "8dbdb761-c57f-415d-f79d-f80a8002a3f4"
      },
      "source": [
        "learn_c.fit_one_cycle(2, 3e-2, moms=(0.8,0.7))"
      ],
      "execution_count": 77,
      "outputs": [
        {
          "output_type": "display_data",
          "data": {
            "text/html": [
              "<table border=\"1\" class=\"dataframe\">\n",
              "  <thead>\n",
              "    <tr style=\"text-align: left;\">\n",
              "      <th>epoch</th>\n",
              "      <th>train_loss</th>\n",
              "      <th>valid_loss</th>\n",
              "      <th>accuracy</th>\n",
              "      <th>f1</th>\n",
              "      <th>time</th>\n",
              "    </tr>\n",
              "  </thead>\n",
              "  <tbody>\n",
              "    <tr>\n",
              "      <td>0</td>\n",
              "      <td>1.122876</td>\n",
              "      <td>1.144133</td>\n",
              "      <td>0.517067</td>\n",
              "      <td>0.458532</td>\n",
              "      <td>0.551695</td>\n",
              "      <td>00:04</td>\n",
              "    </tr>\n",
              "    <tr>\n",
              "      <td>1</td>\n",
              "      <td>1.018937</td>\n",
              "      <td>1.063056</td>\n",
              "      <td>0.562579</td>\n",
              "      <td>0.543777</td>\n",
              "      <td>0.590014</td>\n",
              "      <td>00:05</td>\n",
              "    </tr>\n",
              "  </tbody>\n",
              "</table>"
            ],
            "text/plain": [
              "<IPython.core.display.HTML object>"
            ]
          },
          "metadata": {
            "tags": []
          }
        }
      ]
    },
    {
      "cell_type": "code",
      "metadata": {
        "id": "d0Cv-z9eKVef",
        "colab_type": "code",
        "outputId": "477d4087-38b0-4eec-ce1e-db3cdc1045f0",
        "colab": {
          "base_uri": "https://localhost:8080/",
          "height": 77
        }
      },
      "source": [
        "learn_c.freeze_to(-2)\n",
        "learn_c.fit_one_cycle(1, slice(3e-2/(2.6**4),3e-2), moms=(0.8,0.7))"
      ],
      "execution_count": 78,
      "outputs": [
        {
          "output_type": "display_data",
          "data": {
            "text/html": [
              "<table border=\"1\" class=\"dataframe\">\n",
              "  <thead>\n",
              "    <tr style=\"text-align: left;\">\n",
              "      <th>epoch</th>\n",
              "      <th>train_loss</th>\n",
              "      <th>valid_loss</th>\n",
              "      <th>accuracy</th>\n",
              "      <th>f1</th>\n",
              "      <th>time</th>\n",
              "    </tr>\n",
              "  </thead>\n",
              "  <tbody>\n",
              "    <tr>\n",
              "      <td>0</td>\n",
              "      <td>1.100573</td>\n",
              "      <td>1.050228</td>\n",
              "      <td>0.544880</td>\n",
              "      <td>0.515636</td>\n",
              "      <td>0.556643</td>\n",
              "      <td>00:05</td>\n",
              "    </tr>\n",
              "  </tbody>\n",
              "</table>"
            ],
            "text/plain": [
              "<IPython.core.display.HTML object>"
            ]
          },
          "metadata": {
            "tags": []
          }
        }
      ]
    },
    {
      "cell_type": "code",
      "metadata": {
        "id": "kZnD25QHKbYB",
        "colab_type": "code",
        "outputId": "a0a850a3-08b5-4bd8-8615-d3cd663ecc74",
        "colab": {
          "base_uri": "https://localhost:8080/",
          "height": 77
        }
      },
      "source": [
        "learn_c.freeze_to(-3)\n",
        "learn_c.fit_one_cycle(1, slice(3e-2/2/(2.6**4),3e-2/2), moms=(0.8,0.7))"
      ],
      "execution_count": 79,
      "outputs": [
        {
          "output_type": "display_data",
          "data": {
            "text/html": [
              "<table border=\"1\" class=\"dataframe\">\n",
              "  <thead>\n",
              "    <tr style=\"text-align: left;\">\n",
              "      <th>epoch</th>\n",
              "      <th>train_loss</th>\n",
              "      <th>valid_loss</th>\n",
              "      <th>accuracy</th>\n",
              "      <th>f1</th>\n",
              "      <th>time</th>\n",
              "    </tr>\n",
              "  </thead>\n",
              "  <tbody>\n",
              "    <tr>\n",
              "      <td>0</td>\n",
              "      <td>0.807210</td>\n",
              "      <td>0.686261</td>\n",
              "      <td>0.748420</td>\n",
              "      <td>0.720725</td>\n",
              "      <td>0.757564</td>\n",
              "      <td>00:05</td>\n",
              "    </tr>\n",
              "  </tbody>\n",
              "</table>"
            ],
            "text/plain": [
              "<IPython.core.display.HTML object>"
            ]
          },
          "metadata": {
            "tags": []
          }
        }
      ]
    },
    {
      "cell_type": "code",
      "metadata": {
        "id": "GpmbHormKfly",
        "colab_type": "code",
        "colab": {}
      },
      "source": [
        "learn_c.save('3rd')"
      ],
      "execution_count": 0,
      "outputs": []
    },
    {
      "cell_type": "code",
      "metadata": {
        "id": "ndbkRQXpKlsL",
        "colab_type": "code",
        "outputId": "1e05c92b-129d-4576-c427-b70af5b9f786",
        "colab": {
          "base_uri": "https://localhost:8080/",
          "height": 107
        }
      },
      "source": [
        "learn_c.unfreeze()\n",
        "learn_c.fit_one_cycle(2, slice(lr/10/(2.6**4),lr/10), moms=(0.8,0.7))"
      ],
      "execution_count": 82,
      "outputs": [
        {
          "output_type": "display_data",
          "data": {
            "text/html": [
              "<table border=\"1\" class=\"dataframe\">\n",
              "  <thead>\n",
              "    <tr style=\"text-align: left;\">\n",
              "      <th>epoch</th>\n",
              "      <th>train_loss</th>\n",
              "      <th>valid_loss</th>\n",
              "      <th>accuracy</th>\n",
              "      <th>f1</th>\n",
              "      <th>time</th>\n",
              "    </tr>\n",
              "  </thead>\n",
              "  <tbody>\n",
              "    <tr>\n",
              "      <td>0</td>\n",
              "      <td>0.483797</td>\n",
              "      <td>0.592993</td>\n",
              "      <td>0.791403</td>\n",
              "      <td>0.778419</td>\n",
              "      <td>0.785369</td>\n",
              "      <td>00:05</td>\n",
              "    </tr>\n",
              "    <tr>\n",
              "      <td>1</td>\n",
              "      <td>0.342879</td>\n",
              "      <td>0.560156</td>\n",
              "      <td>0.806574</td>\n",
              "      <td>0.794212</td>\n",
              "      <td>0.821765</td>\n",
              "      <td>00:05</td>\n",
              "    </tr>\n",
              "  </tbody>\n",
              "</table>"
            ],
            "text/plain": [
              "<IPython.core.display.HTML object>"
            ]
          },
          "metadata": {
            "tags": []
          }
        }
      ]
    },
    {
      "cell_type": "code",
      "metadata": {
        "id": "WtizvJvsKnCe",
        "colab_type": "code",
        "colab": {}
      },
      "source": [
        "learn_c.save('clas')"
      ],
      "execution_count": 0,
      "outputs": []
    },
    {
      "cell_type": "markdown",
      "metadata": {
        "id": "O4gb0_2wdYm1",
        "colab_type": "text"
      },
      "source": [
        "### Backward Training"
      ]
    },
    {
      "cell_type": "code",
      "metadata": {
        "id": "f9rXVgzUdb99",
        "colab_type": "code",
        "colab": {
          "base_uri": "https://localhost:8080/",
          "height": 16
        },
        "outputId": "5229fff9-19bc-478b-cf97-6ea2b9fab548"
      },
      "source": [
        "data_clas_bwd = (TextList.from_df(df=df, path=DATA_PATH, cols='text', vocab=data_lm.vocab)\n",
        "             .split_from_df(col='is_valid')\n",
        "             .label_from_df(cols=['emotion'])\n",
        "             .databunch(bs=48, backwards=True))"
      ],
      "execution_count": 88,
      "outputs": [
        {
          "output_type": "display_data",
          "data": {
            "text/html": [
              ""
            ],
            "text/plain": [
              "<IPython.core.display.HTML object>"
            ]
          },
          "metadata": {
            "tags": []
          }
        },
        {
          "output_type": "display_data",
          "data": {
            "text/html": [
              ""
            ],
            "text/plain": [
              "<IPython.core.display.HTML object>"
            ]
          },
          "metadata": {
            "tags": []
          }
        }
      ]
    },
    {
      "cell_type": "code",
      "metadata": {
        "id": "o86XKe0tdb8A",
        "colab_type": "code",
        "colab": {}
      },
      "source": [
        "data_clas_bwd.save('twitter_textlist_class_bwd')"
      ],
      "execution_count": 0,
      "outputs": []
    },
    {
      "cell_type": "code",
      "metadata": {
        "id": "vKSagY49db2j",
        "colab_type": "code",
        "colab": {
          "base_uri": "https://localhost:8080/",
          "height": 281
        },
        "outputId": "1eb9b358-2931-4466-95e8-7a19e61681cc"
      },
      "source": [
        "data_clas_bwd.show_batch()"
      ],
      "execution_count": 89,
      "outputs": [
        {
          "output_type": "display_data",
          "data": {
            "text/html": [
              "<table border=\"1\" class=\"dataframe\">\n",
              "  <thead>\n",
              "    <tr style=\"text-align: right;\">\n",
              "      <th>text</th>\n",
              "      <th>target</th>\n",
              "    </tr>\n",
              "  </thead>\n",
              "  <tbody>\n",
              "    <tr>\n",
              "      <td>. * xxunk xxmaj * : mom xxmaj \\n  ? what wants she xxmaj : woman indian xxmaj west xxmaj \\n  ! isis xxup want i : baby xxmaj \\n  ! xxunk xxmaj : mom xxmaj \\n  ! isis xxup me give xxmaj ! isis xxup want i : baby xxmaj ] xxunk xxup the on levity of moment xxmaj [ xxbos</td>\n",
              "      <td>joy</td>\n",
              "    </tr>\n",
              "    <tr>\n",
              "      <td>. elated were all .. xxunk xxmaj @ 's xxunk xxup xxunk xxmaj the to listen anyone xxmaj ? work not did it if xxunk a for xxunk 's mom xxmaj &amp; &amp; xxunk xxunk xxmaj would why xxmaj xxunk xxup $ xxbos</td>\n",
              "      <td>joy</td>\n",
              "    </tr>\n",
              "    <tr>\n",
              "      <td>. 4 xxrep everybody pleasing about n't is life xxmaj . xxunk a is happiness xxmaj . be them let then , it like n't do others if xxmaj . be to want you who be xxmaj . happy be xxmaj xxbos</td>\n",
              "      <td>joy</td>\n",
              "    </tr>\n",
              "    <tr>\n",
              "      <td>camps terror # xxunk to xxunk time xxmaj ? pakistan xxmaj # on xxunk xxmaj # for xxunk what xxmaj . there been not russia xxmaj # had us xxunk almost us xxup # , war xxunk xxmaj # in xxmaj xxbos</td>\n",
              "      <td>fear</td>\n",
              "    </tr>\n",
              "    <tr>\n",
              "      <td>xxunk # ! wtf xxup ! me kidding you are ... xxunk xxmaj xxunk xxmaj and , black xxmaj jack xxmaj , rock xxmaj the xxmaj / w . 4 xxrep 2 xxunk xxmaj # . 5 xxrep really xxmaj xxbos</td>\n",
              "      <td>fear</td>\n",
              "    </tr>\n",
              "  </tbody>\n",
              "</table>"
            ],
            "text/plain": [
              "<IPython.core.display.HTML object>"
            ]
          },
          "metadata": {
            "tags": []
          }
        }
      ]
    },
    {
      "cell_type": "code",
      "metadata": {
        "id": "6mqubFvwdbzE",
        "colab_type": "code",
        "colab": {}
      },
      "source": [
        "learn_c_bwd = text_classifier_learner(data_clas_bwd, AWD_LSTM, drop_mult=0.3, metrics=[accuracy,f1])\n",
        "learn_c_bwd.load_encoder('fine_tuned_enc')\n",
        "learn_c_bwd.freeze()"
      ],
      "execution_count": 0,
      "outputs": []
    },
    {
      "cell_type": "code",
      "metadata": {
        "id": "uIzHOfSTdbpU",
        "colab_type": "code",
        "colab": {
          "base_uri": "https://localhost:8080/",
          "height": 142
        },
        "outputId": "00901095-6db0-41c7-e969-56f82cd6fc8f"
      },
      "source": [
        "learn_c_bwd.lr_find()"
      ],
      "execution_count": 94,
      "outputs": [
        {
          "output_type": "display_data",
          "data": {
            "text/html": [
              "\n",
              "    <div>\n",
              "        <style>\n",
              "            /* Turns off some styling */\n",
              "            progress {\n",
              "                /* gets rid of default border in Firefox and Opera. */\n",
              "                border: none;\n",
              "                /* Needs to be in here for Safari polyfill so background images work as expected. */\n",
              "                background-size: auto;\n",
              "            }\n",
              "            .progress-bar-interrupted, .progress-bar-interrupted::-webkit-progress-bar {\n",
              "                background: #F44336;\n",
              "            }\n",
              "        </style>\n",
              "      <progress value='1' class='' max='2' style='width:300px; height:20px; vertical-align: middle;'></progress>\n",
              "      50.00% [1/2 00:04<00:04]\n",
              "    </div>\n",
              "    \n",
              "<table border=\"1\" class=\"dataframe\">\n",
              "  <thead>\n",
              "    <tr style=\"text-align: left;\">\n",
              "      <th>epoch</th>\n",
              "      <th>train_loss</th>\n",
              "      <th>valid_loss</th>\n",
              "      <th>accuracy</th>\n",
              "      <th>f1</th>\n",
              "      <th>time</th>\n",
              "    </tr>\n",
              "  </thead>\n",
              "  <tbody>\n",
              "    <tr>\n",
              "      <td>0</td>\n",
              "      <td>1.428585</td>\n",
              "      <td>#na#</td>\n",
              "      <td>00:04</td>\n",
              "    </tr>\n",
              "  </tbody>\n",
              "</table><p>\n",
              "\n",
              "    <div>\n",
              "        <style>\n",
              "            /* Turns off some styling */\n",
              "            progress {\n",
              "                /* gets rid of default border in Firefox and Opera. */\n",
              "                border: none;\n",
              "                /* Needs to be in here for Safari polyfill so background images work as expected. */\n",
              "                background-size: auto;\n",
              "            }\n",
              "            .progress-bar-interrupted, .progress-bar-interrupted::-webkit-progress-bar {\n",
              "                background: #F44336;\n",
              "            }\n",
              "        </style>\n",
              "      <progress value='29' class='' max='66' style='width:300px; height:20px; vertical-align: middle;'></progress>\n",
              "      43.94% [29/66 00:02<00:02 4.1325]\n",
              "    </div>\n",
              "    "
            ],
            "text/plain": [
              "<IPython.core.display.HTML object>"
            ]
          },
          "metadata": {
            "tags": []
          }
        },
        {
          "output_type": "stream",
          "text": [
            "LR Finder is complete, type {learner_name}.recorder.plot() to see the graph.\n"
          ],
          "name": "stdout"
        }
      ]
    },
    {
      "cell_type": "code",
      "metadata": {
        "id": "Kzoh02wjeWHx",
        "colab_type": "code",
        "colab": {
          "base_uri": "https://localhost:8080/",
          "height": 278
        },
        "outputId": "c525167f-8ddb-4ee8-dc80-4796692dd542"
      },
      "source": [
        "learn_c_bwd.recorder.plot()"
      ],
      "execution_count": 95,
      "outputs": [
        {
          "output_type": "display_data",
          "data": {
            "image/png": "[encoded data removed]",
            "text/plain": [
              "<Figure size 432x288 with 1 Axes>"
            ]
          },
          "metadata": {
            "tags": [],
            "needs_background": "light"
          }
        }
      ]
    },
    {
      "cell_type": "code",
      "metadata": {
        "id": "LDO3AnvfeWFM",
        "colab_type": "code",
        "colab": {}
      },
      "source": [
        "lr = 3e-2"
      ],
      "execution_count": 0,
      "outputs": []
    },
    {
      "cell_type": "code",
      "metadata": {
        "id": "IfpNLtAMeWDG",
        "colab_type": "code",
        "colab": {
          "base_uri": "https://localhost:8080/",
          "height": 167
        },
        "outputId": "d90a5153-16c6-4441-cc26-ba31c4713c52"
      },
      "source": [
        "learn_c_bwd.fit_one_cycle(4, 3e-2, moms=(0.8,0.7))"
      ],
      "execution_count": 97,
      "outputs": [
        {
          "output_type": "display_data",
          "data": {
            "text/html": [
              "<table border=\"1\" class=\"dataframe\">\n",
              "  <thead>\n",
              "    <tr style=\"text-align: left;\">\n",
              "      <th>epoch</th>\n",
              "      <th>train_loss</th>\n",
              "      <th>valid_loss</th>\n",
              "      <th>accuracy</th>\n",
              "      <th>f1</th>\n",
              "      <th>time</th>\n",
              "    </tr>\n",
              "  </thead>\n",
              "  <tbody>\n",
              "    <tr>\n",
              "      <td>0</td>\n",
              "      <td>1.256203</td>\n",
              "      <td>1.152390</td>\n",
              "      <td>0.474083</td>\n",
              "      <td>0.406483</td>\n",
              "      <td>0.457829</td>\n",
              "      <td>00:04</td>\n",
              "    </tr>\n",
              "    <tr>\n",
              "      <td>1</td>\n",
              "      <td>1.174102</td>\n",
              "      <td>1.122275</td>\n",
              "      <td>0.506953</td>\n",
              "      <td>0.466408</td>\n",
              "      <td>0.505649</td>\n",
              "      <td>00:04</td>\n",
              "    </tr>\n",
              "    <tr>\n",
              "      <td>2</td>\n",
              "      <td>1.084823</td>\n",
              "      <td>1.081813</td>\n",
              "      <td>0.527181</td>\n",
              "      <td>0.504617</td>\n",
              "      <td>0.558018</td>\n",
              "      <td>00:05</td>\n",
              "    </tr>\n",
              "    <tr>\n",
              "      <td>3</td>\n",
              "      <td>0.953870</td>\n",
              "      <td>1.068474</td>\n",
              "      <td>0.539823</td>\n",
              "      <td>0.492903</td>\n",
              "      <td>0.579622</td>\n",
              "      <td>00:05</td>\n",
              "    </tr>\n",
              "  </tbody>\n",
              "</table>"
            ],
            "text/plain": [
              "<IPython.core.display.HTML object>"
            ]
          },
          "metadata": {
            "tags": []
          }
        }
      ]
    },
    {
      "cell_type": "code",
      "metadata": {
        "id": "r_t_br2ieWAP",
        "colab_type": "code",
        "colab": {
          "base_uri": "https://localhost:8080/",
          "height": 77
        },
        "outputId": "1af573af-a20f-410b-e6d9-f59740410f76"
      },
      "source": [
        "learn_c_bwd.freeze_to(-2)\n",
        "learn_c_bwd.fit_one_cycle(1, slice(lr/(2.6**4),lr), moms=(0.8,0.7))"
      ],
      "execution_count": 99,
      "outputs": [
        {
          "output_type": "display_data",
          "data": {
            "text/html": [
              "<table border=\"1\" class=\"dataframe\">\n",
              "  <thead>\n",
              "    <tr style=\"text-align: left;\">\n",
              "      <th>epoch</th>\n",
              "      <th>train_loss</th>\n",
              "      <th>valid_loss</th>\n",
              "      <th>accuracy</th>\n",
              "      <th>f1</th>\n",
              "      <th>time</th>\n",
              "    </tr>\n",
              "  </thead>\n",
              "  <tbody>\n",
              "    <tr>\n",
              "      <td>0</td>\n",
              "      <td>1.121545</td>\n",
              "      <td>1.008387</td>\n",
              "      <td>0.589128</td>\n",
              "      <td>0.511222</td>\n",
              "      <td>0.576268</td>\n",
              "      <td>00:05</td>\n",
              "    </tr>\n",
              "  </tbody>\n",
              "</table>"
            ],
            "text/plain": [
              "<IPython.core.display.HTML object>"
            ]
          },
          "metadata": {
            "tags": []
          }
        }
      ]
    },
    {
      "cell_type": "code",
      "metadata": {
        "id": "16OD8wvwe7IP",
        "colab_type": "code",
        "colab": {
          "base_uri": "https://localhost:8080/",
          "height": 77
        },
        "outputId": "f434bd72-8afc-4f40-f1a2-38770b5c3800"
      },
      "source": [
        "learn_c_bwd.freeze_to(-3)\n",
        "learn_c_bwd.fit_one_cycle(1, slice(lr/2/(2.6**4),lr/2), moms=(0.8,0.7))"
      ],
      "execution_count": 100,
      "outputs": [
        {
          "output_type": "display_data",
          "data": {
            "text/html": [
              "<table border=\"1\" class=\"dataframe\">\n",
              "  <thead>\n",
              "    <tr style=\"text-align: left;\">\n",
              "      <th>epoch</th>\n",
              "      <th>train_loss</th>\n",
              "      <th>valid_loss</th>\n",
              "      <th>accuracy</th>\n",
              "      <th>f1</th>\n",
              "      <th>time</th>\n",
              "    </tr>\n",
              "  </thead>\n",
              "  <tbody>\n",
              "    <tr>\n",
              "      <td>0</td>\n",
              "      <td>0.823924</td>\n",
              "      <td>0.687848</td>\n",
              "      <td>0.745891</td>\n",
              "      <td>0.718855</td>\n",
              "      <td>0.749188</td>\n",
              "      <td>00:05</td>\n",
              "    </tr>\n",
              "  </tbody>\n",
              "</table>"
            ],
            "text/plain": [
              "<IPython.core.display.HTML object>"
            ]
          },
          "metadata": {
            "tags": []
          }
        }
      ]
    },
    {
      "cell_type": "code",
      "metadata": {
        "id": "c9AM0GkXe7G4",
        "colab_type": "code",
        "colab": {}
      },
      "source": [
        "learn_c_bwd.save('3rd_bwd')"
      ],
      "execution_count": 0,
      "outputs": []
    },
    {
      "cell_type": "code",
      "metadata": {
        "id": "rnzNYDA2e7C5",
        "colab_type": "code",
        "colab": {
          "base_uri": "https://localhost:8080/",
          "height": 107
        },
        "outputId": "064136f8-3140-461c-fce2-13dbdb6e5be4"
      },
      "source": [
        "learn_c_bwd.unfreeze()\n",
        "learn_c_bwd.fit_one_cycle(2, slice(lr/10/(2.6**4),lr/10), moms=(0.8,0.7))"
      ],
      "execution_count": 102,
      "outputs": [
        {
          "output_type": "display_data",
          "data": {
            "text/html": [
              "<table border=\"1\" class=\"dataframe\">\n",
              "  <thead>\n",
              "    <tr style=\"text-align: left;\">\n",
              "      <th>epoch</th>\n",
              "      <th>train_loss</th>\n",
              "      <th>valid_loss</th>\n",
              "      <th>accuracy</th>\n",
              "      <th>f1</th>\n",
              "      <th>time</th>\n",
              "    </tr>\n",
              "  </thead>\n",
              "  <tbody>\n",
              "    <tr>\n",
              "      <td>0</td>\n",
              "      <td>0.495749</td>\n",
              "      <td>0.522445</td>\n",
              "      <td>0.787611</td>\n",
              "      <td>0.788428</td>\n",
              "      <td>0.790110</td>\n",
              "      <td>00:06</td>\n",
              "    </tr>\n",
              "    <tr>\n",
              "      <td>1</td>\n",
              "      <td>0.374953</td>\n",
              "      <td>0.541523</td>\n",
              "      <td>0.791403</td>\n",
              "      <td>0.797810</td>\n",
              "      <td>0.784605</td>\n",
              "      <td>00:06</td>\n",
              "    </tr>\n",
              "  </tbody>\n",
              "</table>"
            ],
            "text/plain": [
              "<IPython.core.display.HTML object>"
            ]
          },
          "metadata": {
            "tags": []
          }
        }
      ]
    },
    {
      "cell_type": "code",
      "metadata": {
        "id": "nbC17Nize6_O",
        "colab_type": "code",
        "colab": {}
      },
      "source": [
        "learn_c_bwd.save('clas_bwd')"
      ],
      "execution_count": 0,
      "outputs": []
    },
    {
      "cell_type": "markdown",
      "metadata": {
        "id": "yhEsSCQTbrlf",
        "colab_type": "text"
      },
      "source": [
        "### Ensemble - bidirectional model"
      ]
    },
    {
      "cell_type": "code",
      "metadata": {
        "id": "Qz9NFdrsbxQ7",
        "colab_type": "code",
        "colab": {}
      },
      "source": [
        "data_clas = load_data(DATA_PATH, 'twitter_textlist_class', bs=48, num_workers=1)\n",
        "learn_c = text_classifier_learner(data_clas, AWD_LSTM, drop_mult=0.5, metrics=[accuracy,f1])\n",
        "learn_c.load('clas', purge=False);"
      ],
      "execution_count": 0,
      "outputs": []
    },
    {
      "cell_type": "code",
      "metadata": {
        "id": "5moCWhjVbxPB",
        "colab_type": "code",
        "colab": {
          "base_uri": "https://localhost:8080/",
          "height": 34
        },
        "outputId": "40ca9d5b-e833-4b1e-a22f-c61b1fa3ce89"
      },
      "source": [
        "preds,targs = learn_c.get_preds(ordered=True)\n",
        "accuracy(preds,targs),f1(preds,targs)"
      ],
      "execution_count": 87,
      "outputs": [
        {
          "output_type": "display_data",
          "data": {
            "text/html": [
              ""
            ],
            "text/plain": [
              "<IPython.core.display.HTML object>"
            ]
          },
          "metadata": {
            "tags": []
          }
        },
        {
          "output_type": "execute_result",
          "data": {
            "text/plain": [
              "(tensor(0.7914), tensor([0.7872, 0.8198, 0.8436, 0.6997], dtype=torch.float64))"
            ]
          },
          "metadata": {
            "tags": []
          },
          "execution_count": 87
        }
      ]
    },
    {
      "cell_type": "code",
      "metadata": {
        "id": "cihOBUQybxLP",
        "colab_type": "code",
        "colab": {}
      },
      "source": [
        "data_clas_bwd = load_data(DATA_PATH, 'twitter_textlist_class_bwd', bs=48, num_workers=1, backwards=True)\n",
        "learn_c_bwd = text_classifier_learner(data_clas_bwd, AWD_LSTM, drop_mult=0.5, metrics=[accuracy,f1])\n",
        "learn_c_bwd.load('clas_bwd', purge=False);"
      ],
      "execution_count": 0,
      "outputs": []
    },
    {
      "cell_type": "code",
      "metadata": {
        "id": "MenpV9cqc-4e",
        "colab_type": "code",
        "colab": {
          "base_uri": "https://localhost:8080/",
          "height": 34
        },
        "outputId": "78613ae0-4720-46d3-b0ac-2386ee6cf941"
      },
      "source": [
        "preds_b,targs_b = learn_c_bwd.get_preds(ordered=True)\n",
        "accuracy(preds_b,targs_b),f1(preds_b,targs_b)"
      ],
      "execution_count": 105,
      "outputs": [
        {
          "output_type": "display_data",
          "data": {
            "text/html": [
              ""
            ],
            "text/plain": [
              "<IPython.core.display.HTML object>"
            ]
          },
          "metadata": {
            "tags": []
          }
        },
        {
          "output_type": "execute_result",
          "data": {
            "text/plain": [
              "(tensor(0.7927), tensor([0.8021, 0.8038, 0.8507, 0.6997], dtype=torch.float64))"
            ]
          },
          "metadata": {
            "tags": []
          },
          "execution_count": 105
        }
      ]
    },
    {
      "cell_type": "code",
      "metadata": {
        "id": "xI1yXJt3fweo",
        "colab_type": "code",
        "colab": {}
      },
      "source": [
        "preds_avg = (preds+preds_b)/2"
      ],
      "execution_count": 0,
      "outputs": []
    },
    {
      "cell_type": "code",
      "metadata": {
        "id": "rS947mNQfwTt",
        "colab_type": "code",
        "colab": {
          "base_uri": "https://localhost:8080/",
          "height": 34
        },
        "outputId": "4695015c-3752-4951-ec98-d35adda4bfc4"
      },
      "source": [
        "accuracy(preds_avg,targs_b),f1(preds_avg,targs_b)"
      ],
      "execution_count": 107,
      "outputs": [
        {
          "output_type": "execute_result",
          "data": {
            "text/plain": [
              "(tensor(0.8180), tensor([0.8241, 0.8356, 0.8676, 0.7295], dtype=torch.float64))"
            ]
          },
          "metadata": {
            "tags": []
          },
          "execution_count": 107
        }
      ]
    },
    {
      "cell_type": "code",
      "metadata": {
        "id": "2pkfZV4_fwGu",
        "colab_type": "code",
        "colab": {}
      },
      "source": [
        ""
      ],
      "execution_count": 0,
      "outputs": []
    },
    {
      "cell_type": "markdown",
      "metadata": {
        "id": "EVus631Df7Ot",
        "colab_type": "text"
      },
      "source": [
        "### Predictions"
      ]
    },
    {
      "cell_type": "code",
      "metadata": {
        "id": "jlQJHyb7mdk6",
        "colab_type": "code",
        "colab": {}
      },
      "source": [
        "def predict_emotion(text):\n",
        "  data_clas = load_data(DATA_PATH, 'twitter_textlist_class', bs=48, num_workers=1)\n",
        "  learn_c = text_classifier_learner(data_clas, AWD_LSTM, drop_mult=0.5, metrics=[accuracy,f1])\n",
        "  learn_c.load('clas', purge=False);\n",
        "\n",
        "  data_clas_bwd = load_data(DATA_PATH, 'twitter_textlist_class_bwd', bs=48, num_workers=1, backwards=True)\n",
        "  learn_c_bwd = text_classifier_learner(data_clas_bwd, AWD_LSTM, drop_mult=0.5, metrics=[accuracy,f1])\n",
        "  learn_c_bwd.load('clas_bwd', purge=False)\n",
        "\n",
        "  pred = learn_c.predict(text)\n",
        "  pred_b = learn_c_bwd.predict(text)\n",
        "\n",
        "  return pred, pred_b"
      ],
      "execution_count": 0,
      "outputs": []
    },
    {
      "cell_type": "code",
      "metadata": {
        "id": "68z4FVrnKw0H",
        "colab_type": "code",
        "outputId": "d5a82e51-38ee-481a-871e-2c4553bb3213",
        "colab": {
          "base_uri": "https://localhost:8080/",
          "height": 123
        }
      },
      "source": [
        "predict_emotion('#raging')\n",
        "# learn_c.predict(\"#raging\")"
      ],
      "execution_count": 122,
      "outputs": [
        {
          "output_type": "execute_result",
          "data": {
            "text/plain": [
              "((Category anger,\n",
              "  tensor(0),\n",
              "  tensor([9.9995e-01, 2.3923e-05, 1.9431e-05, 4.0864e-06])),\n",
              " (Category anger,\n",
              "  tensor(0),\n",
              "  tensor([1.0000e+00, 3.0629e-07, 7.9551e-07, 9.1390e-08])))"
            ]
          },
          "metadata": {
            "tags": []
          },
          "execution_count": 122
        }
      ]
    },
    {
      "cell_type": "code",
      "metadata": {
        "id": "XeENBgG_Ky7b",
        "colab_type": "code",
        "outputId": "a87f38e1-24e2-4ff6-9a1b-07ef3729ec2f",
        "colab": {
          "base_uri": "https://localhost:8080/",
          "height": 123
        }
      },
      "source": [
        "predict_emotion(\"#happy\")"
      ],
      "execution_count": 123,
      "outputs": [
        {
          "output_type": "execute_result",
          "data": {
            "text/plain": [
              "((Category joy,\n",
              "  tensor(2),\n",
              "  tensor([1.0451e-03, 4.2923e-05, 9.9811e-01, 8.0074e-04])),\n",
              " (Category joy,\n",
              "  tensor(2),\n",
              "  tensor([3.4354e-05, 4.4864e-06, 9.9956e-01, 3.9658e-04])))"
            ]
          },
          "metadata": {
            "tags": []
          },
          "execution_count": 123
        }
      ]
    },
    {
      "cell_type": "code",
      "metadata": {
        "id": "ZsW5xqeaLI3z",
        "colab_type": "code",
        "outputId": "685e8b1b-b3fd-4e9a-bc8f-493b2e6651dc",
        "colab": {
          "base_uri": "https://localhost:8080/",
          "height": 52
        }
      },
      "source": [
        "predict_emotion(\"I wish I could end my life!\")"
      ],
      "execution_count": 124,
      "outputs": [
        {
          "output_type": "execute_result",
          "data": {
            "text/plain": [
              "((Category fear, tensor(1), tensor([0.0786, 0.5774, 0.0554, 0.2887])),\n",
              " (Category sadness, tensor(3), tensor([0.1602, 0.2600, 0.0524, 0.5274])))"
            ]
          },
          "metadata": {
            "tags": []
          },
          "execution_count": 124
        }
      ]
    },
    {
      "cell_type": "code",
      "metadata": {
        "id": "ZK79uS0eMFD_",
        "colab_type": "code",
        "outputId": "349b7c80-0b6b-4bcf-9447-58a6831704ad",
        "colab": {
          "base_uri": "https://localhost:8080/",
          "height": 52
        }
      },
      "source": [
        "predict_emotion(\"After watching DDLJ I kept on crying\")"
      ],
      "execution_count": 125,
      "outputs": [
        {
          "output_type": "execute_result",
          "data": {
            "text/plain": [
              "((Category sadness, tensor(3), tensor([0.0352, 0.0526, 0.0465, 0.8658])),\n",
              " (Category sadness, tensor(3), tensor([0.0192, 0.0060, 0.4572, 0.5176])))"
            ]
          },
          "metadata": {
            "tags": []
          },
          "execution_count": 125
        }
      ]
    },
    {
      "cell_type": "code",
      "metadata": {
        "id": "nA54FabPMeHv",
        "colab_type": "code",
        "outputId": "9eaca6e3-b35c-44f5-b3f0-d7553ad406f8",
        "colab": {
          "base_uri": "https://localhost:8080/",
          "height": 52
        }
      },
      "source": [
        "predict_emotion(\"fuck you\")"
      ],
      "execution_count": 126,
      "outputs": [
        {
          "output_type": "execute_result",
          "data": {
            "text/plain": [
              "((Category anger, tensor(0), tensor([0.9364, 0.0315, 0.0160, 0.0161])),\n",
              " (Category anger, tensor(0), tensor([0.5795, 0.3987, 0.0014, 0.0203])))"
            ]
          },
          "metadata": {
            "tags": []
          },
          "execution_count": 126
        }
      ]
    },
    {
      "cell_type": "code",
      "metadata": {
        "id": "C9PI_K56Micl",
        "colab_type": "code",
        "outputId": "7b4a2cf3-8fb9-4221-9320-b77738b4a823",
        "colab": {
          "base_uri": "https://localhost:8080/",
          "height": 52
        }
      },
      "source": [
        "predict_emotion(\"This isn't fair and you'll pay for this...\")"
      ],
      "execution_count": 127,
      "outputs": [
        {
          "output_type": "execute_result",
          "data": {
            "text/plain": [
              "((Category joy, tensor(2), tensor([0.2150, 0.1651, 0.3424, 0.2775])),\n",
              " (Category fear, tensor(1), tensor([0.0234, 0.7808, 0.0885, 0.1073])))"
            ]
          },
          "metadata": {
            "tags": []
          },
          "execution_count": 127
        }
      ]
    },
    {
      "cell_type": "code",
      "metadata": {
        "id": "SupcvMv3QM4P",
        "colab_type": "code",
        "outputId": "156df3f5-fe7b-4743-d045-4ed550681d04",
        "colab": {
          "base_uri": "https://localhost:8080/",
          "height": 52
        }
      },
      "source": [
        "predict_emotion(\"How I wish I was with you\")"
      ],
      "execution_count": 128,
      "outputs": [
        {
          "output_type": "execute_result",
          "data": {
            "text/plain": [
              "((Category fear, tensor(1), tensor([0.2209, 0.3975, 0.1245, 0.2571])),\n",
              " (Category sadness, tensor(3), tensor([0.0232, 0.2044, 0.1866, 0.5859])))"
            ]
          },
          "metadata": {
            "tags": []
          },
          "execution_count": 128
        }
      ]
    },
    {
      "cell_type": "code",
      "metadata": {
        "id": "k9sFy0xxQkJU",
        "colab_type": "code",
        "outputId": "cd557d02-2c16-4530-993b-c363c579b971",
        "colab": {
          "base_uri": "https://localhost:8080/",
          "height": 52
        }
      },
      "source": [
        "predict_emotion(\"Hurray! I am so happy for you!\")"
      ],
      "execution_count": 129,
      "outputs": [
        {
          "output_type": "execute_result",
          "data": {
            "text/plain": [
              "((Category joy, tensor(2), tensor([0.0029, 0.0019, 0.9819, 0.0132])),\n",
              " (Category joy, tensor(2), tensor([0.0019, 0.0019, 0.9888, 0.0074])))"
            ]
          },
          "metadata": {
            "tags": []
          },
          "execution_count": 129
        }
      ]
    },
    {
      "cell_type": "code",
      "metadata": {
        "id": "sw57EE4RQyBq",
        "colab_type": "code",
        "outputId": "94da1bec-5cff-4dad-fe5a-c7427f45367c",
        "colab": {
          "base_uri": "https://localhost:8080/",
          "height": 87
        }
      },
      "source": [
        "predict_emotion(\"I knew you were going to achieve this #happy\")"
      ],
      "execution_count": 130,
      "outputs": [
        {
          "output_type": "execute_result",
          "data": {
            "text/plain": [
              "((Category joy, tensor(2), tensor([0.0210, 0.0607, 0.9115, 0.0068])),\n",
              " (Category joy,\n",
              "  tensor(2),\n",
              "  tensor([7.8778e-04, 2.2121e-03, 9.9352e-01, 3.4780e-03])))"
            ]
          },
          "metadata": {
            "tags": []
          },
          "execution_count": 130
        }
      ]
    },
    {
      "cell_type": "code",
      "metadata": {
        "id": "PkyCPwitRBgQ",
        "colab_type": "code",
        "colab": {}
      },
      "source": [
        ""
      ],
      "execution_count": 0,
      "outputs": []
    },
    {
      "cell_type": "markdown",
      "metadata": {
        "id": "acvTl5jvZheV",
        "colab_type": "text"
      },
      "source": [
        "### Anger - Regression"
      ]
    },
    {
      "cell_type": "code",
      "metadata": {
        "id": "XmNnoyX1ZgzR",
        "colab_type": "code",
        "colab": {}
      },
      "source": [
        "anger_df = pd.read_csv(DATA_PATH/\"anger_df.csv\")"
      ],
      "execution_count": 0,
      "outputs": []
    },
    {
      "cell_type": "code",
      "metadata": {
        "id": "bHsFB2ClrrCq",
        "colab_type": "code",
        "colab": {
          "base_uri": "https://localhost:8080/",
          "height": 72
        },
        "outputId": "809ea863-cdcd-44c8-e5ff-53dcd61fd51b"
      },
      "source": [
        "data_anger_lm = (TextList.from_df(anger_df, DATA_PATH, cols=[\"text\"])\n",
        "                  .random_split_by_pct(0.1)\n",
        "                  .label_for_lm()\n",
        "                  .databunch(bs=48))"
      ],
      "execution_count": 171,
      "outputs": [
        {
          "output_type": "stream",
          "text": [
            "/usr/local/lib/python3.6/dist-packages/fastai/data_block.py:215: UserWarning: `random_split_by_pct` is deprecated, please use `split_by_rand_pct`.\n",
            "  warn(\"`random_split_by_pct` is deprecated, please use `split_by_rand_pct`.\")\n"
          ],
          "name": "stderr"
        },
        {
          "output_type": "display_data",
          "data": {
            "text/html": [
              ""
            ],
            "text/plain": [
              "<IPython.core.display.HTML object>"
            ]
          },
          "metadata": {
            "tags": []
          }
        },
        {
          "output_type": "display_data",
          "data": {
            "text/html": [
              ""
            ],
            "text/plain": [
              "<IPython.core.display.HTML object>"
            ]
          },
          "metadata": {
            "tags": []
          }
        }
      ]
    },
    {
      "cell_type": "code",
      "metadata": {
        "id": "KbTGqpFarrAY",
        "colab_type": "code",
        "colab": {
          "base_uri": "https://localhost:8080/",
          "height": 314
        },
        "outputId": "2390121b-a0b3-49ab-db48-655340ad1c51"
      },
      "source": [
        "data_anger_lm.show_batch()"
      ],
      "execution_count": 172,
      "outputs": [
        {
          "output_type": "display_data",
          "data": {
            "text/html": [
              "<table border=\"1\" class=\"dataframe\">\n",
              "  <thead>\n",
              "    <tr style=\"text-align: right;\">\n",
              "      <th>idx</th>\n",
              "      <th>text</th>\n",
              "    </tr>\n",
              "  </thead>\n",
              "  <tbody>\n",
              "    <tr>\n",
              "      <td>0</td>\n",
              "      <td>pissed # angry # upset # tired # sad # tired # hangry xxrep 6 # xxbos xxmaj do n't xxunk xxunk they put the phone down on you , talk over you and are rude . xxmaj taking money out of my xxunk xxunk ! # fuming xxbos xxmaj my blood is boiling xxbos xxmaj when you 've still got a whole season of xxmaj xxunk to watch and</td>\n",
              "    </tr>\n",
              "    <tr>\n",
              "      <td>1</td>\n",
              "      <td>and what not so xxunk . # damn xxbos xxmaj making my xxunk cry ! ! xxmaj xxunk wait for revenge 🤗 xxunk 🏻 xxbos xxmaj xxunk ! xxmaj you do n't just tell a true xxunk xxunk to switch a xxunk ' team that juz xxunk your own team . xxmaj you juz do n't ! # insult xxbos i got a xxup no xxup response again from an</td>\n",
              "    </tr>\n",
              "    <tr>\n",
              "      <td>2</td>\n",
              "      <td>xxunk the xxmaj world in the xxunk of their tantrums . xxmaj you are one . xxbos xxunk ' you people ' infuriate me ! xxbos xxunk xxmaj xxunk is that the party did decide but the party has been xxunk xxunk into a xxunk hell - xxunk of white xxunk resentment xxbos xxmaj so # angry about my xxunk order . 6 # xxunk xxunk i xxunk an order</td>\n",
              "    </tr>\n",
              "    <tr>\n",
              "      <td>3</td>\n",
              "      <td>xxunk and xxunk off 😡 xxbos i 'm nothing but a xxunk and bitter xxunk xxbos xxunk something needs to be done about people xxunk machines - nobody can use 3 machines at one time ! # angry # xxunk # xxunk xxbos xxunk xxmaj xxunk people still got a grudge against him for no xxunk like wtf ? ! xxbos xxunk then he said talking about xxunk xxunk xxunk</td>\n",
              "    </tr>\n",
              "    <tr>\n",
              "      <td>4</td>\n",
              "      <td>person ruins season xxunk for me , i will be so angry xxbos xxmaj what the fuck am i supposed to do with no xxunk , no dinner , no money and i 'm off to work # hangry # xxunk xxbos xxunk not only are your xxunk xxunk your e ticket xxunk is too xxunk to get on two xxunk and late for work # fuming # xxunk reply</td>\n",
              "    </tr>\n",
              "  </tbody>\n",
              "</table>"
            ],
            "text/plain": [
              "<IPython.core.display.HTML object>"
            ]
          },
          "metadata": {
            "tags": []
          }
        }
      ]
    },
    {
      "cell_type": "code",
      "metadata": {
        "id": "erBJAvqnrq8J",
        "colab_type": "code",
        "colab": {}
      },
      "source": [
        "learn_anger_lm = language_model_learner(data_anger_lm, AWD_LSTM, drop_mult=0.3)"
      ],
      "execution_count": 0,
      "outputs": []
    },
    {
      "cell_type": "code",
      "metadata": {
        "id": "472PKT66rq0u",
        "colab_type": "code",
        "colab": {
          "base_uri": "https://localhost:8080/",
          "height": 592
        },
        "outputId": "9b40711f-76bb-4c9a-a5c1-7be7e3a1718b"
      },
      "source": [
        "learn_anger_lm.lr_find()"
      ],
      "execution_count": 174,
      "outputs": [
        {
          "output_type": "display_data",
          "data": {
            "text/html": [
              "\n",
              "    <div>\n",
              "        <style>\n",
              "            /* Turns off some styling */\n",
              "            progress {\n",
              "                /* gets rid of default border in Firefox and Opera. */\n",
              "                border: none;\n",
              "                /* Needs to be in here for Safari polyfill so background images work as expected. */\n",
              "                background-size: auto;\n",
              "            }\n",
              "            .progress-bar-interrupted, .progress-bar-interrupted::-webkit-progress-bar {\n",
              "                background: #F44336;\n",
              "            }\n",
              "        </style>\n",
              "      <progress value='16' class='' max='17' style='width:300px; height:20px; vertical-align: middle;'></progress>\n",
              "      94.12% [16/17 00:16<00:01]\n",
              "    </div>\n",
              "    \n",
              "<table border=\"1\" class=\"dataframe\">\n",
              "  <thead>\n",
              "    <tr style=\"text-align: left;\">\n",
              "      <th>epoch</th>\n",
              "      <th>train_loss</th>\n",
              "      <th>valid_loss</th>\n",
              "      <th>accuracy</th>\n",
              "      <th>time</th>\n",
              "    </tr>\n",
              "  </thead>\n",
              "  <tbody>\n",
              "    <tr>\n",
              "      <td>0</td>\n",
              "      <td>5.478011</td>\n",
              "      <td>#na#</td>\n",
              "      <td>00:01</td>\n",
              "    </tr>\n",
              "    <tr>\n",
              "      <td>1</td>\n",
              "      <td>5.473163</td>\n",
              "      <td>#na#</td>\n",
              "      <td>00:01</td>\n",
              "    </tr>\n",
              "    <tr>\n",
              "      <td>2</td>\n",
              "      <td>5.462732</td>\n",
              "      <td>#na#</td>\n",
              "      <td>00:01</td>\n",
              "    </tr>\n",
              "    <tr>\n",
              "      <td>3</td>\n",
              "      <td>5.462732</td>\n",
              "      <td>#na#</td>\n",
              "      <td>00:01</td>\n",
              "    </tr>\n",
              "    <tr>\n",
              "      <td>4</td>\n",
              "      <td>5.463596</td>\n",
              "      <td>#na#</td>\n",
              "      <td>00:01</td>\n",
              "    </tr>\n",
              "    <tr>\n",
              "      <td>5</td>\n",
              "      <td>5.462108</td>\n",
              "      <td>#na#</td>\n",
              "      <td>00:01</td>\n",
              "    </tr>\n",
              "    <tr>\n",
              "      <td>6</td>\n",
              "      <td>5.454788</td>\n",
              "      <td>#na#</td>\n",
              "      <td>00:01</td>\n",
              "    </tr>\n",
              "    <tr>\n",
              "      <td>7</td>\n",
              "      <td>5.430924</td>\n",
              "      <td>#na#</td>\n",
              "      <td>00:01</td>\n",
              "    </tr>\n",
              "    <tr>\n",
              "      <td>8</td>\n",
              "      <td>5.401912</td>\n",
              "      <td>#na#</td>\n",
              "      <td>00:01</td>\n",
              "    </tr>\n",
              "    <tr>\n",
              "      <td>9</td>\n",
              "      <td>5.335482</td>\n",
              "      <td>#na#</td>\n",
              "      <td>00:01</td>\n",
              "    </tr>\n",
              "    <tr>\n",
              "      <td>10</td>\n",
              "      <td>5.200195</td>\n",
              "      <td>#na#</td>\n",
              "      <td>00:01</td>\n",
              "    </tr>\n",
              "    <tr>\n",
              "      <td>11</td>\n",
              "      <td>5.001454</td>\n",
              "      <td>#na#</td>\n",
              "      <td>00:01</td>\n",
              "    </tr>\n",
              "    <tr>\n",
              "      <td>12</td>\n",
              "      <td>4.772096</td>\n",
              "      <td>#na#</td>\n",
              "      <td>00:01</td>\n",
              "    </tr>\n",
              "    <tr>\n",
              "      <td>13</td>\n",
              "      <td>4.566748</td>\n",
              "      <td>#na#</td>\n",
              "      <td>00:01</td>\n",
              "    </tr>\n",
              "    <tr>\n",
              "      <td>14</td>\n",
              "      <td>4.482978</td>\n",
              "      <td>#na#</td>\n",
              "      <td>00:01</td>\n",
              "    </tr>\n",
              "    <tr>\n",
              "      <td>15</td>\n",
              "      <td>5.721010</td>\n",
              "      <td>#na#</td>\n",
              "      <td>00:01</td>\n",
              "    </tr>\n",
              "  </tbody>\n",
              "</table><p>\n",
              "\n",
              "    <div>\n",
              "        <style>\n",
              "            /* Turns off some styling */\n",
              "            progress {\n",
              "                /* gets rid of default border in Firefox and Opera. */\n",
              "                border: none;\n",
              "                /* Needs to be in here for Safari polyfill so background images work as expected. */\n",
              "                background-size: auto;\n",
              "            }\n",
              "            .progress-bar-interrupted, .progress-bar-interrupted::-webkit-progress-bar {\n",
              "                background: #F44336;\n",
              "            }\n",
              "        </style>\n",
              "      <progress value='3' class='' max='6' style='width:300px; height:20px; vertical-align: middle;'></progress>\n",
              "      50.00% [3/6 00:00<00:00 7.6830]\n",
              "    </div>\n",
              "    "
            ],
            "text/plain": [
              "<IPython.core.display.HTML object>"
            ]
          },
          "metadata": {
            "tags": []
          }
        },
        {
          "output_type": "stream",
          "text": [
            "LR Finder is complete, type {learner_name}.recorder.plot() to see the graph.\n"
          ],
          "name": "stdout"
        }
      ]
    },
    {
      "cell_type": "code",
      "metadata": {
        "id": "uejWYyn_rqq2",
        "colab_type": "code",
        "colab": {
          "base_uri": "https://localhost:8080/",
          "height": 278
        },
        "outputId": "b92cfe9b-28a8-47cb-9a03-2f29a971c52c"
      },
      "source": [
        "learn_anger_lm.recorder.plot()"
      ],
      "execution_count": 175,
      "outputs": [
        {
          "output_type": "display_data",
          "data": {
            "image/png": "[encoded data removed]",
            "text/plain": [
              "<Figure size 432x288 with 1 Axes>"
            ]
          },
          "metadata": {
            "tags": [],
            "needs_background": "light"
          }
        }
      ]
    },
    {
      "cell_type": "code",
      "metadata": {
        "id": "2uppU3SDsRK5",
        "colab_type": "code",
        "colab": {}
      },
      "source": [
        "lr = 1e-1"
      ],
      "execution_count": 0,
      "outputs": []
    },
    {
      "cell_type": "code",
      "metadata": {
        "id": "i0W5BsLXsRC2",
        "colab_type": "code",
        "colab": {
          "base_uri": "https://localhost:8080/",
          "height": 77
        },
        "outputId": "78d32534-8e47-424b-acba-b8cb58ab8fd4"
      },
      "source": [
        "learn_anger_lm.fit_one_cycle(1, lr, moms=(0.8,0.7))"
      ],
      "execution_count": 181,
      "outputs": [
        {
          "output_type": "display_data",
          "data": {
            "text/html": [
              "<table border=\"1\" class=\"dataframe\">\n",
              "  <thead>\n",
              "    <tr style=\"text-align: left;\">\n",
              "      <th>epoch</th>\n",
              "      <th>train_loss</th>\n",
              "      <th>valid_loss</th>\n",
              "      <th>accuracy</th>\n",
              "      <th>time</th>\n",
              "    </tr>\n",
              "  </thead>\n",
              "  <tbody>\n",
              "    <tr>\n",
              "      <td>0</td>\n",
              "      <td>4.952948</td>\n",
              "      <td>4.008181</td>\n",
              "      <td>0.211905</td>\n",
              "      <td>00:01</td>\n",
              "    </tr>\n",
              "  </tbody>\n",
              "</table>"
            ],
            "text/plain": [
              "<IPython.core.display.HTML object>"
            ]
          },
          "metadata": {
            "tags": []
          }
        }
      ]
    },
    {
      "cell_type": "code",
      "metadata": {
        "id": "kktWJN0isRAd",
        "colab_type": "code",
        "colab": {}
      },
      "source": [
        "learn_anger_lm.unfreeze()"
      ],
      "execution_count": 0,
      "outputs": []
    },
    {
      "cell_type": "code",
      "metadata": {
        "id": "y8uaICASsg0m",
        "colab_type": "code",
        "colab": {
          "base_uri": "https://localhost:8080/",
          "height": 347
        },
        "outputId": "ad9c7f73-746c-4456-80e9-6eeb11e6457c"
      },
      "source": [
        "learn_anger_lm.fit_one_cycle(10, lr, moms=(0.8,0.7))"
      ],
      "execution_count": 183,
      "outputs": [
        {
          "output_type": "display_data",
          "data": {
            "text/html": [
              "<table border=\"1\" class=\"dataframe\">\n",
              "  <thead>\n",
              "    <tr style=\"text-align: left;\">\n",
              "      <th>epoch</th>\n",
              "      <th>train_loss</th>\n",
              "      <th>valid_loss</th>\n",
              "      <th>accuracy</th>\n",
              "      <th>time</th>\n",
              "    </tr>\n",
              "  </thead>\n",
              "  <tbody>\n",
              "    <tr>\n",
              "      <td>0</td>\n",
              "      <td>3.984542</td>\n",
              "      <td>3.670877</td>\n",
              "      <td>0.258929</td>\n",
              "      <td>00:01</td>\n",
              "    </tr>\n",
              "    <tr>\n",
              "      <td>1</td>\n",
              "      <td>3.967871</td>\n",
              "      <td>5.183818</td>\n",
              "      <td>0.225595</td>\n",
              "      <td>00:01</td>\n",
              "    </tr>\n",
              "    <tr>\n",
              "      <td>2</td>\n",
              "      <td>4.460701</td>\n",
              "      <td>4.745324</td>\n",
              "      <td>0.220536</td>\n",
              "      <td>00:01</td>\n",
              "    </tr>\n",
              "    <tr>\n",
              "      <td>3</td>\n",
              "      <td>4.467501</td>\n",
              "      <td>4.153651</td>\n",
              "      <td>0.244345</td>\n",
              "      <td>00:01</td>\n",
              "    </tr>\n",
              "    <tr>\n",
              "      <td>4</td>\n",
              "      <td>4.353413</td>\n",
              "      <td>3.980805</td>\n",
              "      <td>0.249702</td>\n",
              "      <td>00:01</td>\n",
              "    </tr>\n",
              "    <tr>\n",
              "      <td>5</td>\n",
              "      <td>4.214321</td>\n",
              "      <td>3.878614</td>\n",
              "      <td>0.266071</td>\n",
              "      <td>00:01</td>\n",
              "    </tr>\n",
              "    <tr>\n",
              "      <td>6</td>\n",
              "      <td>4.065575</td>\n",
              "      <td>3.817906</td>\n",
              "      <td>0.265476</td>\n",
              "      <td>00:01</td>\n",
              "    </tr>\n",
              "    <tr>\n",
              "      <td>7</td>\n",
              "      <td>3.910088</td>\n",
              "      <td>3.762522</td>\n",
              "      <td>0.277381</td>\n",
              "      <td>00:01</td>\n",
              "    </tr>\n",
              "    <tr>\n",
              "      <td>8</td>\n",
              "      <td>3.751027</td>\n",
              "      <td>3.724550</td>\n",
              "      <td>0.281548</td>\n",
              "      <td>00:01</td>\n",
              "    </tr>\n",
              "    <tr>\n",
              "      <td>9</td>\n",
              "      <td>3.601384</td>\n",
              "      <td>3.716215</td>\n",
              "      <td>0.286607</td>\n",
              "      <td>00:01</td>\n",
              "    </tr>\n",
              "  </tbody>\n",
              "</table>"
            ],
            "text/plain": [
              "<IPython.core.display.HTML object>"
            ]
          },
          "metadata": {
            "tags": []
          }
        }
      ]
    },
    {
      "cell_type": "code",
      "metadata": {
        "id": "LIKaTWgus2Go",
        "colab_type": "code",
        "colab": {}
      },
      "source": [
        "learn_anger_lm.save('fine_tuned_anger')"
      ],
      "execution_count": 0,
      "outputs": []
    },
    {
      "cell_type": "code",
      "metadata": {
        "id": "yH9Bulfssgx-",
        "colab_type": "code",
        "colab": {}
      },
      "source": [
        "learn_anger_lm.save_encoder('fine_tuned_anger_enc')"
      ],
      "execution_count": 0,
      "outputs": []
    },
    {
      "cell_type": "code",
      "metadata": {
        "id": "1NCKnyibsgvZ",
        "colab_type": "code",
        "colab": {}
      },
      "source": [
        ""
      ],
      "execution_count": 0,
      "outputs": []
    },
    {
      "cell_type": "code",
      "metadata": {
        "id": "kLsaRsswsgsW",
        "colab_type": "code",
        "colab": {}
      },
      "source": [
        ""
      ],
      "execution_count": 0,
      "outputs": []
    },
    {
      "cell_type": "code",
      "metadata": {
        "id": "U5E7ykErsQ9l",
        "colab_type": "code",
        "colab": {}
      },
      "source": [
        ""
      ],
      "execution_count": 0,
      "outputs": []
    },
    {
      "cell_type": "code",
      "metadata": {
        "id": "KdXD8T-WZtOD",
        "colab_type": "code",
        "outputId": "2c48b213-5d25-4fb6-ff90-e54f96db8ae2",
        "colab": {
          "base_uri": "https://localhost:8080/",
          "height": 16
        }
      },
      "source": [
        "anger_regr = (TextList.from_df(df=anger_df, path=DATA_PATH, cols='text', vocab=data_anger_lm.vocab)\n",
        "             .split_from_df(col='is_valid')\n",
        "             .label_from_df(cols=['intensity'], label_cls=FloatList)\n",
        "             .databunch())"
      ],
      "execution_count": 186,
      "outputs": [
        {
          "output_type": "display_data",
          "data": {
            "text/html": [
              ""
            ],
            "text/plain": [
              "<IPython.core.display.HTML object>"
            ]
          },
          "metadata": {
            "tags": []
          }
        },
        {
          "output_type": "display_data",
          "data": {
            "text/html": [
              ""
            ],
            "text/plain": [
              "<IPython.core.display.HTML object>"
            ]
          },
          "metadata": {
            "tags": []
          }
        }
      ]
    },
    {
      "cell_type": "code",
      "metadata": {
        "id": "XfNXulcYZ41G",
        "colab_type": "code",
        "outputId": "b2175f4b-c329-4a84-ed7c-e48ff848711c",
        "colab": {
          "base_uri": "https://localhost:8080/",
          "height": 247
        }
      },
      "source": [
        "anger_regr.show_batch()"
      ],
      "execution_count": 187,
      "outputs": [
        {
          "output_type": "display_data",
          "data": {
            "text/html": [
              "<table border=\"1\" class=\"dataframe\">\n",
              "  <thead>\n",
              "    <tr style=\"text-align: right;\">\n",
              "      <th>text</th>\n",
              "      <th>target</th>\n",
              "    </tr>\n",
              "  </thead>\n",
              "  <tbody>\n",
              "    <tr>\n",
              "      <td>xxbos i am # real # xxunk , i will not let # america down \\n  i have found us , now go and get us \\n  i let it out and i let it in \\n  i # rage i # lol \\n  xxunk</td>\n",
              "      <td>0.542</td>\n",
              "    </tr>\n",
              "    <tr>\n",
              "      <td>xxbos xxup someone xxup let xxup xxunk xxup in xxup my xxup house , i xxup bet xxup it xxunk i xxup kill xxup that xxup xxunk xxup when i xxup get xxup my xxup hands xxup on xxup him # rage # xxunk</td>\n",
              "      <td>0.771</td>\n",
              "    </tr>\n",
              "    <tr>\n",
              "      <td>xxbos xxmaj now it 's time to remove xxup xxunk from the team xxunk . xxmaj xxunk it . xxmaj rip the xxmaj xxunk - xxmaj xxunk off . xxmaj it 'll sting for a bit but everyone will get over it .</td>\n",
              "      <td>0.521</td>\n",
              "    </tr>\n",
              "    <tr>\n",
              "      <td>xxbos i will never watch xxunk xxunk xxwrep 5 ever again if xxmaj xxunk xxmaj xxunk takes away another xxup xxunk character ☹ ️ ☹ ️ ☹ ️ ☹ ️ ☹ ️ ☹ ️ ☹ ️ ☹ ️ ☹ ️ ☹ ️</td>\n",
              "      <td>0.583</td>\n",
              "    </tr>\n",
              "    <tr>\n",
              "      <td>xxbos xxup someone xxup let xxup xxunk xxup in xxup my xxup house , i xxup bet xxup it xxunk i xxup kill xxup that xxup xxunk xxup when i xxup get xxup my xxup hands xxup on xxup him # xxunk</td>\n",
              "      <td>0.764</td>\n",
              "    </tr>\n",
              "  </tbody>\n",
              "</table>"
            ],
            "text/plain": [
              "<IPython.core.display.HTML object>"
            ]
          },
          "metadata": {
            "tags": []
          }
        }
      ]
    },
    {
      "cell_type": "code",
      "metadata": {
        "id": "1uJkIM1DZ9Hg",
        "colab_type": "code",
        "colab": {}
      },
      "source": [
        "learn_anger = text_classifier_learner(anger_regr, AWD_LSTM, drop_mult=0.3,metrics = rmse)\n",
        "learn_anger.loss_func=MSELossFlat()\n",
        "learn_anger.load_encoder('fine_tuned_anger_enc')\n",
        "learn_anger.freeze()"
      ],
      "execution_count": 0,
      "outputs": []
    },
    {
      "cell_type": "code",
      "metadata": {
        "id": "3QtfYebsaDu3",
        "colab_type": "code",
        "outputId": "ddd5c1cf-a59a-46f8-94ff-2735e19265b5",
        "colab": {
          "base_uri": "https://localhost:8080/",
          "height": 352
        }
      },
      "source": [
        "learn_anger.lr_find()"
      ],
      "execution_count": 189,
      "outputs": [
        {
          "output_type": "display_data",
          "data": {
            "text/html": [
              "\n",
              "    <div>\n",
              "        <style>\n",
              "            /* Turns off some styling */\n",
              "            progress {\n",
              "                /* gets rid of default border in Firefox and Opera. */\n",
              "                border: none;\n",
              "                /* Needs to be in here for Safari polyfill so background images work as expected. */\n",
              "                background-size: auto;\n",
              "            }\n",
              "            .progress-bar-interrupted, .progress-bar-interrupted::-webkit-progress-bar {\n",
              "                background: #F44336;\n",
              "            }\n",
              "        </style>\n",
              "      <progress value='8' class='' max='10' style='width:300px; height:20px; vertical-align: middle;'></progress>\n",
              "      80.00% [8/10 00:07<00:01]\n",
              "    </div>\n",
              "    \n",
              "<table border=\"1\" class=\"dataframe\">\n",
              "  <thead>\n",
              "    <tr style=\"text-align: left;\">\n",
              "      <th>epoch</th>\n",
              "      <th>train_loss</th>\n",
              "      <th>valid_loss</th>\n",
              "      <th>root_mean_squared_error</th>\n",
              "      <th>time</th>\n",
              "    </tr>\n",
              "  </thead>\n",
              "  <tbody>\n",
              "    <tr>\n",
              "      <td>0</td>\n",
              "      <td>0.474289</td>\n",
              "      <td>#na#</td>\n",
              "      <td>00:01</td>\n",
              "    </tr>\n",
              "    <tr>\n",
              "      <td>1</td>\n",
              "      <td>0.464357</td>\n",
              "      <td>#na#</td>\n",
              "      <td>00:00</td>\n",
              "    </tr>\n",
              "    <tr>\n",
              "      <td>2</td>\n",
              "      <td>0.468848</td>\n",
              "      <td>#na#</td>\n",
              "      <td>00:00</td>\n",
              "    </tr>\n",
              "    <tr>\n",
              "      <td>3</td>\n",
              "      <td>0.463163</td>\n",
              "      <td>#na#</td>\n",
              "      <td>00:00</td>\n",
              "    </tr>\n",
              "    <tr>\n",
              "      <td>4</td>\n",
              "      <td>0.435988</td>\n",
              "      <td>#na#</td>\n",
              "      <td>00:01</td>\n",
              "    </tr>\n",
              "    <tr>\n",
              "      <td>5</td>\n",
              "      <td>0.393926</td>\n",
              "      <td>#na#</td>\n",
              "      <td>00:01</td>\n",
              "    </tr>\n",
              "    <tr>\n",
              "      <td>6</td>\n",
              "      <td>0.326185</td>\n",
              "      <td>#na#</td>\n",
              "      <td>00:00</td>\n",
              "    </tr>\n",
              "    <tr>\n",
              "      <td>7</td>\n",
              "      <td>0.410705</td>\n",
              "      <td>#na#</td>\n",
              "      <td>00:00</td>\n",
              "    </tr>\n",
              "  </tbody>\n",
              "</table><p>\n",
              "\n",
              "    <div>\n",
              "        <style>\n",
              "            /* Turns off some styling */\n",
              "            progress {\n",
              "                /* gets rid of default border in Firefox and Opera. */\n",
              "                border: none;\n",
              "                /* Needs to be in here for Safari polyfill so background images work as expected. */\n",
              "                background-size: auto;\n",
              "            }\n",
              "            .progress-bar-interrupted, .progress-bar-interrupted::-webkit-progress-bar {\n",
              "                background: #F44336;\n",
              "            }\n",
              "        </style>\n",
              "      <progress value='0' class='' max='11' style='width:300px; height:20px; vertical-align: middle;'></progress>\n",
              "      0.00% [0/11 00:00<00:00]\n",
              "    </div>\n",
              "    "
            ],
            "text/plain": [
              "<IPython.core.display.HTML object>"
            ]
          },
          "metadata": {
            "tags": []
          }
        },
        {
          "output_type": "stream",
          "text": [
            "LR Finder is complete, type {learner_name}.recorder.plot() to see the graph.\n"
          ],
          "name": "stdout"
        }
      ]
    },
    {
      "cell_type": "code",
      "metadata": {
        "id": "91VxyyvqaFko",
        "colab_type": "code",
        "outputId": "4abf0715-56ad-486c-a9e9-f1b7d395cba9",
        "colab": {
          "base_uri": "https://localhost:8080/",
          "height": 278
        }
      },
      "source": [
        "learn_anger.recorder.plot()"
      ],
      "execution_count": 190,
      "outputs": [
        {
          "output_type": "display_data",
          "data": {
            "image/png": "[encoded data removed]",
            "text/plain": [
              "<Figure size 432x288 with 1 Axes>"
            ]
          },
          "metadata": {
            "tags": [],
            "needs_background": "light"
          }
        }
      ]
    },
    {
      "cell_type": "code",
      "metadata": {
        "id": "RvdDdrEGoFab",
        "colab_type": "code",
        "colab": {}
      },
      "source": [
        "lr = 1e-2"
      ],
      "execution_count": 0,
      "outputs": []
    },
    {
      "cell_type": "code",
      "metadata": {
        "id": "VMhfo6SbaHR_",
        "colab_type": "code",
        "outputId": "e84eab35-f739-4d24-c03a-1cd1445ac175",
        "colab": {
          "base_uri": "https://localhost:8080/",
          "height": 77
        }
      },
      "source": [
        "learn_anger.fit_one_cycle(1, lr, moms=(0.8,0.7))"
      ],
      "execution_count": 198,
      "outputs": [
        {
          "output_type": "display_data",
          "data": {
            "text/html": [
              "<table border=\"1\" class=\"dataframe\">\n",
              "  <thead>\n",
              "    <tr style=\"text-align: left;\">\n",
              "      <th>epoch</th>\n",
              "      <th>train_loss</th>\n",
              "      <th>valid_loss</th>\n",
              "      <th>root_mean_squared_error</th>\n",
              "      <th>time</th>\n",
              "    </tr>\n",
              "  </thead>\n",
              "  <tbody>\n",
              "    <tr>\n",
              "      <td>0</td>\n",
              "      <td>0.703531</td>\n",
              "      <td>0.125536</td>\n",
              "      <td>0.353753</td>\n",
              "      <td>00:01</td>\n",
              "    </tr>\n",
              "  </tbody>\n",
              "</table>"
            ],
            "text/plain": [
              "<IPython.core.display.HTML object>"
            ]
          },
          "metadata": {
            "tags": []
          }
        }
      ]
    },
    {
      "cell_type": "code",
      "metadata": {
        "id": "H2Kb-XQEaNvL",
        "colab_type": "code",
        "outputId": "14c023f1-d2d1-4fa6-9525-bd7eb569880e",
        "colab": {
          "base_uri": "https://localhost:8080/",
          "height": 77
        }
      },
      "source": [
        "learn_anger.freeze_to(-2)\n",
        "learn_anger.fit_one_cycle(1, slice(lr/(2.6**4),lr), moms=(0.8,0.7))"
      ],
      "execution_count": 199,
      "outputs": [
        {
          "output_type": "display_data",
          "data": {
            "text/html": [
              "<table border=\"1\" class=\"dataframe\">\n",
              "  <thead>\n",
              "    <tr style=\"text-align: left;\">\n",
              "      <th>epoch</th>\n",
              "      <th>train_loss</th>\n",
              "      <th>valid_loss</th>\n",
              "      <th>root_mean_squared_error</th>\n",
              "      <th>time</th>\n",
              "    </tr>\n",
              "  </thead>\n",
              "  <tbody>\n",
              "    <tr>\n",
              "      <td>0</td>\n",
              "      <td>0.287100</td>\n",
              "      <td>0.107652</td>\n",
              "      <td>0.326682</td>\n",
              "      <td>00:01</td>\n",
              "    </tr>\n",
              "  </tbody>\n",
              "</table>"
            ],
            "text/plain": [
              "<IPython.core.display.HTML object>"
            ]
          },
          "metadata": {
            "tags": []
          }
        }
      ]
    },
    {
      "cell_type": "code",
      "metadata": {
        "id": "3HVNdNHraRQH",
        "colab_type": "code",
        "outputId": "c89ef8b9-b86f-45ce-d3a6-80440bbde0f4",
        "colab": {
          "base_uri": "https://localhost:8080/",
          "height": 77
        }
      },
      "source": [
        "learn_anger.freeze_to(-3)\n",
        "learn_anger.fit_one_cycle(1, slice(lr/2/(2.6**4),lr/2), moms=(0.8,0.7))"
      ],
      "execution_count": 200,
      "outputs": [
        {
          "output_type": "display_data",
          "data": {
            "text/html": [
              "<table border=\"1\" class=\"dataframe\">\n",
              "  <thead>\n",
              "    <tr style=\"text-align: left;\">\n",
              "      <th>epoch</th>\n",
              "      <th>train_loss</th>\n",
              "      <th>valid_loss</th>\n",
              "      <th>root_mean_squared_error</th>\n",
              "      <th>time</th>\n",
              "    </tr>\n",
              "  </thead>\n",
              "  <tbody>\n",
              "    <tr>\n",
              "      <td>0</td>\n",
              "      <td>0.154634</td>\n",
              "      <td>0.078834</td>\n",
              "      <td>0.278922</td>\n",
              "      <td>00:01</td>\n",
              "    </tr>\n",
              "  </tbody>\n",
              "</table>"
            ],
            "text/plain": [
              "<IPython.core.display.HTML object>"
            ]
          },
          "metadata": {
            "tags": []
          }
        }
      ]
    },
    {
      "cell_type": "code",
      "metadata": {
        "id": "p_EXJX1SaVkW",
        "colab_type": "code",
        "outputId": "2b73b27c-b5c5-4c45-a53c-747698b33f23",
        "colab": {
          "base_uri": "https://localhost:8080/",
          "height": 197
        }
      },
      "source": [
        "learn_anger.unfreeze()\n",
        "learn_anger.fit_one_cycle(5, slice(lr/10/(2.6**4),lr/10), moms=(0.8,0.7))"
      ],
      "execution_count": 201,
      "outputs": [
        {
          "output_type": "display_data",
          "data": {
            "text/html": [
              "<table border=\"1\" class=\"dataframe\">\n",
              "  <thead>\n",
              "    <tr style=\"text-align: left;\">\n",
              "      <th>epoch</th>\n",
              "      <th>train_loss</th>\n",
              "      <th>valid_loss</th>\n",
              "      <th>root_mean_squared_error</th>\n",
              "      <th>time</th>\n",
              "    </tr>\n",
              "  </thead>\n",
              "  <tbody>\n",
              "    <tr>\n",
              "      <td>0</td>\n",
              "      <td>0.115700</td>\n",
              "      <td>0.066626</td>\n",
              "      <td>0.257002</td>\n",
              "      <td>00:01</td>\n",
              "    </tr>\n",
              "    <tr>\n",
              "      <td>1</td>\n",
              "      <td>0.100296</td>\n",
              "      <td>0.054272</td>\n",
              "      <td>0.232111</td>\n",
              "      <td>00:01</td>\n",
              "    </tr>\n",
              "    <tr>\n",
              "      <td>2</td>\n",
              "      <td>0.091074</td>\n",
              "      <td>0.050282</td>\n",
              "      <td>0.222357</td>\n",
              "      <td>00:01</td>\n",
              "    </tr>\n",
              "    <tr>\n",
              "      <td>3</td>\n",
              "      <td>0.082997</td>\n",
              "      <td>0.051262</td>\n",
              "      <td>0.223662</td>\n",
              "      <td>00:01</td>\n",
              "    </tr>\n",
              "    <tr>\n",
              "      <td>4</td>\n",
              "      <td>0.071943</td>\n",
              "      <td>0.054077</td>\n",
              "      <td>0.229626</td>\n",
              "      <td>00:01</td>\n",
              "    </tr>\n",
              "  </tbody>\n",
              "</table>"
            ],
            "text/plain": [
              "<IPython.core.display.HTML object>"
            ]
          },
          "metadata": {
            "tags": []
          }
        }
      ]
    },
    {
      "cell_type": "code",
      "metadata": {
        "id": "FZkOzFfatiT5",
        "colab_type": "code",
        "colab": {}
      },
      "source": [
        "learn_anger.save('anger_regr')"
      ],
      "execution_count": 0,
      "outputs": []
    },
    {
      "cell_type": "code",
      "metadata": {
        "id": "_RcxpxTUaYFy",
        "colab_type": "code",
        "outputId": "4fa73d09-5f60-400e-c6e4-513949633d5b",
        "colab": {
          "base_uri": "https://localhost:8080/",
          "height": 34
        }
      },
      "source": [
        "learn_anger.predict(\"Who the fuck are you to tell me that #angry\")"
      ],
      "execution_count": 203,
      "outputs": [
        {
          "output_type": "execute_result",
          "data": {
            "text/plain": [
              "(FloatItem [0.44332], tensor([0.4433]), tensor([0.4433]))"
            ]
          },
          "metadata": {
            "tags": []
          },
          "execution_count": 203
        }
      ]
    },
    {
      "cell_type": "code",
      "metadata": {
        "id": "Wt59L42gaeW0",
        "colab_type": "code",
        "colab": {
          "base_uri": "https://localhost:8080/",
          "height": 34
        },
        "outputId": "2ec65233-3316-4640-e8a8-27bb0c161c18"
      },
      "source": [
        "learn_anger.predict(\"I'll find you and kill you!\")"
      ],
      "execution_count": 204,
      "outputs": [
        {
          "output_type": "execute_result",
          "data": {
            "text/plain": [
              "(FloatItem [0.334538], tensor([0.3345]), tensor([0.3345]))"
            ]
          },
          "metadata": {
            "tags": []
          },
          "execution_count": 204
        }
      ]
    },
    {
      "cell_type": "code",
      "metadata": {
        "id": "wUqmnFCFo-UJ",
        "colab_type": "code",
        "colab": {}
      },
      "source": [
        ""
      ],
      "execution_count": 0,
      "outputs": []
    },
    {
      "cell_type": "markdown",
      "metadata": {
        "id": "Nsmhvd8ExbCG",
        "colab_type": "text"
      },
      "source": [
        "### Fear - Regression"
      ]
    },
    {
      "cell_type": "code",
      "metadata": {
        "id": "R9FXstXZxfKr",
        "colab_type": "code",
        "colab": {}
      },
      "source": [
        "fear_df = pd.read_csv(DATA_PATH/\"fear_df.csv\")"
      ],
      "execution_count": 0,
      "outputs": []
    },
    {
      "cell_type": "code",
      "metadata": {
        "id": "aiErWze0xfFw",
        "colab_type": "code",
        "colab": {
          "base_uri": "https://localhost:8080/",
          "height": 72
        },
        "outputId": "15da7504-5840-4274-9553-fc7378a2620b"
      },
      "source": [
        "data_fear_lm = (TextList.from_df(fear_df, DATA_PATH, cols=[\"text\"])\n",
        "                  .random_split_by_pct(0.1)\n",
        "                  .label_for_lm()\n",
        "                  .databunch(bs=48))"
      ],
      "execution_count": 206,
      "outputs": [
        {
          "output_type": "stream",
          "text": [
            "/usr/local/lib/python3.6/dist-packages/fastai/data_block.py:215: UserWarning: `random_split_by_pct` is deprecated, please use `split_by_rand_pct`.\n",
            "  warn(\"`random_split_by_pct` is deprecated, please use `split_by_rand_pct`.\")\n"
          ],
          "name": "stderr"
        },
        {
          "output_type": "display_data",
          "data": {
            "text/html": [
              ""
            ],
            "text/plain": [
              "<IPython.core.display.HTML object>"
            ]
          },
          "metadata": {
            "tags": []
          }
        },
        {
          "output_type": "display_data",
          "data": {
            "text/html": [
              ""
            ],
            "text/plain": [
              "<IPython.core.display.HTML object>"
            ]
          },
          "metadata": {
            "tags": []
          }
        }
      ]
    },
    {
      "cell_type": "code",
      "metadata": {
        "id": "GszUszF8xfDr",
        "colab_type": "code",
        "colab": {
          "base_uri": "https://localhost:8080/",
          "height": 314
        },
        "outputId": "b4f09d90-9f50-4e66-f92c-b1f76d51ee07"
      },
      "source": [
        "data_fear_lm.show_batch()"
      ],
      "execution_count": 207,
      "outputs": [
        {
          "output_type": "display_data",
          "data": {
            "text/html": [
              "<table border=\"1\" class=\"dataframe\">\n",
              "  <thead>\n",
              "    <tr style=\"text-align: right;\">\n",
              "      <th>idx</th>\n",
              "      <th>text</th>\n",
              "    </tr>\n",
              "  </thead>\n",
              "  <tbody>\n",
              "    <tr>\n",
              "      <td>0</td>\n",
              "      <td>xxunk bc of the xxunk so i feel him xxbos i have to finally tell my xxunk about my xxunk ... last frontier ... not sure i can do it in the xxup am # fear # xxunk xxbos xxunk i do n't think i 've ever xxunk so xxunk in a panic in all my life 😂 xxmaj gave me such a fright 😓 xxbos xxmaj my bus was</td>\n",
              "    </tr>\n",
              "    <tr>\n",
              "      <td>1</td>\n",
              "      <td>in my brown carpet . xxmaj where did you go ? xxunk will be xxunk up on me # frightened xxbos 6 . 5 minutes to xxunk and i 'm # nervous i wish these xxunk would stop # xxunk # xxunk xxbos i hate when people say ' i need to talk to you or we need to talk . ' xxmaj my anxiety immediately goes up ... xxbos</td>\n",
              "    </tr>\n",
              "    <tr>\n",
              "      <td>2</td>\n",
              "      <td>a spider xxunk up xxunk xxunk xxbos xxmaj what a xxunk , xxunk , xxunk and xxunk world we live in xxunk ! # terrifying # xxmaj charlotte # terrorism # xxunk xxbos xxup xxunk thanks xxmaj xxunk &amp; &amp; xxmaj xxunk for scary the shit out of us in the first xxunk . xxmaj do n't think my heart will make it through the xxunk xxbos i start work</td>\n",
              "    </tr>\n",
              "    <tr>\n",
              "      <td>3</td>\n",
              "      <td>? xxunk anxiety ... what s xxmaj that r u sad xxunk ? ? go get ur depression xxunk out xxup xxunk ! ! ! xxbos xxmaj now this is getting out of hand . i 'm freaked out by this death ... and i 'm xxmaj god ! ! # xxunk xxbos xxmaj in # xxmaj xxunk war , # xxup us almost xxunk us had # xxmaj russia</td>\n",
              "    </tr>\n",
              "    <tr>\n",
              "      <td>4</td>\n",
              "      <td>home from work today # nightmare # xxunk xxbos i 'm scared that my xxunk are going to xxunk me to one of those ' xxunk xxunk ' shows . # fear # fashion xxbos xxmaj when you wake up , xxunk through social media , and another father was taken from his child # nightmare # everyday # xxunk xxbos xxunk my names anxiety and i have xxunk xxbos</td>\n",
              "    </tr>\n",
              "  </tbody>\n",
              "</table>"
            ],
            "text/plain": [
              "<IPython.core.display.HTML object>"
            ]
          },
          "metadata": {
            "tags": []
          }
        }
      ]
    },
    {
      "cell_type": "code",
      "metadata": {
        "id": "TX34dED7xe-D",
        "colab_type": "code",
        "colab": {}
      },
      "source": [
        "learn_fear_lm = language_model_learner(data_fear_lm, AWD_LSTM, drop_mult=0.3)"
      ],
      "execution_count": 0,
      "outputs": []
    },
    {
      "cell_type": "code",
      "metadata": {
        "id": "JVXNVpVzxe7j",
        "colab_type": "code",
        "colab": {
          "base_uri": "https://localhost:8080/",
          "height": 472
        },
        "outputId": "3e288587-f8ab-4341-8157-3c5d38049def"
      },
      "source": [
        "learn_fear_lm.lr_find()"
      ],
      "execution_count": 209,
      "outputs": [
        {
          "output_type": "display_data",
          "data": {
            "text/html": [
              "\n",
              "    <div>\n",
              "        <style>\n",
              "            /* Turns off some styling */\n",
              "            progress {\n",
              "                /* gets rid of default border in Firefox and Opera. */\n",
              "                border: none;\n",
              "                /* Needs to be in here for Safari polyfill so background images work as expected. */\n",
              "                background-size: auto;\n",
              "            }\n",
              "            .progress-bar-interrupted, .progress-bar-interrupted::-webkit-progress-bar {\n",
              "                background: #F44336;\n",
              "            }\n",
              "        </style>\n",
              "      <progress value='12' class='' max='13' style='width:300px; height:20px; vertical-align: middle;'></progress>\n",
              "      92.31% [12/13 00:17<00:01]\n",
              "    </div>\n",
              "    \n",
              "<table border=\"1\" class=\"dataframe\">\n",
              "  <thead>\n",
              "    <tr style=\"text-align: left;\">\n",
              "      <th>epoch</th>\n",
              "      <th>train_loss</th>\n",
              "      <th>valid_loss</th>\n",
              "      <th>accuracy</th>\n",
              "      <th>time</th>\n",
              "    </tr>\n",
              "  </thead>\n",
              "  <tbody>\n",
              "    <tr>\n",
              "      <td>0</td>\n",
              "      <td>5.437523</td>\n",
              "      <td>#na#</td>\n",
              "      <td>00:01</td>\n",
              "    </tr>\n",
              "    <tr>\n",
              "      <td>1</td>\n",
              "      <td>5.439367</td>\n",
              "      <td>#na#</td>\n",
              "      <td>00:01</td>\n",
              "    </tr>\n",
              "    <tr>\n",
              "      <td>2</td>\n",
              "      <td>5.434549</td>\n",
              "      <td>#na#</td>\n",
              "      <td>00:01</td>\n",
              "    </tr>\n",
              "    <tr>\n",
              "      <td>3</td>\n",
              "      <td>5.439920</td>\n",
              "      <td>#na#</td>\n",
              "      <td>00:01</td>\n",
              "    </tr>\n",
              "    <tr>\n",
              "      <td>4</td>\n",
              "      <td>5.435576</td>\n",
              "      <td>#na#</td>\n",
              "      <td>00:01</td>\n",
              "    </tr>\n",
              "    <tr>\n",
              "      <td>5</td>\n",
              "      <td>5.422144</td>\n",
              "      <td>#na#</td>\n",
              "      <td>00:01</td>\n",
              "    </tr>\n",
              "    <tr>\n",
              "      <td>6</td>\n",
              "      <td>5.383531</td>\n",
              "      <td>#na#</td>\n",
              "      <td>00:01</td>\n",
              "    </tr>\n",
              "    <tr>\n",
              "      <td>7</td>\n",
              "      <td>5.249124</td>\n",
              "      <td>#na#</td>\n",
              "      <td>00:01</td>\n",
              "    </tr>\n",
              "    <tr>\n",
              "      <td>8</td>\n",
              "      <td>5.012488</td>\n",
              "      <td>#na#</td>\n",
              "      <td>00:01</td>\n",
              "    </tr>\n",
              "    <tr>\n",
              "      <td>9</td>\n",
              "      <td>4.744625</td>\n",
              "      <td>#na#</td>\n",
              "      <td>00:01</td>\n",
              "    </tr>\n",
              "    <tr>\n",
              "      <td>10</td>\n",
              "      <td>4.580933</td>\n",
              "      <td>#na#</td>\n",
              "      <td>00:01</td>\n",
              "    </tr>\n",
              "    <tr>\n",
              "      <td>11</td>\n",
              "      <td>5.707613</td>\n",
              "      <td>#na#</td>\n",
              "      <td>00:01</td>\n",
              "    </tr>\n",
              "  </tbody>\n",
              "</table><p>\n",
              "\n",
              "    <div>\n",
              "        <style>\n",
              "            /* Turns off some styling */\n",
              "            progress {\n",
              "                /* gets rid of default border in Firefox and Opera. */\n",
              "                border: none;\n",
              "                /* Needs to be in here for Safari polyfill so background images work as expected. */\n",
              "                background-size: auto;\n",
              "            }\n",
              "            .progress-bar-interrupted, .progress-bar-interrupted::-webkit-progress-bar {\n",
              "                background: #F44336;\n",
              "            }\n",
              "        </style>\n",
              "      <progress value='3' class='' max='8' style='width:300px; height:20px; vertical-align: middle;'></progress>\n",
              "      37.50% [3/8 00:00<00:00 7.7110]\n",
              "    </div>\n",
              "    "
            ],
            "text/plain": [
              "<IPython.core.display.HTML object>"
            ]
          },
          "metadata": {
            "tags": []
          }
        },
        {
          "output_type": "stream",
          "text": [
            "LR Finder is complete, type {learner_name}.recorder.plot() to see the graph.\n"
          ],
          "name": "stdout"
        }
      ]
    },
    {
      "cell_type": "code",
      "metadata": {
        "id": "AFhqWxhPxe3Z",
        "colab_type": "code",
        "colab": {
          "base_uri": "https://localhost:8080/",
          "height": 278
        },
        "outputId": "b5288826-9522-49d3-d15a-e3003c67a506"
      },
      "source": [
        "learn_fear_lm.recorder.plot()"
      ],
      "execution_count": 210,
      "outputs": [
        {
          "output_type": "display_data",
          "data": {
            "image/png": "[encoded data removed]",
            "text/plain": [
              "<Figure size 432x288 with 1 Axes>"
            ]
          },
          "metadata": {
            "tags": [],
            "needs_background": "light"
          }
        }
      ]
    },
    {
      "cell_type": "code",
      "metadata": {
        "id": "ubkOlTv9xe0W",
        "colab_type": "code",
        "colab": {
          "base_uri": "https://localhost:8080/",
          "height": 77
        },
        "outputId": "f7b66925-feb6-447f-cdfe-48c35e909533"
      },
      "source": [
        "learn_fear_lm.fit_one_cycle(1, 1e-1, moms=(0.8,0.7))"
      ],
      "execution_count": 211,
      "outputs": [
        {
          "output_type": "display_data",
          "data": {
            "text/html": [
              "<table border=\"1\" class=\"dataframe\">\n",
              "  <thead>\n",
              "    <tr style=\"text-align: left;\">\n",
              "      <th>epoch</th>\n",
              "      <th>train_loss</th>\n",
              "      <th>valid_loss</th>\n",
              "      <th>accuracy</th>\n",
              "      <th>time</th>\n",
              "    </tr>\n",
              "  </thead>\n",
              "  <tbody>\n",
              "    <tr>\n",
              "      <td>0</td>\n",
              "      <td>4.630728</td>\n",
              "      <td>3.702703</td>\n",
              "      <td>0.277083</td>\n",
              "      <td>00:01</td>\n",
              "    </tr>\n",
              "  </tbody>\n",
              "</table>"
            ],
            "text/plain": [
              "<IPython.core.display.HTML object>"
            ]
          },
          "metadata": {
            "tags": []
          }
        }
      ]
    },
    {
      "cell_type": "code",
      "metadata": {
        "id": "ZCIVjbV_xes7",
        "colab_type": "code",
        "colab": {}
      },
      "source": [
        "learn_fear_lm.unfreeze()"
      ],
      "execution_count": 0,
      "outputs": []
    },
    {
      "cell_type": "code",
      "metadata": {
        "id": "upcS-pEexejf",
        "colab_type": "code",
        "colab": {
          "base_uri": "https://localhost:8080/",
          "height": 347
        },
        "outputId": "31610c2f-a8d0-4a46-ed74-cae1d1965e20"
      },
      "source": [
        "learn_fear_lm.fit_one_cycle(10, 1e-1, moms=(0.8,0.7))"
      ],
      "execution_count": 213,
      "outputs": [
        {
          "output_type": "display_data",
          "data": {
            "text/html": [
              "<table border=\"1\" class=\"dataframe\">\n",
              "  <thead>\n",
              "    <tr style=\"text-align: left;\">\n",
              "      <th>epoch</th>\n",
              "      <th>train_loss</th>\n",
              "      <th>valid_loss</th>\n",
              "      <th>accuracy</th>\n",
              "      <th>time</th>\n",
              "    </tr>\n",
              "  </thead>\n",
              "  <tbody>\n",
              "    <tr>\n",
              "      <td>0</td>\n",
              "      <td>4.104350</td>\n",
              "      <td>4.173859</td>\n",
              "      <td>0.177679</td>\n",
              "      <td>00:01</td>\n",
              "    </tr>\n",
              "    <tr>\n",
              "      <td>1</td>\n",
              "      <td>3.940274</td>\n",
              "      <td>3.995621</td>\n",
              "      <td>0.269643</td>\n",
              "      <td>00:01</td>\n",
              "    </tr>\n",
              "    <tr>\n",
              "      <td>2</td>\n",
              "      <td>3.868164</td>\n",
              "      <td>3.662478</td>\n",
              "      <td>0.268750</td>\n",
              "      <td>00:01</td>\n",
              "    </tr>\n",
              "    <tr>\n",
              "      <td>3</td>\n",
              "      <td>3.731884</td>\n",
              "      <td>3.550785</td>\n",
              "      <td>0.288988</td>\n",
              "      <td>00:01</td>\n",
              "    </tr>\n",
              "    <tr>\n",
              "      <td>4</td>\n",
              "      <td>3.602389</td>\n",
              "      <td>3.567528</td>\n",
              "      <td>0.285119</td>\n",
              "      <td>00:01</td>\n",
              "    </tr>\n",
              "    <tr>\n",
              "      <td>5</td>\n",
              "      <td>3.474763</td>\n",
              "      <td>3.539957</td>\n",
              "      <td>0.300893</td>\n",
              "      <td>00:01</td>\n",
              "    </tr>\n",
              "    <tr>\n",
              "      <td>6</td>\n",
              "      <td>3.317446</td>\n",
              "      <td>3.451663</td>\n",
              "      <td>0.328571</td>\n",
              "      <td>00:01</td>\n",
              "    </tr>\n",
              "    <tr>\n",
              "      <td>7</td>\n",
              "      <td>3.104427</td>\n",
              "      <td>3.367366</td>\n",
              "      <td>0.353869</td>\n",
              "      <td>00:01</td>\n",
              "    </tr>\n",
              "    <tr>\n",
              "      <td>8</td>\n",
              "      <td>2.849334</td>\n",
              "      <td>3.379138</td>\n",
              "      <td>0.378869</td>\n",
              "      <td>00:01</td>\n",
              "    </tr>\n",
              "    <tr>\n",
              "      <td>9</td>\n",
              "      <td>2.611831</td>\n",
              "      <td>3.350020</td>\n",
              "      <td>0.385119</td>\n",
              "      <td>00:01</td>\n",
              "    </tr>\n",
              "  </tbody>\n",
              "</table>"
            ],
            "text/plain": [
              "<IPython.core.display.HTML object>"
            ]
          },
          "metadata": {
            "tags": []
          }
        }
      ]
    },
    {
      "cell_type": "code",
      "metadata": {
        "id": "0nk73WOTxc81",
        "colab_type": "code",
        "colab": {}
      },
      "source": [
        "learn_fear_lm.save('fine_tuned_fear')"
      ],
      "execution_count": 0,
      "outputs": []
    },
    {
      "cell_type": "code",
      "metadata": {
        "id": "9zUdfzaZyaBY",
        "colab_type": "code",
        "colab": {}
      },
      "source": [
        "learn_fear_lm.save_encoder('fine_tuned_fear_enc')"
      ],
      "execution_count": 0,
      "outputs": []
    },
    {
      "cell_type": "code",
      "metadata": {
        "id": "F54G1XqOyd-y",
        "colab_type": "code",
        "colab": {}
      },
      "source": [
        ""
      ],
      "execution_count": 0,
      "outputs": []
    },
    {
      "cell_type": "code",
      "metadata": {
        "id": "utrPr4xGyelw",
        "colab_type": "code",
        "colab": {
          "base_uri": "https://localhost:8080/",
          "height": 16
        },
        "outputId": "5468138a-6e40-4b6a-bf30-093c6547e7d3"
      },
      "source": [
        "fear_regr = (TextList.from_df(df=fear_df, path=DATA_PATH, cols='text', vocab=data_fear_lm.vocab)\n",
        "             .split_from_df(col='is_valid')\n",
        "             .label_from_df(cols=['intensity'], label_cls=FloatList)\n",
        "             .databunch())"
      ],
      "execution_count": 216,
      "outputs": [
        {
          "output_type": "display_data",
          "data": {
            "text/html": [
              ""
            ],
            "text/plain": [
              "<IPython.core.display.HTML object>"
            ]
          },
          "metadata": {
            "tags": []
          }
        },
        {
          "output_type": "display_data",
          "data": {
            "text/html": [
              ""
            ],
            "text/plain": [
              "<IPython.core.display.HTML object>"
            ]
          },
          "metadata": {
            "tags": []
          }
        }
      ]
    },
    {
      "cell_type": "code",
      "metadata": {
        "id": "Obhw5I-Symhm",
        "colab_type": "code",
        "colab": {
          "base_uri": "https://localhost:8080/",
          "height": 264
        },
        "outputId": "646c911b-9c41-40cd-d4b5-5277947ab95c"
      },
      "source": [
        "fear_regr.show_batch()"
      ],
      "execution_count": 217,
      "outputs": [
        {
          "output_type": "display_data",
          "data": {
            "text/html": [
              "<table border=\"1\" class=\"dataframe\">\n",
              "  <thead>\n",
              "    <tr style=\"text-align: right;\">\n",
              "      <th>text</th>\n",
              "      <th>target</th>\n",
              "    </tr>\n",
              "  </thead>\n",
              "  <tbody>\n",
              "    <tr>\n",
              "      <td>xxbos xxmaj he : u r xxunk \\n  xxmaj she : i xxunk a xxunk \\n \\n  xxmaj same as \\n \\n  # xxmaj india : u guys r # terrorist \\n  # xxmaj pak : we have # xxunk # xxunk . \\n \\n  # xxunk # terror</td>\n",
              "      <td>0.562</td>\n",
              "    </tr>\n",
              "    <tr>\n",
              "      <td>xxbos xxrep 5 xxunk \\n  / / xxmaj do n't worry if your xxunk is already taken . xxmaj the xxup xxunk i 'm looking for is a xxunk couple xxunk xxup xxunk . xxmaj just a fun xxunk xxunk . / / \\n  xxunk</td>\n",
              "      <td>0.188</td>\n",
              "    </tr>\n",
              "    <tr>\n",
              "      <td>xxbos # xxup xxunk ? ? ? xxmaj when you turn on the xxup tv , etc . &amp; &amp; listen &amp; &amp; watch , the xxunk is to # xxunk with # fear &amp; &amp; # depression . # xxunk ! ! !</td>\n",
              "      <td>0.542</td>\n",
              "    </tr>\n",
              "    <tr>\n",
              "      <td>xxbos xxmaj really xxrep 5 . # xxmaj xxunk 2 xxrep 4 . w / xxmaj the xxmaj xxunk , xxmaj jack xxmaj black , and xxmaj xxunk xxmaj xxunk ... are you kidding me ! xxup wtf ! # xxunk # horrible</td>\n",
              "      <td>0.542</td>\n",
              "    </tr>\n",
              "    <tr>\n",
              "      <td>xxbos # xxunk xxup okay ! xxmaj that xxunk - scared the # xxmaj poop out of me right there . xxmaj bad dog , xxup bad ! xxmaj total xxunk - brown in my favorite pants . # xxmaj xxunk # horror</td>\n",
              "      <td>0.833</td>\n",
              "    </tr>\n",
              "  </tbody>\n",
              "</table>"
            ],
            "text/plain": [
              "<IPython.core.display.HTML object>"
            ]
          },
          "metadata": {
            "tags": []
          }
        }
      ]
    },
    {
      "cell_type": "code",
      "metadata": {
        "id": "0BtwhbgQypYX",
        "colab_type": "code",
        "colab": {}
      },
      "source": [
        "learn_fear = text_classifier_learner(fear_regr, AWD_LSTM, drop_mult=0.3,metrics = rmse)\n",
        "learn_fear.loss_func=MSELossFlat()\n",
        "learn_fear.load_encoder('fine_tuned_fear_enc')\n",
        "learn_fear.freeze()"
      ],
      "execution_count": 0,
      "outputs": []
    },
    {
      "cell_type": "code",
      "metadata": {
        "id": "9rM4Up6PzCy0",
        "colab_type": "code",
        "colab": {
          "base_uri": "https://localhost:8080/",
          "height": 262
        },
        "outputId": "df05a9bd-1cf6-4a73-daa8-37cc74a082f1"
      },
      "source": [
        "learn_fear.lr_find()"
      ],
      "execution_count": 219,
      "outputs": [
        {
          "output_type": "display_data",
          "data": {
            "text/html": [
              "\n",
              "    <div>\n",
              "        <style>\n",
              "            /* Turns off some styling */\n",
              "            progress {\n",
              "                /* gets rid of default border in Firefox and Opera. */\n",
              "                border: none;\n",
              "                /* Needs to be in here for Safari polyfill so background images work as expected. */\n",
              "                background-size: auto;\n",
              "            }\n",
              "            .progress-bar-interrupted, .progress-bar-interrupted::-webkit-progress-bar {\n",
              "                background: #F44336;\n",
              "            }\n",
              "        </style>\n",
              "      <progress value='5' class='' max='7' style='width:300px; height:20px; vertical-align: middle;'></progress>\n",
              "      71.43% [5/7 00:06<00:02]\n",
              "    </div>\n",
              "    \n",
              "<table border=\"1\" class=\"dataframe\">\n",
              "  <thead>\n",
              "    <tr style=\"text-align: left;\">\n",
              "      <th>epoch</th>\n",
              "      <th>train_loss</th>\n",
              "      <th>valid_loss</th>\n",
              "      <th>root_mean_squared_error</th>\n",
              "      <th>time</th>\n",
              "    </tr>\n",
              "  </thead>\n",
              "  <tbody>\n",
              "    <tr>\n",
              "      <td>0</td>\n",
              "      <td>0.702284</td>\n",
              "      <td>#na#</td>\n",
              "      <td>00:01</td>\n",
              "    </tr>\n",
              "    <tr>\n",
              "      <td>1</td>\n",
              "      <td>0.675402</td>\n",
              "      <td>#na#</td>\n",
              "      <td>00:01</td>\n",
              "    </tr>\n",
              "    <tr>\n",
              "      <td>2</td>\n",
              "      <td>0.656383</td>\n",
              "      <td>#na#</td>\n",
              "      <td>00:01</td>\n",
              "    </tr>\n",
              "    <tr>\n",
              "      <td>3</td>\n",
              "      <td>0.603355</td>\n",
              "      <td>#na#</td>\n",
              "      <td>00:01</td>\n",
              "    </tr>\n",
              "    <tr>\n",
              "      <td>4</td>\n",
              "      <td>0.487612</td>\n",
              "      <td>#na#</td>\n",
              "      <td>00:01</td>\n",
              "    </tr>\n",
              "  </tbody>\n",
              "</table><p>\n",
              "\n",
              "    <div>\n",
              "        <style>\n",
              "            /* Turns off some styling */\n",
              "            progress {\n",
              "                /* gets rid of default border in Firefox and Opera. */\n",
              "                border: none;\n",
              "                /* Needs to be in here for Safari polyfill so background images work as expected. */\n",
              "                background-size: auto;\n",
              "            }\n",
              "            .progress-bar-interrupted, .progress-bar-interrupted::-webkit-progress-bar {\n",
              "                background: #F44336;\n",
              "            }\n",
              "        </style>\n",
              "      <progress value='12' class='' max='15' style='width:300px; height:20px; vertical-align: middle;'></progress>\n",
              "      80.00% [12/15 00:00<00:00 0.6202]\n",
              "    </div>\n",
              "    "
            ],
            "text/plain": [
              "<IPython.core.display.HTML object>"
            ]
          },
          "metadata": {
            "tags": []
          }
        },
        {
          "output_type": "stream",
          "text": [
            "LR Finder is complete, type {learner_name}.recorder.plot() to see the graph.\n"
          ],
          "name": "stdout"
        }
      ]
    },
    {
      "cell_type": "code",
      "metadata": {
        "id": "zx3VJmaSzE2f",
        "colab_type": "code",
        "colab": {
          "base_uri": "https://localhost:8080/",
          "height": 278
        },
        "outputId": "54a3cd19-a25f-4b64-e45c-269b2ea91ecf"
      },
      "source": [
        "learn_fear.recorder.plot()"
      ],
      "execution_count": 220,
      "outputs": [
        {
          "output_type": "display_data",
          "data": {
            "image/png": "[encoded data removed]",
            "text/plain": [
              "<Figure size 432x288 with 1 Axes>"
            ]
          },
          "metadata": {
            "tags": [],
            "needs_background": "light"
          }
        }
      ]
    },
    {
      "cell_type": "code",
      "metadata": {
        "id": "6bMKXBIFzG5q",
        "colab_type": "code",
        "colab": {}
      },
      "source": [
        "lr = 3e-2"
      ],
      "execution_count": 0,
      "outputs": []
    },
    {
      "cell_type": "code",
      "metadata": {
        "id": "LBLO2nutzJuy",
        "colab_type": "code",
        "colab": {
          "base_uri": "https://localhost:8080/",
          "height": 77
        },
        "outputId": "688e8bba-4e95-40e9-cf88-74bce048619e"
      },
      "source": [
        "learn_fear.fit_one_cycle(1, lr, moms=(0.8,0.7))"
      ],
      "execution_count": 222,
      "outputs": [
        {
          "output_type": "display_data",
          "data": {
            "text/html": [
              "<table border=\"1\" class=\"dataframe\">\n",
              "  <thead>\n",
              "    <tr style=\"text-align: left;\">\n",
              "      <th>epoch</th>\n",
              "      <th>train_loss</th>\n",
              "      <th>valid_loss</th>\n",
              "      <th>root_mean_squared_error</th>\n",
              "      <th>time</th>\n",
              "    </tr>\n",
              "  </thead>\n",
              "  <tbody>\n",
              "    <tr>\n",
              "      <td>0</td>\n",
              "      <td>0.354655</td>\n",
              "      <td>0.115537</td>\n",
              "      <td>0.339783</td>\n",
              "      <td>00:01</td>\n",
              "    </tr>\n",
              "  </tbody>\n",
              "</table>"
            ],
            "text/plain": [
              "<IPython.core.display.HTML object>"
            ]
          },
          "metadata": {
            "tags": []
          }
        }
      ]
    },
    {
      "cell_type": "code",
      "metadata": {
        "id": "5iQcxuSyzQMC",
        "colab_type": "code",
        "colab": {
          "base_uri": "https://localhost:8080/",
          "height": 77
        },
        "outputId": "9e5a299b-761a-40d5-cdc6-d055f71bd977"
      },
      "source": [
        "learn_fear.freeze_to(-2)\n",
        "learn_fear.fit_one_cycle(1, slice(lr/(2.6**4),lr), moms=(0.8,0.7))"
      ],
      "execution_count": 223,
      "outputs": [
        {
          "output_type": "display_data",
          "data": {
            "text/html": [
              "<table border=\"1\" class=\"dataframe\">\n",
              "  <thead>\n",
              "    <tr style=\"text-align: left;\">\n",
              "      <th>epoch</th>\n",
              "      <th>train_loss</th>\n",
              "      <th>valid_loss</th>\n",
              "      <th>root_mean_squared_error</th>\n",
              "      <th>time</th>\n",
              "    </tr>\n",
              "  </thead>\n",
              "  <tbody>\n",
              "    <tr>\n",
              "      <td>0</td>\n",
              "      <td>0.083723</td>\n",
              "      <td>0.033746</td>\n",
              "      <td>0.183007</td>\n",
              "      <td>00:01</td>\n",
              "    </tr>\n",
              "  </tbody>\n",
              "</table>"
            ],
            "text/plain": [
              "<IPython.core.display.HTML object>"
            ]
          },
          "metadata": {
            "tags": []
          }
        }
      ]
    },
    {
      "cell_type": "code",
      "metadata": {
        "id": "rPJAtYHPzcD5",
        "colab_type": "code",
        "colab": {
          "base_uri": "https://localhost:8080/",
          "height": 77
        },
        "outputId": "6cb67f47-8d2c-418b-835b-436f6bd74d22"
      },
      "source": [
        "learn_fear.freeze_to(-3)\n",
        "learn_fear.fit_one_cycle(1, slice(lr/2/(2.6**4),lr/2), moms=(0.8,0.7))"
      ],
      "execution_count": 224,
      "outputs": [
        {
          "output_type": "display_data",
          "data": {
            "text/html": [
              "<table border=\"1\" class=\"dataframe\">\n",
              "  <thead>\n",
              "    <tr style=\"text-align: left;\">\n",
              "      <th>epoch</th>\n",
              "      <th>train_loss</th>\n",
              "      <th>valid_loss</th>\n",
              "      <th>root_mean_squared_error</th>\n",
              "      <th>time</th>\n",
              "    </tr>\n",
              "  </thead>\n",
              "  <tbody>\n",
              "    <tr>\n",
              "      <td>0</td>\n",
              "      <td>0.037477</td>\n",
              "      <td>0.040133</td>\n",
              "      <td>0.199662</td>\n",
              "      <td>00:01</td>\n",
              "    </tr>\n",
              "  </tbody>\n",
              "</table>"
            ],
            "text/plain": [
              "<IPython.core.display.HTML object>"
            ]
          },
          "metadata": {
            "tags": []
          }
        }
      ]
    },
    {
      "cell_type": "code",
      "metadata": {
        "id": "_ZZUYZ13zg_Z",
        "colab_type": "code",
        "colab": {
          "base_uri": "https://localhost:8080/",
          "height": 197
        },
        "outputId": "4af70e82-34ac-4576-98fd-4f501e8bbb9b"
      },
      "source": [
        "learn_fear.unfreeze()\n",
        "learn_fear.fit_one_cycle(5, slice(lr/10/(2.6**4),lr/10), moms=(0.8,0.7))"
      ],
      "execution_count": 225,
      "outputs": [
        {
          "output_type": "display_data",
          "data": {
            "text/html": [
              "<table border=\"1\" class=\"dataframe\">\n",
              "  <thead>\n",
              "    <tr style=\"text-align: left;\">\n",
              "      <th>epoch</th>\n",
              "      <th>train_loss</th>\n",
              "      <th>valid_loss</th>\n",
              "      <th>root_mean_squared_error</th>\n",
              "      <th>time</th>\n",
              "    </tr>\n",
              "  </thead>\n",
              "  <tbody>\n",
              "    <tr>\n",
              "      <td>0</td>\n",
              "      <td>0.029604</td>\n",
              "      <td>0.031708</td>\n",
              "      <td>0.177555</td>\n",
              "      <td>00:01</td>\n",
              "    </tr>\n",
              "    <tr>\n",
              "      <td>1</td>\n",
              "      <td>0.026270</td>\n",
              "      <td>0.029526</td>\n",
              "      <td>0.171180</td>\n",
              "      <td>00:01</td>\n",
              "    </tr>\n",
              "    <tr>\n",
              "      <td>2</td>\n",
              "      <td>0.024326</td>\n",
              "      <td>0.031416</td>\n",
              "      <td>0.176847</td>\n",
              "      <td>00:01</td>\n",
              "    </tr>\n",
              "    <tr>\n",
              "      <td>3</td>\n",
              "      <td>0.022753</td>\n",
              "      <td>0.029824</td>\n",
              "      <td>0.172246</td>\n",
              "      <td>00:01</td>\n",
              "    </tr>\n",
              "    <tr>\n",
              "      <td>4</td>\n",
              "      <td>0.021171</td>\n",
              "      <td>0.030209</td>\n",
              "      <td>0.173382</td>\n",
              "      <td>00:01</td>\n",
              "    </tr>\n",
              "  </tbody>\n",
              "</table>"
            ],
            "text/plain": [
              "<IPython.core.display.HTML object>"
            ]
          },
          "metadata": {
            "tags": []
          }
        }
      ]
    },
    {
      "cell_type": "code",
      "metadata": {
        "id": "51l0nQtFzmFR",
        "colab_type": "code",
        "colab": {}
      },
      "source": [
        "learn_fear.save('fear_regr')"
      ],
      "execution_count": 0,
      "outputs": []
    },
    {
      "cell_type": "code",
      "metadata": {
        "id": "yTBJrFgm1O4m",
        "colab_type": "code",
        "colab": {}
      },
      "source": [
        ""
      ],
      "execution_count": 0,
      "outputs": []
    },
    {
      "cell_type": "markdown",
      "metadata": {
        "id": "7uTJ6nhv1QfI",
        "colab_type": "text"
      },
      "source": [
        "### Joy - Regression"
      ]
    },
    {
      "cell_type": "code",
      "metadata": {
        "id": "kvyUyfpr1Pqh",
        "colab_type": "code",
        "colab": {}
      },
      "source": [
        "joy_df = pd.read_csv(DATA_PATH/\"joy_df.csv\")"
      ],
      "execution_count": 0,
      "outputs": []
    },
    {
      "cell_type": "code",
      "metadata": {
        "id": "EWdFPme71ftc",
        "colab_type": "code",
        "colab": {
          "base_uri": "https://localhost:8080/",
          "height": 72
        },
        "outputId": "0cdcf61c-cd96-4172-eaa7-d055888cf9f5"
      },
      "source": [
        "data_joy_lm = (TextList.from_df(joy_df, DATA_PATH, cols=[\"text\"])\n",
        "                  .random_split_by_pct(0.1)\n",
        "                  .label_for_lm()\n",
        "                  .databunch(bs=48))"
      ],
      "execution_count": 228,
      "outputs": [
        {
          "output_type": "stream",
          "text": [
            "/usr/local/lib/python3.6/dist-packages/fastai/data_block.py:215: UserWarning: `random_split_by_pct` is deprecated, please use `split_by_rand_pct`.\n",
            "  warn(\"`random_split_by_pct` is deprecated, please use `split_by_rand_pct`.\")\n"
          ],
          "name": "stderr"
        },
        {
          "output_type": "display_data",
          "data": {
            "text/html": [
              ""
            ],
            "text/plain": [
              "<IPython.core.display.HTML object>"
            ]
          },
          "metadata": {
            "tags": []
          }
        },
        {
          "output_type": "display_data",
          "data": {
            "text/html": [
              ""
            ],
            "text/plain": [
              "<IPython.core.display.HTML object>"
            ]
          },
          "metadata": {
            "tags": []
          }
        }
      ]
    },
    {
      "cell_type": "code",
      "metadata": {
        "id": "HUwOuLXU1pj_",
        "colab_type": "code",
        "colab": {
          "base_uri": "https://localhost:8080/",
          "height": 331
        },
        "outputId": "2b5f5bce-df68-4dcd-c28d-c48d34282664"
      },
      "source": [
        "data_joy_lm.show_batch()"
      ],
      "execution_count": 229,
      "outputs": [
        {
          "output_type": "display_data",
          "data": {
            "text/html": [
              "<table border=\"1\" class=\"dataframe\">\n",
              "  <thead>\n",
              "    <tr style=\"text-align: right;\">\n",
              "      <th>idx</th>\n",
              "      <th>text</th>\n",
              "    </tr>\n",
              "  </thead>\n",
              "  <tbody>\n",
              "    <tr>\n",
              "      <td>0</td>\n",
              "      <td>my day more joyful ! i love you too ! 😊 xxunk xxbos i feel so blessed to work with the family that i xxunk for ❤ ️ nothing but love &amp; &amp; xxunk , makes me smile . xxbos xxmaj today i xxunk xxunk xxunk on xxup xxunk ! ! , # xxunk , # xxunk xxbos xxunk xxmaj good morning , love ! xxmaj happy first day of</td>\n",
              "    </tr>\n",
              "    <tr>\n",
              "      <td>1</td>\n",
              "      <td>love xxunk xxunk ! xxmaj well done . xxmaj vote for # xxmaj trump . # lol # hilarious xxbos xxmaj when you wake up from a dream laughing at something stupid , and that makes you laugh more # hilarious xxbos now that i have my future xxunk out , i feel so much happier # goals # life # happy # xxunk # xxunk xxbos xxmaj online now</td>\n",
              "    </tr>\n",
              "    <tr>\n",
              "      <td>2</td>\n",
              "      <td>making me smile xxunk xxbos xxmaj today i xxunk xxunk xxunk on xxup xxunk ! ! # happy , # xxunk , # xxunk xxbos xxunk xxunk had more fun than the xxunk xxunk in xxunk xxrep 5 . xxmaj much hilarity as xxunk xxrep 4 . xxmaj thank you ❤ ️ xxbos xxunk xxunk xxup xxunk you 2 are xxunk me up ! xxmaj thanks for the follow xxmaj</td>\n",
              "    </tr>\n",
              "    <tr>\n",
              "      <td>3</td>\n",
              "      <td>laughter xxbos xxunk _ xxunk you 're xxunk ! ! ! xxmaj but thank you a joyous evening xxunk xxbos i am so happy i have come across xxunk xxunk ! # xxunk would love to talk to you ! # xxunk # want # need # happy # amazing xxunk xxunk xxbos second day on the job and i already got a xxunk xxunk tip from a xxunk whose</td>\n",
              "    </tr>\n",
              "    <tr>\n",
              "      <td>4</td>\n",
              "      <td>xxunk xxunk 😂 😂 😂 xxbos xxmaj happy xxmaj birthday xxunk # xxunk # xxunk # xxunk # xxunk # xxunk # xxmaj cheer xxbos thenicebot : xxunk xxunk xxmaj here is a smile and a xxunk from across the xxunk . # thenicebot xxbos a # smile xxunk your day and the day of everyone around you , so remember to # smile , it 's # free .</td>\n",
              "    </tr>\n",
              "  </tbody>\n",
              "</table>"
            ],
            "text/plain": [
              "<IPython.core.display.HTML object>"
            ]
          },
          "metadata": {
            "tags": []
          }
        }
      ]
    },
    {
      "cell_type": "code",
      "metadata": {
        "id": "31I0UQYC1sH3",
        "colab_type": "code",
        "colab": {}
      },
      "source": [
        "learn_joy_lm = language_model_learner(data_joy_lm, AWD_LSTM, drop_mult=0.3)"
      ],
      "execution_count": 0,
      "outputs": []
    },
    {
      "cell_type": "code",
      "metadata": {
        "id": "PqbQtZBS2EpV",
        "colab_type": "code",
        "colab": {
          "base_uri": "https://localhost:8080/",
          "height": 592
        },
        "outputId": "4ffe91de-2993-41af-af27-3198a129a64e"
      },
      "source": [
        "learn_joy_lm.lr_find()"
      ],
      "execution_count": 231,
      "outputs": [
        {
          "output_type": "display_data",
          "data": {
            "text/html": [
              "\n",
              "    <div>\n",
              "        <style>\n",
              "            /* Turns off some styling */\n",
              "            progress {\n",
              "                /* gets rid of default border in Firefox and Opera. */\n",
              "                border: none;\n",
              "                /* Needs to be in here for Safari polyfill so background images work as expected. */\n",
              "                background-size: auto;\n",
              "            }\n",
              "            .progress-bar-interrupted, .progress-bar-interrupted::-webkit-progress-bar {\n",
              "                background: #F44336;\n",
              "            }\n",
              "        </style>\n",
              "      <progress value='16' class='' max='17' style='width:300px; height:20px; vertical-align: middle;'></progress>\n",
              "      94.12% [16/17 00:16<00:01]\n",
              "    </div>\n",
              "    \n",
              "<table border=\"1\" class=\"dataframe\">\n",
              "  <thead>\n",
              "    <tr style=\"text-align: left;\">\n",
              "      <th>epoch</th>\n",
              "      <th>train_loss</th>\n",
              "      <th>valid_loss</th>\n",
              "      <th>accuracy</th>\n",
              "      <th>time</th>\n",
              "    </tr>\n",
              "  </thead>\n",
              "  <tbody>\n",
              "    <tr>\n",
              "      <td>0</td>\n",
              "      <td>5.345357</td>\n",
              "      <td>#na#</td>\n",
              "      <td>00:01</td>\n",
              "    </tr>\n",
              "    <tr>\n",
              "      <td>1</td>\n",
              "      <td>5.344414</td>\n",
              "      <td>#na#</td>\n",
              "      <td>00:01</td>\n",
              "    </tr>\n",
              "    <tr>\n",
              "      <td>2</td>\n",
              "      <td>5.350552</td>\n",
              "      <td>#na#</td>\n",
              "      <td>00:01</td>\n",
              "    </tr>\n",
              "    <tr>\n",
              "      <td>3</td>\n",
              "      <td>5.353885</td>\n",
              "      <td>#na#</td>\n",
              "      <td>00:01</td>\n",
              "    </tr>\n",
              "    <tr>\n",
              "      <td>4</td>\n",
              "      <td>5.358796</td>\n",
              "      <td>#na#</td>\n",
              "      <td>00:01</td>\n",
              "    </tr>\n",
              "    <tr>\n",
              "      <td>5</td>\n",
              "      <td>5.350573</td>\n",
              "      <td>#na#</td>\n",
              "      <td>00:01</td>\n",
              "    </tr>\n",
              "    <tr>\n",
              "      <td>6</td>\n",
              "      <td>5.348742</td>\n",
              "      <td>#na#</td>\n",
              "      <td>00:01</td>\n",
              "    </tr>\n",
              "    <tr>\n",
              "      <td>7</td>\n",
              "      <td>5.339559</td>\n",
              "      <td>#na#</td>\n",
              "      <td>00:01</td>\n",
              "    </tr>\n",
              "    <tr>\n",
              "      <td>8</td>\n",
              "      <td>5.310368</td>\n",
              "      <td>#na#</td>\n",
              "      <td>00:01</td>\n",
              "    </tr>\n",
              "    <tr>\n",
              "      <td>9</td>\n",
              "      <td>5.236333</td>\n",
              "      <td>#na#</td>\n",
              "      <td>00:01</td>\n",
              "    </tr>\n",
              "    <tr>\n",
              "      <td>10</td>\n",
              "      <td>5.091561</td>\n",
              "      <td>#na#</td>\n",
              "      <td>00:01</td>\n",
              "    </tr>\n",
              "    <tr>\n",
              "      <td>11</td>\n",
              "      <td>4.887632</td>\n",
              "      <td>#na#</td>\n",
              "      <td>00:01</td>\n",
              "    </tr>\n",
              "    <tr>\n",
              "      <td>12</td>\n",
              "      <td>4.654413</td>\n",
              "      <td>#na#</td>\n",
              "      <td>00:01</td>\n",
              "    </tr>\n",
              "    <tr>\n",
              "      <td>13</td>\n",
              "      <td>4.444762</td>\n",
              "      <td>#na#</td>\n",
              "      <td>00:01</td>\n",
              "    </tr>\n",
              "    <tr>\n",
              "      <td>14</td>\n",
              "      <td>4.368092</td>\n",
              "      <td>#na#</td>\n",
              "      <td>00:01</td>\n",
              "    </tr>\n",
              "    <tr>\n",
              "      <td>15</td>\n",
              "      <td>5.510108</td>\n",
              "      <td>#na#</td>\n",
              "      <td>00:01</td>\n",
              "    </tr>\n",
              "  </tbody>\n",
              "</table><p>\n",
              "\n",
              "    <div>\n",
              "        <style>\n",
              "            /* Turns off some styling */\n",
              "            progress {\n",
              "                /* gets rid of default border in Firefox and Opera. */\n",
              "                border: none;\n",
              "                /* Needs to be in here for Safari polyfill so background images work as expected. */\n",
              "                background-size: auto;\n",
              "            }\n",
              "            .progress-bar-interrupted, .progress-bar-interrupted::-webkit-progress-bar {\n",
              "                background: #F44336;\n",
              "            }\n",
              "        </style>\n",
              "      <progress value='3' class='' max='6' style='width:300px; height:20px; vertical-align: middle;'></progress>\n",
              "      50.00% [3/6 00:00<00:00 7.2576]\n",
              "    </div>\n",
              "    "
            ],
            "text/plain": [
              "<IPython.core.display.HTML object>"
            ]
          },
          "metadata": {
            "tags": []
          }
        },
        {
          "output_type": "stream",
          "text": [
            "LR Finder is complete, type {learner_name}.recorder.plot() to see the graph.\n"
          ],
          "name": "stdout"
        }
      ]
    },
    {
      "cell_type": "code",
      "metadata": {
        "id": "FuV4JPVW2HHw",
        "colab_type": "code",
        "colab": {
          "base_uri": "https://localhost:8080/",
          "height": 280
        },
        "outputId": "ae45ecc9-c6ec-469f-dce6-75080c5672b0"
      },
      "source": [
        "learn_joy_lm.recorder.plot()"
      ],
      "execution_count": 233,
      "outputs": [
        {
          "output_type": "display_data",
          "data": {
            "image/png": "[encoded data removed]",
            "text/plain": [
              "<Figure size 432x288 with 1 Axes>"
            ]
          },
          "metadata": {
            "tags": [],
            "needs_background": "light"
          }
        }
      ]
    },
    {
      "cell_type": "code",
      "metadata": {
        "id": "ZrUvSIFz2JvS",
        "colab_type": "code",
        "colab": {
          "base_uri": "https://localhost:8080/",
          "height": 77
        },
        "outputId": "eb15c87f-035b-4f3d-85df-ba6d6f41277d"
      },
      "source": [
        "learn_joy_lm.fit_one_cycle(1, 3e-2, moms=(0.8,0.7))"
      ],
      "execution_count": 238,
      "outputs": [
        {
          "output_type": "display_data",
          "data": {
            "text/html": [
              "<table border=\"1\" class=\"dataframe\">\n",
              "  <thead>\n",
              "    <tr style=\"text-align: left;\">\n",
              "      <th>epoch</th>\n",
              "      <th>train_loss</th>\n",
              "      <th>valid_loss</th>\n",
              "      <th>accuracy</th>\n",
              "      <th>time</th>\n",
              "    </tr>\n",
              "  </thead>\n",
              "  <tbody>\n",
              "    <tr>\n",
              "      <td>0</td>\n",
              "      <td>4.673812</td>\n",
              "      <td>3.926357</td>\n",
              "      <td>0.281845</td>\n",
              "      <td>00:01</td>\n",
              "    </tr>\n",
              "  </tbody>\n",
              "</table>"
            ],
            "text/plain": [
              "<IPython.core.display.HTML object>"
            ]
          },
          "metadata": {
            "tags": []
          }
        }
      ]
    },
    {
      "cell_type": "code",
      "metadata": {
        "id": "7j7vPbO12SU6",
        "colab_type": "code",
        "colab": {}
      },
      "source": [
        "learn_joy_lm.unfreeze()"
      ],
      "execution_count": 0,
      "outputs": []
    },
    {
      "cell_type": "code",
      "metadata": {
        "id": "D9am3API2VMz",
        "colab_type": "code",
        "colab": {
          "base_uri": "https://localhost:8080/",
          "height": 167
        },
        "outputId": "df264a4f-3f7d-4623-dbf9-a9bd9578bd20"
      },
      "source": [
        "learn_joy_lm.fit_one_cycle(4, 3e-2, moms=(0.8,0.7))"
      ],
      "execution_count": 240,
      "outputs": [
        {
          "output_type": "display_data",
          "data": {
            "text/html": [
              "<table border=\"1\" class=\"dataframe\">\n",
              "  <thead>\n",
              "    <tr style=\"text-align: left;\">\n",
              "      <th>epoch</th>\n",
              "      <th>train_loss</th>\n",
              "      <th>valid_loss</th>\n",
              "      <th>accuracy</th>\n",
              "      <th>time</th>\n",
              "    </tr>\n",
              "  </thead>\n",
              "  <tbody>\n",
              "    <tr>\n",
              "      <td>0</td>\n",
              "      <td>3.960380</td>\n",
              "      <td>5.105381</td>\n",
              "      <td>0.146131</td>\n",
              "      <td>00:01</td>\n",
              "    </tr>\n",
              "    <tr>\n",
              "      <td>1</td>\n",
              "      <td>3.938491</td>\n",
              "      <td>3.320180</td>\n",
              "      <td>0.334821</td>\n",
              "      <td>00:01</td>\n",
              "    </tr>\n",
              "    <tr>\n",
              "      <td>2</td>\n",
              "      <td>3.524615</td>\n",
              "      <td>3.076212</td>\n",
              "      <td>0.357143</td>\n",
              "      <td>00:01</td>\n",
              "    </tr>\n",
              "    <tr>\n",
              "      <td>3</td>\n",
              "      <td>3.134311</td>\n",
              "      <td>3.047039</td>\n",
              "      <td>0.369643</td>\n",
              "      <td>00:01</td>\n",
              "    </tr>\n",
              "  </tbody>\n",
              "</table>"
            ],
            "text/plain": [
              "<IPython.core.display.HTML object>"
            ]
          },
          "metadata": {
            "tags": []
          }
        }
      ]
    },
    {
      "cell_type": "code",
      "metadata": {
        "id": "qSuZw_5E2Z_K",
        "colab_type": "code",
        "colab": {}
      },
      "source": [
        "learn_joy_lm.save(\"fine_tuned_joy\")"
      ],
      "execution_count": 0,
      "outputs": []
    },
    {
      "cell_type": "code",
      "metadata": {
        "id": "KiRfYkQN2mko",
        "colab_type": "code",
        "colab": {}
      },
      "source": [
        "learn_joy_lm.save_encoder(\"fine_tuned_joy_enc\")"
      ],
      "execution_count": 0,
      "outputs": []
    },
    {
      "cell_type": "code",
      "metadata": {
        "id": "VTh_l1__2qrc",
        "colab_type": "code",
        "colab": {}
      },
      "source": [
        ""
      ],
      "execution_count": 0,
      "outputs": []
    },
    {
      "cell_type": "code",
      "metadata": {
        "id": "VE02Uc8A2rYJ",
        "colab_type": "code",
        "colab": {
          "base_uri": "https://localhost:8080/",
          "height": 16
        },
        "outputId": "3d485c56-4cfe-4991-e003-d0474f48e7a6"
      },
      "source": [
        "joy_regr = (TextList.from_df(df=joy_df, path=DATA_PATH, cols='text', vocab=data_joy_lm.vocab)\n",
        "             .split_from_df(col='is_valid')\n",
        "             .label_from_df(cols=['intensity'], label_cls=FloatList)\n",
        "             .databunch())"
      ],
      "execution_count": 243,
      "outputs": [
        {
          "output_type": "display_data",
          "data": {
            "text/html": [
              ""
            ],
            "text/plain": [
              "<IPython.core.display.HTML object>"
            ]
          },
          "metadata": {
            "tags": []
          }
        },
        {
          "output_type": "display_data",
          "data": {
            "text/html": [
              ""
            ],
            "text/plain": [
              "<IPython.core.display.HTML object>"
            ]
          },
          "metadata": {
            "tags": []
          }
        }
      ]
    },
    {
      "cell_type": "code",
      "metadata": {
        "id": "7YwfJhH52zYy",
        "colab_type": "code",
        "colab": {
          "base_uri": "https://localhost:8080/",
          "height": 281
        },
        "outputId": "39353a0b-58e2-44af-ef91-cc6ff0b6743c"
      },
      "source": [
        "joy_regr.show_batch()"
      ],
      "execution_count": 244,
      "outputs": [
        {
          "output_type": "display_data",
          "data": {
            "text/html": [
              "<table border=\"1\" class=\"dataframe\">\n",
              "  <thead>\n",
              "    <tr style=\"text-align: right;\">\n",
              "      <th>text</th>\n",
              "      <th>target</th>\n",
              "    </tr>\n",
              "  </thead>\n",
              "  <tbody>\n",
              "    <tr>\n",
              "      <td>xxbos [ xxmaj moment of levity on the xxup xxunk ] xxmaj baby : i want xxup isis ! xxmaj give me xxup isis ! \\n  xxmaj mom : xxmaj xxunk ! \\n  xxmaj baby : i want xxup isis ! \\n  xxmaj xxunk xxmaj xxunk woman : xxmaj she xxunk what ? \\n  xxmaj mom : * xxmaj xxunk * .</td>\n",
              "      <td>0.521</td>\n",
              "    </tr>\n",
              "    <tr>\n",
              "      <td>xxbos xxmaj omg . xxmaj you 've got to watch the new series ' xxmaj this is xxmaj us ' xxrep 5 . wow . xxmaj best tv show i 've seen in a long time . \\n  # tears # laughter # xxunk</td>\n",
              "      <td>0.827</td>\n",
              "    </tr>\n",
              "    <tr>\n",
              "      <td>xxbos xxunk xxup xxunk xxmaj why would xxmaj xxunk xxunk &amp; &amp; xxmaj mom 's xxunk for a xxunk if it did not work ? xxmaj anyone listen to the xxmaj xxunk xxup xxunk 's xxunk xxmaj xxunk .. all were elated .</td>\n",
              "      <td>0.22</td>\n",
              "    </tr>\n",
              "    <tr>\n",
              "      <td>xxbos xxmaj omg . xxmaj you 've got to watch the new series ' xxmaj this is xxmaj us ' xxrep 5 . wow . xxmaj best tv show i 've seen in a long time . \\n  # tears # xxunk</td>\n",
              "      <td>0.5</td>\n",
              "    </tr>\n",
              "    <tr>\n",
              "      <td>xxbos xxmaj be happy . xxmaj be who you want to be . xxmaj if xxunk do n't like it , then let them be . xxmaj happiness is a xxunk . xxmaj life is n't about pleasing xxunk xxrep 4 .</td>\n",
              "      <td>0.52</td>\n",
              "    </tr>\n",
              "  </tbody>\n",
              "</table>"
            ],
            "text/plain": [
              "<IPython.core.display.HTML object>"
            ]
          },
          "metadata": {
            "tags": []
          }
        }
      ]
    },
    {
      "cell_type": "code",
      "metadata": {
        "id": "Jf00UxS721N8",
        "colab_type": "code",
        "colab": {}
      },
      "source": [
        "learn_joy = text_classifier_learner(joy_regr, AWD_LSTM, drop_mult=0.3,metrics = rmse)\n",
        "learn_joy.loss_func=MSELossFlat()\n",
        "learn_joy.load_encoder('fine_tuned_joy_enc')\n",
        "learn_joy.freeze()"
      ],
      "execution_count": 0,
      "outputs": []
    },
    {
      "cell_type": "code",
      "metadata": {
        "id": "etBttITi2-it",
        "colab_type": "code",
        "colab": {
          "base_uri": "https://localhost:8080/",
          "height": 352
        },
        "outputId": "8a8a1f02-4a00-440d-ad9a-092361269dc7"
      },
      "source": [
        "learn_joy.lr_find()"
      ],
      "execution_count": 246,
      "outputs": [
        {
          "output_type": "display_data",
          "data": {
            "text/html": [
              "\n",
              "    <div>\n",
              "        <style>\n",
              "            /* Turns off some styling */\n",
              "            progress {\n",
              "                /* gets rid of default border in Firefox and Opera. */\n",
              "                border: none;\n",
              "                /* Needs to be in here for Safari polyfill so background images work as expected. */\n",
              "                background-size: auto;\n",
              "            }\n",
              "            .progress-bar-interrupted, .progress-bar-interrupted::-webkit-progress-bar {\n",
              "                background: #F44336;\n",
              "            }\n",
              "        </style>\n",
              "      <progress value='8' class='' max='10' style='width:300px; height:20px; vertical-align: middle;'></progress>\n",
              "      80.00% [8/10 00:07<00:01]\n",
              "    </div>\n",
              "    \n",
              "<table border=\"1\" class=\"dataframe\">\n",
              "  <thead>\n",
              "    <tr style=\"text-align: left;\">\n",
              "      <th>epoch</th>\n",
              "      <th>train_loss</th>\n",
              "      <th>valid_loss</th>\n",
              "      <th>root_mean_squared_error</th>\n",
              "      <th>time</th>\n",
              "    </tr>\n",
              "  </thead>\n",
              "  <tbody>\n",
              "    <tr>\n",
              "      <td>0</td>\n",
              "      <td>0.648288</td>\n",
              "      <td>#na#</td>\n",
              "      <td>00:01</td>\n",
              "    </tr>\n",
              "    <tr>\n",
              "      <td>1</td>\n",
              "      <td>0.655079</td>\n",
              "      <td>#na#</td>\n",
              "      <td>00:01</td>\n",
              "    </tr>\n",
              "    <tr>\n",
              "      <td>2</td>\n",
              "      <td>0.631775</td>\n",
              "      <td>#na#</td>\n",
              "      <td>00:01</td>\n",
              "    </tr>\n",
              "    <tr>\n",
              "      <td>3</td>\n",
              "      <td>0.604463</td>\n",
              "      <td>#na#</td>\n",
              "      <td>00:00</td>\n",
              "    </tr>\n",
              "    <tr>\n",
              "      <td>4</td>\n",
              "      <td>0.576725</td>\n",
              "      <td>#na#</td>\n",
              "      <td>00:00</td>\n",
              "    </tr>\n",
              "    <tr>\n",
              "      <td>5</td>\n",
              "      <td>0.527904</td>\n",
              "      <td>#na#</td>\n",
              "      <td>00:00</td>\n",
              "    </tr>\n",
              "    <tr>\n",
              "      <td>6</td>\n",
              "      <td>0.431699</td>\n",
              "      <td>#na#</td>\n",
              "      <td>00:01</td>\n",
              "    </tr>\n",
              "    <tr>\n",
              "      <td>7</td>\n",
              "      <td>1.166023</td>\n",
              "      <td>#na#</td>\n",
              "      <td>00:00</td>\n",
              "    </tr>\n",
              "  </tbody>\n",
              "</table><p>\n",
              "\n",
              "    <div>\n",
              "        <style>\n",
              "            /* Turns off some styling */\n",
              "            progress {\n",
              "                /* gets rid of default border in Firefox and Opera. */\n",
              "                border: none;\n",
              "                /* Needs to be in here for Safari polyfill so background images work as expected. */\n",
              "                background-size: auto;\n",
              "            }\n",
              "            .progress-bar-interrupted, .progress-bar-interrupted::-webkit-progress-bar {\n",
              "                background: #F44336;\n",
              "            }\n",
              "        </style>\n",
              "      <progress value='0' class='' max='11' style='width:300px; height:20px; vertical-align: middle;'></progress>\n",
              "      0.00% [0/11 00:00<00:00]\n",
              "    </div>\n",
              "    "
            ],
            "text/plain": [
              "<IPython.core.display.HTML object>"
            ]
          },
          "metadata": {
            "tags": []
          }
        },
        {
          "output_type": "stream",
          "text": [
            "LR Finder is complete, type {learner_name}.recorder.plot() to see the graph.\n"
          ],
          "name": "stdout"
        }
      ]
    },
    {
      "cell_type": "code",
      "metadata": {
        "id": "C8S4e7vw3AQa",
        "colab_type": "code",
        "colab": {
          "base_uri": "https://localhost:8080/",
          "height": 278
        },
        "outputId": "b87e7b9a-70e9-47b1-c18a-d90692c6bda6"
      },
      "source": [
        "learn_joy.recorder.plot()"
      ],
      "execution_count": 247,
      "outputs": [
        {
          "output_type": "display_data",
          "data": {
            "image/png": "[encoded data removed]",
            "text/plain": [
              "<Figure size 432x288 with 1 Axes>"
            ]
          },
          "metadata": {
            "tags": [],
            "needs_background": "light"
          }
        }
      ]
    },
    {
      "cell_type": "code",
      "metadata": {
        "id": "r9vKjHX13C8B",
        "colab_type": "code",
        "colab": {}
      },
      "source": [
        "lr = 3e-2"
      ],
      "execution_count": 0,
      "outputs": []
    },
    {
      "cell_type": "code",
      "metadata": {
        "id": "6bxte5KZ3FI4",
        "colab_type": "code",
        "colab": {
          "base_uri": "https://localhost:8080/",
          "height": 77
        },
        "outputId": "fd2891c7-d5a4-4de1-d22f-d6c7ee14a27a"
      },
      "source": [
        "learn_joy.fit_one_cycle(1, lr, moms=(0.8,0.7))"
      ],
      "execution_count": 249,
      "outputs": [
        {
          "output_type": "display_data",
          "data": {
            "text/html": [
              "<table border=\"1\" class=\"dataframe\">\n",
              "  <thead>\n",
              "    <tr style=\"text-align: left;\">\n",
              "      <th>epoch</th>\n",
              "      <th>train_loss</th>\n",
              "      <th>valid_loss</th>\n",
              "      <th>root_mean_squared_error</th>\n",
              "      <th>time</th>\n",
              "    </tr>\n",
              "  </thead>\n",
              "  <tbody>\n",
              "    <tr>\n",
              "      <td>0</td>\n",
              "      <td>0.531720</td>\n",
              "      <td>0.156700</td>\n",
              "      <td>0.391163</td>\n",
              "      <td>00:01</td>\n",
              "    </tr>\n",
              "  </tbody>\n",
              "</table>"
            ],
            "text/plain": [
              "<IPython.core.display.HTML object>"
            ]
          },
          "metadata": {
            "tags": []
          }
        }
      ]
    },
    {
      "cell_type": "code",
      "metadata": {
        "id": "6xZpbEaN3JQm",
        "colab_type": "code",
        "colab": {
          "base_uri": "https://localhost:8080/",
          "height": 77
        },
        "outputId": "108776a2-06e1-4653-cbf0-91f70dfc638a"
      },
      "source": [
        "learn_joy.freeze_to(-2)\n",
        "learn_joy.fit_one_cycle(1, slice(lr/(2.6**4),lr), moms=(0.8,0.7))"
      ],
      "execution_count": 250,
      "outputs": [
        {
          "output_type": "display_data",
          "data": {
            "text/html": [
              "<table border=\"1\" class=\"dataframe\">\n",
              "  <thead>\n",
              "    <tr style=\"text-align: left;\">\n",
              "      <th>epoch</th>\n",
              "      <th>train_loss</th>\n",
              "      <th>valid_loss</th>\n",
              "      <th>root_mean_squared_error</th>\n",
              "      <th>time</th>\n",
              "    </tr>\n",
              "  </thead>\n",
              "  <tbody>\n",
              "    <tr>\n",
              "      <td>0</td>\n",
              "      <td>0.102279</td>\n",
              "      <td>0.043798</td>\n",
              "      <td>0.208840</td>\n",
              "      <td>00:01</td>\n",
              "    </tr>\n",
              "  </tbody>\n",
              "</table>"
            ],
            "text/plain": [
              "<IPython.core.display.HTML object>"
            ]
          },
          "metadata": {
            "tags": []
          }
        }
      ]
    },
    {
      "cell_type": "code",
      "metadata": {
        "id": "Zq3xZiFW3P8c",
        "colab_type": "code",
        "colab": {
          "base_uri": "https://localhost:8080/",
          "height": 77
        },
        "outputId": "da03f597-392a-4616-fd56-5b65528cf55e"
      },
      "source": [
        "learn_joy.freeze_to(-3)\n",
        "learn_joy.fit_one_cycle(1, slice(lr/2/(2.6**4),lr/2), moms=(0.8,0.7))"
      ],
      "execution_count": 251,
      "outputs": [
        {
          "output_type": "display_data",
          "data": {
            "text/html": [
              "<table border=\"1\" class=\"dataframe\">\n",
              "  <thead>\n",
              "    <tr style=\"text-align: left;\">\n",
              "      <th>epoch</th>\n",
              "      <th>train_loss</th>\n",
              "      <th>valid_loss</th>\n",
              "      <th>root_mean_squared_error</th>\n",
              "      <th>time</th>\n",
              "    </tr>\n",
              "  </thead>\n",
              "  <tbody>\n",
              "    <tr>\n",
              "      <td>0</td>\n",
              "      <td>0.052437</td>\n",
              "      <td>0.035468</td>\n",
              "      <td>0.187768</td>\n",
              "      <td>00:01</td>\n",
              "    </tr>\n",
              "  </tbody>\n",
              "</table>"
            ],
            "text/plain": [
              "<IPython.core.display.HTML object>"
            ]
          },
          "metadata": {
            "tags": []
          }
        }
      ]
    },
    {
      "cell_type": "code",
      "metadata": {
        "id": "5C5Ub_6s3UMX",
        "colab_type": "code",
        "colab": {
          "base_uri": "https://localhost:8080/",
          "height": 197
        },
        "outputId": "8bb6058a-51ef-4cbe-ab34-ee987a3c9e5d"
      },
      "source": [
        "learn_joy.unfreeze()\n",
        "learn_joy.fit_one_cycle(5, slice(lr/10/(2.6**4),lr/10), moms=(0.8,0.7))"
      ],
      "execution_count": 252,
      "outputs": [
        {
          "output_type": "display_data",
          "data": {
            "text/html": [
              "<table border=\"1\" class=\"dataframe\">\n",
              "  <thead>\n",
              "    <tr style=\"text-align: left;\">\n",
              "      <th>epoch</th>\n",
              "      <th>train_loss</th>\n",
              "      <th>valid_loss</th>\n",
              "      <th>root_mean_squared_error</th>\n",
              "      <th>time</th>\n",
              "    </tr>\n",
              "  </thead>\n",
              "  <tbody>\n",
              "    <tr>\n",
              "      <td>0</td>\n",
              "      <td>0.029467</td>\n",
              "      <td>0.031102</td>\n",
              "      <td>0.175845</td>\n",
              "      <td>00:01</td>\n",
              "    </tr>\n",
              "    <tr>\n",
              "      <td>1</td>\n",
              "      <td>0.027189</td>\n",
              "      <td>0.030418</td>\n",
              "      <td>0.173744</td>\n",
              "      <td>00:01</td>\n",
              "    </tr>\n",
              "    <tr>\n",
              "      <td>2</td>\n",
              "      <td>0.023455</td>\n",
              "      <td>0.027855</td>\n",
              "      <td>0.166176</td>\n",
              "      <td>00:01</td>\n",
              "    </tr>\n",
              "    <tr>\n",
              "      <td>3</td>\n",
              "      <td>0.021097</td>\n",
              "      <td>0.027452</td>\n",
              "      <td>0.164827</td>\n",
              "      <td>00:01</td>\n",
              "    </tr>\n",
              "    <tr>\n",
              "      <td>4</td>\n",
              "      <td>0.018984</td>\n",
              "      <td>0.028023</td>\n",
              "      <td>0.166536</td>\n",
              "      <td>00:01</td>\n",
              "    </tr>\n",
              "  </tbody>\n",
              "</table>"
            ],
            "text/plain": [
              "<IPython.core.display.HTML object>"
            ]
          },
          "metadata": {
            "tags": []
          }
        }
      ]
    },
    {
      "cell_type": "code",
      "metadata": {
        "id": "-S0p3Mbq3Yv9",
        "colab_type": "code",
        "colab": {}
      },
      "source": [
        "learn_joy.save(\"joy_regr\")"
      ],
      "execution_count": 0,
      "outputs": []
    },
    {
      "cell_type": "code",
      "metadata": {
        "id": "4hEYDFgb3gLG",
        "colab_type": "code",
        "colab": {}
      },
      "source": [
        ""
      ],
      "execution_count": 0,
      "outputs": []
    },
    {
      "cell_type": "markdown",
      "metadata": {
        "id": "JF1MzolV3g30",
        "colab_type": "text"
      },
      "source": [
        "### Sadness - Regression"
      ]
    },
    {
      "cell_type": "code",
      "metadata": {
        "id": "bPbEpmc-3i6n",
        "colab_type": "code",
        "colab": {}
      },
      "source": [
        "sad_df = pd.read_csv(DATA_PATH/\"sadness_df.csv\")"
      ],
      "execution_count": 0,
      "outputs": []
    },
    {
      "cell_type": "code",
      "metadata": {
        "id": "jBQhhOcp3oGW",
        "colab_type": "code",
        "colab": {
          "base_uri": "https://localhost:8080/",
          "height": 72
        },
        "outputId": "63a2e249-d38c-488d-9aeb-eabb5e27658a"
      },
      "source": [
        "data_sad_lm = (TextList.from_df(sad_df, DATA_PATH, cols=[\"text\"])\n",
        "                  .random_split_by_pct(0.1)\n",
        "                  .label_for_lm()\n",
        "                  .databunch(bs=48))"
      ],
      "execution_count": 255,
      "outputs": [
        {
          "output_type": "stream",
          "text": [
            "/usr/local/lib/python3.6/dist-packages/fastai/data_block.py:215: UserWarning: `random_split_by_pct` is deprecated, please use `split_by_rand_pct`.\n",
            "  warn(\"`random_split_by_pct` is deprecated, please use `split_by_rand_pct`.\")\n"
          ],
          "name": "stderr"
        },
        {
          "output_type": "display_data",
          "data": {
            "text/html": [
              ""
            ],
            "text/plain": [
              "<IPython.core.display.HTML object>"
            ]
          },
          "metadata": {
            "tags": []
          }
        },
        {
          "output_type": "display_data",
          "data": {
            "text/html": [
              ""
            ],
            "text/plain": [
              "<IPython.core.display.HTML object>"
            ]
          },
          "metadata": {
            "tags": []
          }
        }
      ]
    },
    {
      "cell_type": "code",
      "metadata": {
        "id": "qTM5UMkw-eeJ",
        "colab_type": "code",
        "colab": {
          "base_uri": "https://localhost:8080/",
          "height": 331
        },
        "outputId": "f2e1b759-a6a2-4b1b-fb7e-6a0d9a656285"
      },
      "source": [
        "data_sad_lm.show_batch()"
      ],
      "execution_count": 256,
      "outputs": [
        {
          "output_type": "display_data",
          "data": {
            "text/html": [
              "<table border=\"1\" class=\"dataframe\">\n",
              "  <thead>\n",
              "    <tr style=\"text-align: right;\">\n",
              "      <th>idx</th>\n",
              "      <th>text</th>\n",
              "    </tr>\n",
              "  </thead>\n",
              "  <tbody>\n",
              "    <tr>\n",
              "      <td>0</td>\n",
              "      <td>me to hard rn xxbos xxmaj so when i try i fail ... and when i do n't try ... i still fail ... # confused and # lost xxbos xxmaj xxunk sadness xxbos my life in one word is depressing xxbos xxmaj xxunk xxunk are the worst . xxmaj feeling really sick and still xxunk . i should be a sleep . # anxiety # depression xxbos xxmaj feel</td>\n",
              "    </tr>\n",
              "    <tr>\n",
              "      <td>1</td>\n",
              "      <td>depression xxbos xxmaj the moment of the day when you have to start to xxunk a smile in your face . # depression xxbos i hate when it 's gloomy outside because it always gets me in a depressing mood xxbos xxmaj people xxunk things from my work out quite the damper on my day so now i am going to xxunk xxunk all day xxbos xxunk xxunk xxunk !</td>\n",
              "    </tr>\n",
              "    <tr>\n",
              "      <td>2</td>\n",
              "      <td>xxunk \\n  road , \\n  still xxunk ! # depression \\n \\n  # xxunk # xxunk xxbos xxmaj well my xxunk came back and i am xxunk xxunk . xxmaj xxunk xxunk xxunk on the xxup xxunk sunk my xxunk . it 's time for me to quit xxunk xxbos bad news xxunk , life is still hard and xxunk # depression # anxiety # xxunk xxbos</td>\n",
              "    </tr>\n",
              "    <tr>\n",
              "      <td>3</td>\n",
              "      <td>xxunk though lately with how bad my depression has been i feel like my body is like just , taking what little it can get xxbos xxmaj we have left # xxmaj xxunk . # sadness xxbos so fucking sad when the person you love does n't try fighting for your happiness , when you 'd do anything for them . xxbos xxunk # xxunk do u # wait 4</td>\n",
              "    </tr>\n",
              "    <tr>\n",
              "      <td>4</td>\n",
              "      <td>xxmaj to good xxunk i lost my job i 'm xxmaj responsible 2 xxunk xxmaj my xxmaj xxunk in xxunk even xxunk if ca n’t just xxmaj re - tweet xxbos xxmaj xxunk xxunk anything xxunk to xxunk or xxmaj xxunk ! # xxunk # depressing # xxunk 😭 xxunk xxbos xxmaj it 's just xxunk xxunk and xxunk . xxmaj the war on xxunk has xxunk . # sadness</td>\n",
              "    </tr>\n",
              "  </tbody>\n",
              "</table>"
            ],
            "text/plain": [
              "<IPython.core.display.HTML object>"
            ]
          },
          "metadata": {
            "tags": []
          }
        }
      ]
    },
    {
      "cell_type": "code",
      "metadata": {
        "id": "1kQB_sxR-hLK",
        "colab_type": "code",
        "colab": {}
      },
      "source": [
        "learn_sad_lm = language_model_learner(data_sad_lm, AWD_LSTM, drop_mult=0.3)"
      ],
      "execution_count": 0,
      "outputs": []
    },
    {
      "cell_type": "code",
      "metadata": {
        "id": "aFDrO9b3_WXZ",
        "colab_type": "code",
        "colab": {
          "base_uri": "https://localhost:8080/",
          "height": 592
        },
        "outputId": "111f4015-6664-480f-96a6-92fc8de29ef9"
      },
      "source": [
        "learn_sad_lm.lr_find()"
      ],
      "execution_count": 259,
      "outputs": [
        {
          "output_type": "display_data",
          "data": {
            "text/html": [
              "\n",
              "    <div>\n",
              "        <style>\n",
              "            /* Turns off some styling */\n",
              "            progress {\n",
              "                /* gets rid of default border in Firefox and Opera. */\n",
              "                border: none;\n",
              "                /* Needs to be in here for Safari polyfill so background images work as expected. */\n",
              "                background-size: auto;\n",
              "            }\n",
              "            .progress-bar-interrupted, .progress-bar-interrupted::-webkit-progress-bar {\n",
              "                background: #F44336;\n",
              "            }\n",
              "        </style>\n",
              "      <progress value='16' class='' max='17' style='width:300px; height:20px; vertical-align: middle;'></progress>\n",
              "      94.12% [16/17 00:16<00:01]\n",
              "    </div>\n",
              "    \n",
              "<table border=\"1\" class=\"dataframe\">\n",
              "  <thead>\n",
              "    <tr style=\"text-align: left;\">\n",
              "      <th>epoch</th>\n",
              "      <th>train_loss</th>\n",
              "      <th>valid_loss</th>\n",
              "      <th>accuracy</th>\n",
              "      <th>time</th>\n",
              "    </tr>\n",
              "  </thead>\n",
              "  <tbody>\n",
              "    <tr>\n",
              "      <td>0</td>\n",
              "      <td>5.225874</td>\n",
              "      <td>#na#</td>\n",
              "      <td>00:01</td>\n",
              "    </tr>\n",
              "    <tr>\n",
              "      <td>1</td>\n",
              "      <td>5.237373</td>\n",
              "      <td>#na#</td>\n",
              "      <td>00:01</td>\n",
              "    </tr>\n",
              "    <tr>\n",
              "      <td>2</td>\n",
              "      <td>5.233919</td>\n",
              "      <td>#na#</td>\n",
              "      <td>00:01</td>\n",
              "    </tr>\n",
              "    <tr>\n",
              "      <td>3</td>\n",
              "      <td>5.232586</td>\n",
              "      <td>#na#</td>\n",
              "      <td>00:01</td>\n",
              "    </tr>\n",
              "    <tr>\n",
              "      <td>4</td>\n",
              "      <td>5.230597</td>\n",
              "      <td>#na#</td>\n",
              "      <td>00:01</td>\n",
              "    </tr>\n",
              "    <tr>\n",
              "      <td>5</td>\n",
              "      <td>5.231441</td>\n",
              "      <td>#na#</td>\n",
              "      <td>00:01</td>\n",
              "    </tr>\n",
              "    <tr>\n",
              "      <td>6</td>\n",
              "      <td>5.227627</td>\n",
              "      <td>#na#</td>\n",
              "      <td>00:01</td>\n",
              "    </tr>\n",
              "    <tr>\n",
              "      <td>7</td>\n",
              "      <td>5.222159</td>\n",
              "      <td>#na#</td>\n",
              "      <td>00:01</td>\n",
              "    </tr>\n",
              "    <tr>\n",
              "      <td>8</td>\n",
              "      <td>5.201628</td>\n",
              "      <td>#na#</td>\n",
              "      <td>00:01</td>\n",
              "    </tr>\n",
              "    <tr>\n",
              "      <td>9</td>\n",
              "      <td>5.138303</td>\n",
              "      <td>#na#</td>\n",
              "      <td>00:01</td>\n",
              "    </tr>\n",
              "    <tr>\n",
              "      <td>10</td>\n",
              "      <td>5.010187</td>\n",
              "      <td>#na#</td>\n",
              "      <td>00:01</td>\n",
              "    </tr>\n",
              "    <tr>\n",
              "      <td>11</td>\n",
              "      <td>4.826233</td>\n",
              "      <td>#na#</td>\n",
              "      <td>00:01</td>\n",
              "    </tr>\n",
              "    <tr>\n",
              "      <td>12</td>\n",
              "      <td>4.626054</td>\n",
              "      <td>#na#</td>\n",
              "      <td>00:01</td>\n",
              "    </tr>\n",
              "    <tr>\n",
              "      <td>13</td>\n",
              "      <td>4.451056</td>\n",
              "      <td>#na#</td>\n",
              "      <td>00:01</td>\n",
              "    </tr>\n",
              "    <tr>\n",
              "      <td>14</td>\n",
              "      <td>4.418060</td>\n",
              "      <td>#na#</td>\n",
              "      <td>00:01</td>\n",
              "    </tr>\n",
              "    <tr>\n",
              "      <td>15</td>\n",
              "      <td>5.730098</td>\n",
              "      <td>#na#</td>\n",
              "      <td>00:01</td>\n",
              "    </tr>\n",
              "  </tbody>\n",
              "</table><p>\n",
              "\n",
              "    <div>\n",
              "        <style>\n",
              "            /* Turns off some styling */\n",
              "            progress {\n",
              "                /* gets rid of default border in Firefox and Opera. */\n",
              "                border: none;\n",
              "                /* Needs to be in here for Safari polyfill so background images work as expected. */\n",
              "                background-size: auto;\n",
              "            }\n",
              "            .progress-bar-interrupted, .progress-bar-interrupted::-webkit-progress-bar {\n",
              "                background: #F44336;\n",
              "            }\n",
              "        </style>\n",
              "      <progress value='3' class='' max='6' style='width:300px; height:20px; vertical-align: middle;'></progress>\n",
              "      50.00% [3/6 00:00<00:00 7.5802]\n",
              "    </div>\n",
              "    "
            ],
            "text/plain": [
              "<IPython.core.display.HTML object>"
            ]
          },
          "metadata": {
            "tags": []
          }
        },
        {
          "output_type": "stream",
          "text": [
            "LR Finder is complete, type {learner_name}.recorder.plot() to see the graph.\n"
          ],
          "name": "stdout"
        }
      ]
    },
    {
      "cell_type": "code",
      "metadata": {
        "id": "UHlsS0rA_d4R",
        "colab_type": "code",
        "colab": {
          "base_uri": "https://localhost:8080/",
          "height": 278
        },
        "outputId": "aecf8f70-d2dd-4134-d9d5-e8fefe53b05e"
      },
      "source": [
        "learn_sad_lm.recorder.plot()"
      ],
      "execution_count": 260,
      "outputs": [
        {
          "output_type": "display_data",
          "data": {
            "image/png": "[encoded data removed]",
            "text/plain": [
              "<Figure size 432x288 with 1 Axes>"
            ]
          },
          "metadata": {
            "tags": [],
            "needs_background": "light"
          }
        }
      ]
    },
    {
      "cell_type": "code",
      "metadata": {
        "id": "9lSCtsmk_is_",
        "colab_type": "code",
        "colab": {
          "base_uri": "https://localhost:8080/",
          "height": 77
        },
        "outputId": "14f83b52-8ec7-4c48-cb37-5ede14a79923"
      },
      "source": [
        "learn_sad_lm.fit_one_cycle(1, 3e-2, moms=(0.8,0.7))"
      ],
      "execution_count": 265,
      "outputs": [
        {
          "output_type": "display_data",
          "data": {
            "text/html": [
              "<table border=\"1\" class=\"dataframe\">\n",
              "  <thead>\n",
              "    <tr style=\"text-align: left;\">\n",
              "      <th>epoch</th>\n",
              "      <th>train_loss</th>\n",
              "      <th>valid_loss</th>\n",
              "      <th>accuracy</th>\n",
              "      <th>time</th>\n",
              "    </tr>\n",
              "  </thead>\n",
              "  <tbody>\n",
              "    <tr>\n",
              "      <td>0</td>\n",
              "      <td>4.663994</td>\n",
              "      <td>3.909419</td>\n",
              "      <td>0.283036</td>\n",
              "      <td>00:01</td>\n",
              "    </tr>\n",
              "  </tbody>\n",
              "</table>"
            ],
            "text/plain": [
              "<IPython.core.display.HTML object>"
            ]
          },
          "metadata": {
            "tags": []
          }
        }
      ]
    },
    {
      "cell_type": "code",
      "metadata": {
        "id": "tj8Ywq4l_qmj",
        "colab_type": "code",
        "colab": {}
      },
      "source": [
        "learn_sad_lm.unfreeze()"
      ],
      "execution_count": 0,
      "outputs": []
    },
    {
      "cell_type": "code",
      "metadata": {
        "id": "j9rOLW3y_si0",
        "colab_type": "code",
        "colab": {
          "base_uri": "https://localhost:8080/",
          "height": 167
        },
        "outputId": "23180202-353c-42ce-addb-3585c41d751d"
      },
      "source": [
        "learn_sad_lm.fit_one_cycle(4, 3e-2, moms=(0.8,0.7))"
      ],
      "execution_count": 267,
      "outputs": [
        {
          "output_type": "display_data",
          "data": {
            "text/html": [
              "<table border=\"1\" class=\"dataframe\">\n",
              "  <thead>\n",
              "    <tr style=\"text-align: left;\">\n",
              "      <th>epoch</th>\n",
              "      <th>train_loss</th>\n",
              "      <th>valid_loss</th>\n",
              "      <th>accuracy</th>\n",
              "      <th>time</th>\n",
              "    </tr>\n",
              "  </thead>\n",
              "  <tbody>\n",
              "    <tr>\n",
              "      <td>0</td>\n",
              "      <td>4.132400</td>\n",
              "      <td>4.325091</td>\n",
              "      <td>0.249702</td>\n",
              "      <td>00:01</td>\n",
              "    </tr>\n",
              "    <tr>\n",
              "      <td>1</td>\n",
              "      <td>4.091601</td>\n",
              "      <td>3.759883</td>\n",
              "      <td>0.287798</td>\n",
              "      <td>00:01</td>\n",
              "    </tr>\n",
              "    <tr>\n",
              "      <td>2</td>\n",
              "      <td>3.721377</td>\n",
              "      <td>3.632043</td>\n",
              "      <td>0.285417</td>\n",
              "      <td>00:01</td>\n",
              "    </tr>\n",
              "    <tr>\n",
              "      <td>3</td>\n",
              "      <td>3.357991</td>\n",
              "      <td>3.696711</td>\n",
              "      <td>0.292560</td>\n",
              "      <td>00:01</td>\n",
              "    </tr>\n",
              "  </tbody>\n",
              "</table>"
            ],
            "text/plain": [
              "<IPython.core.display.HTML object>"
            ]
          },
          "metadata": {
            "tags": []
          }
        }
      ]
    },
    {
      "cell_type": "code",
      "metadata": {
        "id": "FOIaQzEW_xnx",
        "colab_type": "code",
        "colab": {}
      },
      "source": [
        "learn_sad_lm.save(\"fine_tuned_sad\")"
      ],
      "execution_count": 0,
      "outputs": []
    },
    {
      "cell_type": "code",
      "metadata": {
        "id": "Xe_VHwiIABYh",
        "colab_type": "code",
        "colab": {}
      },
      "source": [
        "learn_sad_lm.save_encoder(\"fine_tuned_sad_enc\")"
      ],
      "execution_count": 0,
      "outputs": []
    },
    {
      "cell_type": "code",
      "metadata": {
        "id": "HsnGGpExAEUc",
        "colab_type": "code",
        "colab": {}
      },
      "source": [
        ""
      ],
      "execution_count": 0,
      "outputs": []
    },
    {
      "cell_type": "code",
      "metadata": {
        "id": "IUoWpVp_AVMx",
        "colab_type": "code",
        "colab": {
          "base_uri": "https://localhost:8080/",
          "height": 16
        },
        "outputId": "7f3f4142-ac23-499f-e7b2-a51404375824"
      },
      "source": [
        "sad_regr = (TextList.from_df(df=sad_df, path=DATA_PATH, cols='text', vocab=data_sad_lm.vocab)\n",
        "             .split_from_df(col='is_valid')\n",
        "             .label_from_df(cols=['intensity'], label_cls=FloatList)\n",
        "             .databunch())"
      ],
      "execution_count": 271,
      "outputs": [
        {
          "output_type": "display_data",
          "data": {
            "text/html": [
              ""
            ],
            "text/plain": [
              "<IPython.core.display.HTML object>"
            ]
          },
          "metadata": {
            "tags": []
          }
        },
        {
          "output_type": "display_data",
          "data": {
            "text/html": [
              ""
            ],
            "text/plain": [
              "<IPython.core.display.HTML object>"
            ]
          },
          "metadata": {
            "tags": []
          }
        }
      ]
    },
    {
      "cell_type": "code",
      "metadata": {
        "id": "bX-8NjwXAUqz",
        "colab_type": "code",
        "colab": {
          "base_uri": "https://localhost:8080/",
          "height": 281
        },
        "outputId": "5d73e109-01d9-488b-d362-3f9befdacf7a"
      },
      "source": [
        "sad_regr.show_batch()"
      ],
      "execution_count": 272,
      "outputs": [
        {
          "output_type": "display_data",
          "data": {
            "text/html": [
              "<table border=\"1\" class=\"dataframe\">\n",
              "  <thead>\n",
              "    <tr style=\"text-align: right;\">\n",
              "      <th>text</th>\n",
              "      <th>target</th>\n",
              "    </tr>\n",
              "  </thead>\n",
              "  <tbody>\n",
              "    <tr>\n",
              "      <td>xxbos xxmaj stars , when you xxunk , \\n  xxmaj you know how i feel . \\n  xxmaj xxunk of the pine , \\n  xxmaj you know how i feel . \\n  xxmaj xxunk is xxunk , \\n  i know how i feel . \\n  i 'm xxunk ' good .</td>\n",
              "      <td>0.292</td>\n",
              "    </tr>\n",
              "    <tr>\n",
              "      <td>xxbos xxmaj folk xxmaj band ' xxmaj xxunk xxmaj down ' will be replaced by ' xxmaj the xxmaj paul xxmaj xxunk xxmaj xxunk ' at xxmaj xxunk xxmaj bank xxmaj park xxmaj sat xxunk 11 am - 3 pm due to ill health # jazz # blues</td>\n",
              "      <td>0.417</td>\n",
              "    </tr>\n",
              "    <tr>\n",
              "      <td>xxbos xxunk xxmaj start w / the 3 xxunk in xxmaj xxunk xxmaj xxunk \\n  1 ) xxmaj wild \\n  xxunk \\n  xxunk xxmaj me down 😭 😭 for # xxmaj xxunk \\n  xxmaj also , \\n  xxunk xxmaj good . # serious xxunk / xxunk xxunk</td>\n",
              "      <td>0.375</td>\n",
              "    </tr>\n",
              "    <tr>\n",
              "      <td>xxbos xxmaj folk xxmaj band ' xxmaj xxunk xxmaj down ' will be replaced by ' xxmaj the xxmaj paul xxmaj xxunk xxmaj xxunk ' at xxmaj xxunk xxmaj bank xxmaj park xxmaj sat xxunk 11 am - 3 pm due to ill health # jazz</td>\n",
              "      <td>0.271</td>\n",
              "    </tr>\n",
              "    <tr>\n",
              "      <td>xxbos xxup tonight - xxmaj xxunk xxmaj arms , xxmaj xxunk \\n  xxup tomorrow - xxmaj bank xxmaj top xxmaj xxunk , xxmaj xxunk \\n  xxup next xxup xxunk xxmaj big xxmaj hands , xxmaj xxunk \\n \\n  # xxunk # xxunk # blues # xxunk</td>\n",
              "      <td>0.188</td>\n",
              "    </tr>\n",
              "  </tbody>\n",
              "</table>"
            ],
            "text/plain": [
              "<IPython.core.display.HTML object>"
            ]
          },
          "metadata": {
            "tags": []
          }
        }
      ]
    },
    {
      "cell_type": "code",
      "metadata": {
        "id": "ISV8aVJuAFTz",
        "colab_type": "code",
        "colab": {}
      },
      "source": [
        "learn_sad = text_classifier_learner(sad_regr, AWD_LSTM, drop_mult=0.3,metrics = rmse)\n",
        "learn_sad.loss_func=MSELossFlat()\n",
        "learn_sad.load_encoder('fine_tuned_sad_enc')\n",
        "learn_sad.freeze()"
      ],
      "execution_count": 0,
      "outputs": []
    },
    {
      "cell_type": "code",
      "metadata": {
        "id": "U5qISSPjAFSA",
        "colab_type": "code",
        "colab": {
          "base_uri": "https://localhost:8080/",
          "height": 352
        },
        "outputId": "92695d43-5776-473a-d0f4-dcbd73818850"
      },
      "source": [
        "learn_sad.lr_find()"
      ],
      "execution_count": 274,
      "outputs": [
        {
          "output_type": "display_data",
          "data": {
            "text/html": [
              "\n",
              "    <div>\n",
              "        <style>\n",
              "            /* Turns off some styling */\n",
              "            progress {\n",
              "                /* gets rid of default border in Firefox and Opera. */\n",
              "                border: none;\n",
              "                /* Needs to be in here for Safari polyfill so background images work as expected. */\n",
              "                background-size: auto;\n",
              "            }\n",
              "            .progress-bar-interrupted, .progress-bar-interrupted::-webkit-progress-bar {\n",
              "                background: #F44336;\n",
              "            }\n",
              "        </style>\n",
              "      <progress value='8' class='' max='10' style='width:300px; height:20px; vertical-align: middle;'></progress>\n",
              "      80.00% [8/10 00:07<00:01]\n",
              "    </div>\n",
              "    \n",
              "<table border=\"1\" class=\"dataframe\">\n",
              "  <thead>\n",
              "    <tr style=\"text-align: left;\">\n",
              "      <th>epoch</th>\n",
              "      <th>train_loss</th>\n",
              "      <th>valid_loss</th>\n",
              "      <th>root_mean_squared_error</th>\n",
              "      <th>time</th>\n",
              "    </tr>\n",
              "  </thead>\n",
              "  <tbody>\n",
              "    <tr>\n",
              "      <td>0</td>\n",
              "      <td>0.807115</td>\n",
              "      <td>#na#</td>\n",
              "      <td>00:00</td>\n",
              "    </tr>\n",
              "    <tr>\n",
              "      <td>1</td>\n",
              "      <td>0.787004</td>\n",
              "      <td>#na#</td>\n",
              "      <td>00:00</td>\n",
              "    </tr>\n",
              "    <tr>\n",
              "      <td>2</td>\n",
              "      <td>0.793305</td>\n",
              "      <td>#na#</td>\n",
              "      <td>00:00</td>\n",
              "    </tr>\n",
              "    <tr>\n",
              "      <td>3</td>\n",
              "      <td>0.775674</td>\n",
              "      <td>#na#</td>\n",
              "      <td>00:01</td>\n",
              "    </tr>\n",
              "    <tr>\n",
              "      <td>4</td>\n",
              "      <td>0.746570</td>\n",
              "      <td>#na#</td>\n",
              "      <td>00:01</td>\n",
              "    </tr>\n",
              "    <tr>\n",
              "      <td>5</td>\n",
              "      <td>0.692287</td>\n",
              "      <td>#na#</td>\n",
              "      <td>00:00</td>\n",
              "    </tr>\n",
              "    <tr>\n",
              "      <td>6</td>\n",
              "      <td>0.602537</td>\n",
              "      <td>#na#</td>\n",
              "      <td>00:00</td>\n",
              "    </tr>\n",
              "    <tr>\n",
              "      <td>7</td>\n",
              "      <td>0.484235</td>\n",
              "      <td>#na#</td>\n",
              "      <td>00:01</td>\n",
              "    </tr>\n",
              "  </tbody>\n",
              "</table><p>\n",
              "\n",
              "    <div>\n",
              "        <style>\n",
              "            /* Turns off some styling */\n",
              "            progress {\n",
              "                /* gets rid of default border in Firefox and Opera. */\n",
              "                border: none;\n",
              "                /* Needs to be in here for Safari polyfill so background images work as expected. */\n",
              "                background-size: auto;\n",
              "            }\n",
              "            .progress-bar-interrupted, .progress-bar-interrupted::-webkit-progress-bar {\n",
              "                background: #F44336;\n",
              "            }\n",
              "        </style>\n",
              "      <progress value='7' class='' max='10' style='width:300px; height:20px; vertical-align: middle;'></progress>\n",
              "      70.00% [7/10 00:00<00:00 1.7003]\n",
              "    </div>\n",
              "    "
            ],
            "text/plain": [
              "<IPython.core.display.HTML object>"
            ]
          },
          "metadata": {
            "tags": []
          }
        },
        {
          "output_type": "stream",
          "text": [
            "LR Finder is complete, type {learner_name}.recorder.plot() to see the graph.\n"
          ],
          "name": "stdout"
        }
      ]
    },
    {
      "cell_type": "code",
      "metadata": {
        "id": "6Nj2yIVBAFN0",
        "colab_type": "code",
        "colab": {
          "base_uri": "https://localhost:8080/",
          "height": 278
        },
        "outputId": "dec8866a-f48e-4006-8dae-87e6fffdcdcc"
      },
      "source": [
        "learn_sad.recorder.plot()"
      ],
      "execution_count": 275,
      "outputs": [
        {
          "output_type": "display_data",
          "data": {
            "image/png": "[encoded data removed]",
            "text/plain": [
              "<Figure size 432x288 with 1 Axes>"
            ]
          },
          "metadata": {
            "tags": [],
            "needs_background": "light"
          }
        }
      ]
    },
    {
      "cell_type": "code",
      "metadata": {
        "id": "fFioEEhxAFDa",
        "colab_type": "code",
        "colab": {}
      },
      "source": [
        "lr = 1e-2"
      ],
      "execution_count": 0,
      "outputs": []
    },
    {
      "cell_type": "code",
      "metadata": {
        "id": "_zORN_zIApsa",
        "colab_type": "code",
        "colab": {
          "base_uri": "https://localhost:8080/",
          "height": 77
        },
        "outputId": "0572fc4e-4cf3-4dc4-92fe-6df72e653b7f"
      },
      "source": [
        "learn_sad.fit_one_cycle(1, lr, moms=(0.8,0.7))"
      ],
      "execution_count": 283,
      "outputs": [
        {
          "output_type": "display_data",
          "data": {
            "text/html": [
              "<table border=\"1\" class=\"dataframe\">\n",
              "  <thead>\n",
              "    <tr style=\"text-align: left;\">\n",
              "      <th>epoch</th>\n",
              "      <th>train_loss</th>\n",
              "      <th>valid_loss</th>\n",
              "      <th>root_mean_squared_error</th>\n",
              "      <th>time</th>\n",
              "    </tr>\n",
              "  </thead>\n",
              "  <tbody>\n",
              "    <tr>\n",
              "      <td>0</td>\n",
              "      <td>0.461796</td>\n",
              "      <td>0.163106</td>\n",
              "      <td>0.403289</td>\n",
              "      <td>00:01</td>\n",
              "    </tr>\n",
              "  </tbody>\n",
              "</table>"
            ],
            "text/plain": [
              "<IPython.core.display.HTML object>"
            ]
          },
          "metadata": {
            "tags": []
          }
        }
      ]
    },
    {
      "cell_type": "code",
      "metadata": {
        "id": "Uy2JA2OlAvht",
        "colab_type": "code",
        "colab": {
          "base_uri": "https://localhost:8080/",
          "height": 77
        },
        "outputId": "f0d2b54f-c97a-4777-b64a-0bc7e7392da7"
      },
      "source": [
        "learn_sad.freeze_to(-2)\n",
        "learn_sad.fit_one_cycle(1, slice(lr/(2.6**4),lr), moms=(0.8,0.7))"
      ],
      "execution_count": 284,
      "outputs": [
        {
          "output_type": "display_data",
          "data": {
            "text/html": [
              "<table border=\"1\" class=\"dataframe\">\n",
              "  <thead>\n",
              "    <tr style=\"text-align: left;\">\n",
              "      <th>epoch</th>\n",
              "      <th>train_loss</th>\n",
              "      <th>valid_loss</th>\n",
              "      <th>root_mean_squared_error</th>\n",
              "      <th>time</th>\n",
              "    </tr>\n",
              "  </thead>\n",
              "  <tbody>\n",
              "    <tr>\n",
              "      <td>0</td>\n",
              "      <td>0.200374</td>\n",
              "      <td>0.103086</td>\n",
              "      <td>0.320573</td>\n",
              "      <td>00:01</td>\n",
              "    </tr>\n",
              "  </tbody>\n",
              "</table>"
            ],
            "text/plain": [
              "<IPython.core.display.HTML object>"
            ]
          },
          "metadata": {
            "tags": []
          }
        }
      ]
    },
    {
      "cell_type": "code",
      "metadata": {
        "id": "cEfqKhBuBfU4",
        "colab_type": "code",
        "colab": {
          "base_uri": "https://localhost:8080/",
          "height": 77
        },
        "outputId": "0fe41227-d92f-41ec-a32e-b9b002989b3e"
      },
      "source": [
        "learn_sad.freeze_to(-3)\n",
        "learn_sad.fit_one_cycle(1, slice(lr/2/(2.6**4),lr/2), moms=(0.8,0.7))"
      ],
      "execution_count": 285,
      "outputs": [
        {
          "output_type": "display_data",
          "data": {
            "text/html": [
              "<table border=\"1\" class=\"dataframe\">\n",
              "  <thead>\n",
              "    <tr style=\"text-align: left;\">\n",
              "      <th>epoch</th>\n",
              "      <th>train_loss</th>\n",
              "      <th>valid_loss</th>\n",
              "      <th>root_mean_squared_error</th>\n",
              "      <th>time</th>\n",
              "    </tr>\n",
              "  </thead>\n",
              "  <tbody>\n",
              "    <tr>\n",
              "      <td>0</td>\n",
              "      <td>0.120822</td>\n",
              "      <td>0.064729</td>\n",
              "      <td>0.253359</td>\n",
              "      <td>00:01</td>\n",
              "    </tr>\n",
              "  </tbody>\n",
              "</table>"
            ],
            "text/plain": [
              "<IPython.core.display.HTML object>"
            ]
          },
          "metadata": {
            "tags": []
          }
        }
      ]
    },
    {
      "cell_type": "code",
      "metadata": {
        "id": "kNL2U4k2BiHQ",
        "colab_type": "code",
        "colab": {
          "base_uri": "https://localhost:8080/",
          "height": 197
        },
        "outputId": "0ee1eb25-d4e6-408b-8f43-025233f1c7fd"
      },
      "source": [
        "learn_sad.unfreeze()\n",
        "learn_sad.fit_one_cycle(5, slice(lr/10/(2.6**4),lr/10), moms=(0.8,0.7))"
      ],
      "execution_count": 286,
      "outputs": [
        {
          "output_type": "display_data",
          "data": {
            "text/html": [
              "<table border=\"1\" class=\"dataframe\">\n",
              "  <thead>\n",
              "    <tr style=\"text-align: left;\">\n",
              "      <th>epoch</th>\n",
              "      <th>train_loss</th>\n",
              "      <th>valid_loss</th>\n",
              "      <th>root_mean_squared_error</th>\n",
              "      <th>time</th>\n",
              "    </tr>\n",
              "  </thead>\n",
              "  <tbody>\n",
              "    <tr>\n",
              "      <td>0</td>\n",
              "      <td>0.085414</td>\n",
              "      <td>0.060042</td>\n",
              "      <td>0.244082</td>\n",
              "      <td>00:01</td>\n",
              "    </tr>\n",
              "    <tr>\n",
              "      <td>1</td>\n",
              "      <td>0.078301</td>\n",
              "      <td>0.049850</td>\n",
              "      <td>0.222402</td>\n",
              "      <td>00:01</td>\n",
              "    </tr>\n",
              "    <tr>\n",
              "      <td>2</td>\n",
              "      <td>0.065446</td>\n",
              "      <td>0.044837</td>\n",
              "      <td>0.211087</td>\n",
              "      <td>00:01</td>\n",
              "    </tr>\n",
              "    <tr>\n",
              "      <td>3</td>\n",
              "      <td>0.057842</td>\n",
              "      <td>0.045593</td>\n",
              "      <td>0.212783</td>\n",
              "      <td>00:01</td>\n",
              "    </tr>\n",
              "    <tr>\n",
              "      <td>4</td>\n",
              "      <td>0.053062</td>\n",
              "      <td>0.045571</td>\n",
              "      <td>0.212668</td>\n",
              "      <td>00:01</td>\n",
              "    </tr>\n",
              "  </tbody>\n",
              "</table>"
            ],
            "text/plain": [
              "<IPython.core.display.HTML object>"
            ]
          },
          "metadata": {
            "tags": []
          }
        }
      ]
    },
    {
      "cell_type": "code",
      "metadata": {
        "id": "iYf86I14Bn89",
        "colab_type": "code",
        "colab": {}
      },
      "source": [
        "learn_sad.save(\"sad_regr\")"
      ],
      "execution_count": 0,
      "outputs": []
    },
    {
      "cell_type": "code",
      "metadata": {
        "id": "vHrXtWNBB5-x",
        "colab_type": "code",
        "colab": {}
      },
      "source": [
        ""
      ],
      "execution_count": 0,
      "outputs": []
    },
    {
      "cell_type": "code",
      "metadata": {
        "id": "yzYgXhasE0X6",
        "colab_type": "code",
        "colab": {}
      },
      "source": [
        "anger_regr.save(\"textlist_anger_regr\")\n",
        "fear_regr.save(\"textlist_fear_regr\")\n",
        "joy_regr.save(\"textlist_joy_regr\")\n",
        "sad_regr.save(\"textlist_sad_regr\")"
      ],
      "execution_count": 0,
      "outputs": []
    },
    {
      "cell_type": "markdown",
      "metadata": {
        "id": "nem4VksWB_OY",
        "colab_type": "text"
      },
      "source": [
        "### Combining Classifier and Intensity Predictor"
      ]
    },
    {
      "cell_type": "code",
      "metadata": {
        "id": "i8lN0YFJB93G",
        "colab_type": "code",
        "colab": {}
      },
      "source": [
        "tweet = \"Hey! I like to enjoy the sun in mornings.#veryhappy\""
      ],
      "execution_count": 0,
      "outputs": []
    },
    {
      "cell_type": "code",
      "metadata": {
        "id": "7a6RV97TCMi8",
        "colab_type": "code",
        "colab": {}
      },
      "source": [
        "pred = predict_emotion(tweet)[0][1].item()"
      ],
      "execution_count": 0,
      "outputs": []
    },
    {
      "cell_type": "code",
      "metadata": {
        "id": "gZKyviOfCOq0",
        "colab_type": "code",
        "colab": {}
      },
      "source": [
        "all_data = ['textlist_anger_regr','textlist_fear_regr','textlist_joy_regr','textlist_sad_regr']\n",
        "all_regr = ['anger_regr','fear_regr','joy_regr','sad_regr']"
      ],
      "execution_count": 0,
      "outputs": []
    },
    {
      "cell_type": "code",
      "metadata": {
        "id": "EDUqxjgVDXgx",
        "colab_type": "code",
        "colab": {}
      },
      "source": [
        "data = load_data(DATA_PATH, all_data[pred], bs=48, num_workers=1)\n",
        "learn = text_classifier_learner(data, AWD_LSTM, drop_mult=0.5, metrics=rmse)\n",
        "learn.load(all_regr[pred], purge=False);"
      ],
      "execution_count": 0,
      "outputs": []
    },
    {
      "cell_type": "code",
      "metadata": {
        "id": "ssbehZerEb9L",
        "colab_type": "code",
        "colab": {
          "base_uri": "https://localhost:8080/",
          "height": 34
        },
        "outputId": "52c65e9e-d734-4c97-f888-cb264cc63f7d"
      },
      "source": [
        "pred, learn.predict(tweet)"
      ],
      "execution_count": 313,
      "outputs": [
        {
          "output_type": "execute_result",
          "data": {
            "text/plain": [
              "(2, (FloatItem [0.583689], tensor([0.5837]), tensor([0.5837])))"
            ]
          },
          "metadata": {
            "tags": []
          },
          "execution_count": 313
        }
      ]
    },
    {
      "cell_type": "code",
      "metadata": {
        "id": "UlnVI4cuEh3x",
        "colab_type": "code",
        "colab": {}
      },
      "source": [
        "def find_intensity(text):\n",
        "  emotion = predict_emotion(text)[0]\n",
        "  idx = emotion[1].item()\n",
        "\n",
        "  all_data = ['textlist_anger_regr','textlist_fear_regr','textlist_joy_regr','textlist_sad_regr']\n",
        "  all_regr = ['anger_regr','fear_regr','joy_regr','sad_regr']\n",
        "\n",
        "  data = load_data(DATA_PATH, all_data[idx], bs=48, num_workers=1)\n",
        "  learn = text_classifier_learner(data, AWD_LSTM, drop_mult=0.5, metrics=rmse)\n",
        "  learn.load(all_regr[idx], purge=False);\n",
        "  intensity = learn.predict(text)\n",
        "\n",
        "  return emotion[0], intensity[0]"
      ],
      "execution_count": 0,
      "outputs": []
    },
    {
      "cell_type": "code",
      "metadata": {
        "id": "jWUpnq6nI-Us",
        "colab_type": "code",
        "colab": {
          "base_uri": "https://localhost:8080/",
          "height": 34
        },
        "outputId": "7f9f4014-ec99-4b69-c8d0-2e5c6f803e80"
      },
      "source": [
        "find_intensity(\"I feel like crying\")"
      ],
      "execution_count": 327,
      "outputs": [
        {
          "output_type": "execute_result",
          "data": {
            "text/plain": [
              "(Category sadness, FloatItem [0.663947])"
            ]
          },
          "metadata": {
            "tags": []
          },
          "execution_count": 327
        }
      ]
    },
    {
      "cell_type": "code",
      "metadata": {
        "id": "xchME861JCha",
        "colab_type": "code",
        "colab": {
          "base_uri": "https://localhost:8080/",
          "height": 34
        },
        "outputId": "ad0a67bf-d65b-43a5-9afa-3088fdbfb815"
      },
      "source": [
        "find_intensity(\"Fuck you!\")"
      ],
      "execution_count": 330,
      "outputs": [
        {
          "output_type": "execute_result",
          "data": {
            "text/plain": [
              "(Category anger, FloatItem [0.442915])"
            ]
          },
          "metadata": {
            "tags": []
          },
          "execution_count": 330
        }
      ]
    },
    {
      "cell_type": "code",
      "metadata": {
        "id": "1PqyDkmCJsg5",
        "colab_type": "code",
        "colab": {
          "base_uri": "https://localhost:8080/",
          "height": 34
        },
        "outputId": "554ee9ea-68ff-4224-fb54-aa798c1f61bc"
      },
      "source": [
        "find_intensity(\"I'm scared to say it\")"
      ],
      "execution_count": 337,
      "outputs": [
        {
          "output_type": "execute_result",
          "data": {
            "text/plain": [
              "(Category fear, FloatItem [0.379185])"
            ]
          },
          "metadata": {
            "tags": []
          },
          "execution_count": 337
        }
      ]
    },
    {
      "cell_type": "code",
      "metadata": {
        "id": "BnHH-OWlKCR9",
        "colab_type": "code",
        "colab": {}
      },
      "source": [
        ""
      ],
      "execution_count": 0,
      "outputs": []
    }
  ]
}