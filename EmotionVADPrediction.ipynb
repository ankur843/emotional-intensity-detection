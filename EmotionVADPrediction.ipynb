{
  "nbformat": 4,
  "nbformat_minor": 0,
  "metadata": {
    "colab": {
      "name": "VAD-Regression-ULMFitApproach.ipynb",
      "provenance": []
    },
    "kernelspec": {
      "name": "python3",
      "display_name": "Python 3"
    },
    "accelerator": "GPU"
  },
  "cells": [
    {
      "cell_type": "code",
      "metadata": {
        "id": "MZO46eMoFCX1",
        "colab_type": "code",
        "colab": {}
      },
      "source": [
        ""
      ],
      "execution_count": 0,
      "outputs": []
    },
    {
      "cell_type": "code",
      "metadata": {
        "id": "H4kAM2elFF7K",
        "colab_type": "code",
        "outputId": "da49985b-075f-4b78-e8a6-92913aedf9c4",
        "colab": {
          "base_uri": "https://localhost:8080/",
          "height": 125
        }
      },
      "source": [
        "from google.colab import drive\n",
        "drive.mount('/content/drive')"
      ],
      "execution_count": 0,
      "outputs": [
        {
          "output_type": "stream",
          "text": [
            "Go to this URL in a browser: https://accounts.google.com/o/oauth2/auth?client_id=947318989803-6bn6qk8qdgf4n4g3pfee6491hc0brc4i.apps.googleusercontent.com&redirect_uri=urn%3aietf%3awg%3aoauth%3a2.0%3aoob&response_type=code&scope=email%20https%3a%2f%2fwww.googleapis.com%2fauth%2fdocs.test%20https%3a%2f%2fwww.googleapis.com%2fauth%2fdrive%20https%3a%2f%2fwww.googleapis.com%2fauth%2fdrive.photos.readonly%20https%3a%2f%2fwww.googleapis.com%2fauth%2fpeopleapi.readonly\n",
            "\n",
            "Enter your authorization code:\n",
            "··········\n",
            "Mounted at /content/drive\n"
          ],
          "name": "stdout"
        }
      ]
    },
    {
      "cell_type": "code",
      "metadata": {
        "id": "_ojbvQb0xVZM",
        "colab_type": "code",
        "colab": {}
      },
      "source": [
        "from fastai.text import *"
      ],
      "execution_count": 0,
      "outputs": []
    },
    {
      "cell_type": "code",
      "metadata": {
        "id": "mHdxowc2Fn8Z",
        "colab_type": "code",
        "colab": {}
      },
      "source": [
        "BASE_PATH = Path('drive/My Drive/Google Colab/DL-project')\n",
        "DATA_PATH = BASE_PATH/\"emobank.csv\""
      ],
      "execution_count": 0,
      "outputs": []
    },
    {
      "cell_type": "code",
      "metadata": {
        "id": "WJHBQ96Dyg6d",
        "colab_type": "code",
        "colab": {}
      },
      "source": [
        "df = pd.read_csv(DATA_PATH)"
      ],
      "execution_count": 0,
      "outputs": []
    },
    {
      "cell_type": "code",
      "metadata": {
        "id": "12GU_XIwytSm",
        "colab_type": "code",
        "outputId": "9e3b31d0-12a3-4346-a772-21596898ec4c",
        "colab": {
          "base_uri": "https://localhost:8080/",
          "height": 197
        }
      },
      "source": [
        "df.head(5)"
      ],
      "execution_count": 0,
      "outputs": [
        {
          "output_type": "execute_result",
          "data": {
            "text/html": [
              "<div>\n",
              "<style scoped>\n",
              "    .dataframe tbody tr th:only-of-type {\n",
              "        vertical-align: middle;\n",
              "    }\n",
              "\n",
              "    .dataframe tbody tr th {\n",
              "        vertical-align: top;\n",
              "    }\n",
              "\n",
              "    .dataframe thead th {\n",
              "        text-align: right;\n",
              "    }\n",
              "</style>\n",
              "<table border=\"1\" class=\"dataframe\">\n",
              "  <thead>\n",
              "    <tr style=\"text-align: right;\">\n",
              "      <th></th>\n",
              "      <th>id</th>\n",
              "      <th>split</th>\n",
              "      <th>V</th>\n",
              "      <th>A</th>\n",
              "      <th>D</th>\n",
              "      <th>text</th>\n",
              "    </tr>\n",
              "  </thead>\n",
              "  <tbody>\n",
              "    <tr>\n",
              "      <th>0</th>\n",
              "      <td>110CYL068_1036_1079</td>\n",
              "      <td>train</td>\n",
              "      <td>3.00</td>\n",
              "      <td>3.00</td>\n",
              "      <td>3.20</td>\n",
              "      <td>Remember what she said in my last letter? \"</td>\n",
              "    </tr>\n",
              "    <tr>\n",
              "      <th>1</th>\n",
              "      <td>110CYL068_1079_1110</td>\n",
              "      <td>test</td>\n",
              "      <td>2.80</td>\n",
              "      <td>3.10</td>\n",
              "      <td>2.80</td>\n",
              "      <td>If I wasn't working here.</td>\n",
              "    </tr>\n",
              "    <tr>\n",
              "      <th>2</th>\n",
              "      <td>110CYL068_1127_1130</td>\n",
              "      <td>train</td>\n",
              "      <td>3.00</td>\n",
              "      <td>3.00</td>\n",
              "      <td>3.00</td>\n",
              "      <td>..\"</td>\n",
              "    </tr>\n",
              "    <tr>\n",
              "      <th>3</th>\n",
              "      <td>110CYL068_1137_1188</td>\n",
              "      <td>train</td>\n",
              "      <td>3.44</td>\n",
              "      <td>3.00</td>\n",
              "      <td>3.22</td>\n",
              "      <td>Goodwill helps people get off of public assist...</td>\n",
              "    </tr>\n",
              "    <tr>\n",
              "      <th>4</th>\n",
              "      <td>110CYL068_1189_1328</td>\n",
              "      <td>train</td>\n",
              "      <td>3.55</td>\n",
              "      <td>3.27</td>\n",
              "      <td>3.46</td>\n",
              "      <td>Sherry learned through our Future Works class ...</td>\n",
              "    </tr>\n",
              "  </tbody>\n",
              "</table>\n",
              "</div>"
            ],
            "text/plain": [
              "                    id  ...                                               text\n",
              "0  110CYL068_1036_1079  ...        Remember what she said in my last letter? \"\n",
              "1  110CYL068_1079_1110  ...                          If I wasn't working here.\n",
              "2  110CYL068_1127_1130  ...                                                ..\"\n",
              "3  110CYL068_1137_1188  ...  Goodwill helps people get off of public assist...\n",
              "4  110CYL068_1189_1328  ...  Sherry learned through our Future Works class ...\n",
              "\n",
              "[5 rows x 6 columns]"
            ]
          },
          "metadata": {
            "tags": []
          },
          "execution_count": 6
        }
      ]
    },
    {
      "cell_type": "code",
      "metadata": {
        "id": "bWGcLekcR3d7",
        "colab_type": "code",
        "colab": {}
      },
      "source": [
        "list(df['text'])"
      ],
      "execution_count": 0,
      "outputs": []
    },
    {
      "cell_type": "code",
      "metadata": {
        "id": "X4Q3DppozX7O",
        "colab_type": "code",
        "outputId": "dd63b551-4ca4-498d-87bb-6ce78a2e4e3b",
        "colab": {
          "base_uri": "https://localhost:8080/",
          "height": 34
        }
      },
      "source": [
        "df.shape"
      ],
      "execution_count": 0,
      "outputs": [
        {
          "output_type": "execute_result",
          "data": {
            "text/plain": [
              "(10062, 6)"
            ]
          },
          "metadata": {
            "tags": []
          },
          "execution_count": 7
        }
      ]
    },
    {
      "cell_type": "code",
      "metadata": {
        "id": "XflWdGV8y0b5",
        "colab_type": "code",
        "outputId": "8589fdf1-08bf-440c-ed32-2bd0fe218c93",
        "colab": {
          "base_uri": "https://localhost:8080/",
          "height": 87
        }
      },
      "source": [
        "df['split'].value_counts()"
      ],
      "execution_count": 0,
      "outputs": [
        {
          "output_type": "execute_result",
          "data": {
            "text/plain": [
              "train    8062\n",
              "dev      1000\n",
              "test     1000\n",
              "Name: split, dtype: int64"
            ]
          },
          "metadata": {
            "tags": []
          },
          "execution_count": 8
        }
      ]
    },
    {
      "cell_type": "code",
      "metadata": {
        "id": "ZJwsIaAm90hk",
        "colab_type": "code",
        "colab": {}
      },
      "source": [
        "def assign(x):\n",
        "  if x == 'dev' or x == 'test':\n",
        "    return True\n",
        "  else:\n",
        "    return False"
      ],
      "execution_count": 0,
      "outputs": []
    },
    {
      "cell_type": "code",
      "metadata": {
        "id": "hejHyHOhzVs1",
        "colab_type": "code",
        "colab": {}
      },
      "source": [
        "df['split'] = df['split'].apply(assign)"
      ],
      "execution_count": 0,
      "outputs": []
    },
    {
      "cell_type": "code",
      "metadata": {
        "id": "G7eHEdFJ-Edx",
        "colab_type": "code",
        "outputId": "8b0ac395-a308-4492-de8e-7b5f924c4631",
        "colab": {
          "base_uri": "https://localhost:8080/",
          "height": 70
        }
      },
      "source": [
        "df['split'].value_counts()"
      ],
      "execution_count": 0,
      "outputs": [
        {
          "output_type": "execute_result",
          "data": {
            "text/plain": [
              "False    8062\n",
              "True     2000\n",
              "Name: split, dtype: int64"
            ]
          },
          "metadata": {
            "tags": []
          },
          "execution_count": 11
        }
      ]
    },
    {
      "cell_type": "code",
      "metadata": {
        "id": "c145F5U9ze40",
        "colab_type": "code",
        "outputId": "3852bd35-5134-4cdf-fd4c-77b24d2f8766",
        "colab": {
          "base_uri": "https://localhost:8080/",
          "height": 34
        }
      },
      "source": [
        "path = BASE_PATH\n",
        "path.ls()\n",
        "# bs = 48"
      ],
      "execution_count": 0,
      "outputs": [
        {
          "output_type": "execute_result",
          "data": {
            "text/plain": [
              "[PosixPath('drive/My Drive/Google Colab/DL-project/emobank.csv')]"
            ]
          },
          "metadata": {
            "tags": []
          },
          "execution_count": 14
        }
      ]
    },
    {
      "cell_type": "code",
      "metadata": {
        "id": "zHRjuz_azrhj",
        "colab_type": "code",
        "outputId": "deb4f231-dced-4c58-df5b-ab1ea26c836a",
        "colab": {
          "base_uri": "https://localhost:8080/",
          "height": 72
        }
      },
      "source": [
        "data_lm = (TextList.from_df(df, path, cols=[\"text\"])\n",
        "                  .random_split_by_pct(0.1)\n",
        "                  .label_for_lm()\n",
        "                  .databunch(bs=bs))"
      ],
      "execution_count": 0,
      "outputs": [
        {
          "output_type": "stream",
          "text": [
            "/usr/local/lib/python3.6/dist-packages/fastai/data_block.py:215: UserWarning: `random_split_by_pct` is deprecated, please use `split_by_rand_pct`.\n",
            "  warn(\"`random_split_by_pct` is deprecated, please use `split_by_rand_pct`.\")\n"
          ],
          "name": "stderr"
        },
        {
          "output_type": "display_data",
          "data": {
            "text/html": [
              ""
            ],
            "text/plain": [
              "<IPython.core.display.HTML object>"
            ]
          },
          "metadata": {
            "tags": []
          }
        },
        {
          "output_type": "display_data",
          "data": {
            "text/html": [
              ""
            ],
            "text/plain": [
              "<IPython.core.display.HTML object>"
            ]
          },
          "metadata": {
            "tags": []
          }
        }
      ]
    },
    {
      "cell_type": "code",
      "metadata": {
        "id": "J5oljqiS0nBe",
        "colab_type": "code",
        "outputId": "804e297a-beb6-497c-e534-0c09218cb582",
        "colab": {
          "base_uri": "https://localhost:8080/",
          "height": 331
        }
      },
      "source": [
        "data_lm.show_batch()"
      ],
      "execution_count": 0,
      "outputs": [
        {
          "output_type": "display_data",
          "data": {
            "text/html": [
              "<table border=\"1\" class=\"dataframe\">\n",
              "  <thead>\n",
              "    <tr style=\"text-align: right;\">\n",
              "      <th>idx</th>\n",
              "      <th>text</th>\n",
              "    </tr>\n",
              "  </thead>\n",
              "  <tbody>\n",
              "    <tr>\n",
              "      <td>0</td>\n",
              "      <td>am now ... totally off of welfare . \" xxbos xxmaj goodwill xxunk people for life - long employment . xxbos xxmaj here 's another story of success from what might seem like an unlikely source : xxmaj goodwill 's xxunk , xxmaj xxunk . xxbos xxmaj xxunk found a number of employment options that he never xxunk existed after a work - site injury forced him out of his</td>\n",
              "    </tr>\n",
              "    <tr>\n",
              "      <td>1</td>\n",
              "      <td>every year we seek companies , organizations and individuals to sponsor one or more of our families . xxbos xxmaj these families are participants in our community - based programs . xxbos xxmaj these programs focus on keeping the family together by providing counseling and other services to the entire family . xxbos xxmaj after our xxunk meet with these families and their children they often find they lack even</td>\n",
              "    </tr>\n",
              "    <tr>\n",
              "      <td>2</td>\n",
              "      <td>mccoy , xxmaj inc. has been to make a difference . xxbos xxmaj one group of adults and one group of youth , through two very different xxunk , have arrived at the same conclusion ; our community still has much to do if we are to help xxup all of your youth successfully develop into the responsible , productive adults who will our community in the future . xxbos</td>\n",
              "    </tr>\n",
              "    <tr>\n",
              "      <td>3</td>\n",
              "      <td>\" separate the humanitarian work from the political issues . \" xxbos xxup xxunk , xxmaj jordan ( xxup ap ) xxbos xxmaj during his four days in xxmaj iraq , xxmaj hall said he wanted to investigate reports from relief agencies that a quarter of xxmaj iraqi children may be suffering from xxunk xxunk . xxbos xxup u.s. xxmaj representative xxmaj tony xxmaj hall arrived in xxmaj jordan on</td>\n",
              "    </tr>\n",
              "    <tr>\n",
              "      <td>4</td>\n",
              "      <td>xxunk , was auctioned xxmaj tuesday last night for a record price for a coin , $ xxunk million , nearly double the previous record . xxbos xxmaj the xxunk buyer , believed to be an individual collector who lives in the xxmaj united xxmaj states , made the winning bid in a xxunk xxunk nine - minute auction at xxmaj sotheby 's in xxmaj manhattan . xxbos xxmaj eight</td>\n",
              "    </tr>\n",
              "  </tbody>\n",
              "</table>"
            ],
            "text/plain": [
              "<IPython.core.display.HTML object>"
            ]
          },
          "metadata": {
            "tags": []
          }
        }
      ]
    },
    {
      "cell_type": "code",
      "metadata": {
        "id": "6BYajzhI0rNP",
        "colab_type": "code",
        "outputId": "a9dc6dbf-ca95-44ed-86ce-3a7ced302e52",
        "colab": {
          "base_uri": "https://localhost:8080/",
          "height": 34
        }
      },
      "source": [
        "learn_lm = language_model_learner(data_lm, AWD_LSTM, drop_mult=0.3)"
      ],
      "execution_count": 0,
      "outputs": [
        {
          "output_type": "stream",
          "text": [
            "Downloading https://s3.amazonaws.com/fast-ai-modelzoo/wt103-fwd\n"
          ],
          "name": "stdout"
        },
        {
          "output_type": "display_data",
          "data": {
            "text/html": [
              ""
            ],
            "text/plain": [
              "<IPython.core.display.HTML object>"
            ]
          },
          "metadata": {
            "tags": []
          }
        }
      ]
    },
    {
      "cell_type": "code",
      "metadata": {
        "id": "nTLTOVUF0vXl",
        "colab_type": "code",
        "colab": {}
      },
      "source": [
        "vocab = data_lm.vocab"
      ],
      "execution_count": 0,
      "outputs": []
    },
    {
      "cell_type": "code",
      "metadata": {
        "id": "Ijmm0UqO158r",
        "colab_type": "code",
        "outputId": "f75fa82d-c766-46b7-d745-e38bbf24e93f",
        "colab": {
          "base_uri": "https://localhost:8080/",
          "height": 72
        }
      },
      "source": [
        "TEXT = \"The summer is\"\n",
        "N_WORDS = 40\n",
        "N_SENTENCES = 2\n",
        "\n",
        "print(\"\\n\".join(learn_lm.predict(TEXT, N_WORDS, temperature=0.75) for _ in range(N_SENTENCES)))"
      ],
      "execution_count": 0,
      "outputs": [
        {
          "output_type": "stream",
          "text": [
            "The summer is Friday , the first Friday night of the January – February period , and the first Friday , the first part of Friday the 17th with the Friday the 17th in Friday\n",
            "The summer is a traditional Winter Era , with many small parties and traditional events . The Care Bears Carnival is a traditional celebration of the Summer Olympics , and also includes the Winter\n"
          ],
          "name": "stdout"
        }
      ]
    },
    {
      "cell_type": "code",
      "metadata": {
        "id": "08z3lGwg1645",
        "colab_type": "code",
        "outputId": "5b9de8b1-cac6-42a5-851d-c8acf5207ef8",
        "colab": {
          "base_uri": "https://localhost:8080/",
          "height": 142
        }
      },
      "source": [
        "learn_lm.lr_find()"
      ],
      "execution_count": 0,
      "outputs": [
        {
          "output_type": "display_data",
          "data": {
            "text/html": [
              "\n",
              "    <div>\n",
              "        <style>\n",
              "            /* Turns off some styling */\n",
              "            progress {\n",
              "                /* gets rid of default border in Firefox and Opera. */\n",
              "                border: none;\n",
              "                /* Needs to be in here for Safari polyfill so background images work as expected. */\n",
              "                background-size: auto;\n",
              "            }\n",
              "            .progress-bar-interrupted, .progress-bar-interrupted::-webkit-progress-bar {\n",
              "                background: #F44336;\n",
              "            }\n",
              "        </style>\n",
              "      <progress value='1' class='' max='2' style='width:300px; height:20px; vertical-align: middle;'></progress>\n",
              "      50.00% [1/2 00:11<00:11]\n",
              "    </div>\n",
              "    \n",
              "<table border=\"1\" class=\"dataframe\">\n",
              "  <thead>\n",
              "    <tr style=\"text-align: left;\">\n",
              "      <th>epoch</th>\n",
              "      <th>train_loss</th>\n",
              "      <th>valid_loss</th>\n",
              "      <th>accuracy</th>\n",
              "      <th>time</th>\n",
              "    </tr>\n",
              "  </thead>\n",
              "  <tbody>\n",
              "    <tr>\n",
              "      <td>0</td>\n",
              "      <td>4.937546</td>\n",
              "      <td>#na#</td>\n",
              "      <td>00:11</td>\n",
              "    </tr>\n",
              "  </tbody>\n",
              "</table><p>\n",
              "\n",
              "    <div>\n",
              "        <style>\n",
              "            /* Turns off some styling */\n",
              "            progress {\n",
              "                /* gets rid of default border in Firefox and Opera. */\n",
              "                border: none;\n",
              "                /* Needs to be in here for Safari polyfill so background images work as expected. */\n",
              "                background-size: auto;\n",
              "            }\n",
              "            .progress-bar-interrupted, .progress-bar-interrupted::-webkit-progress-bar {\n",
              "                background: #F44336;\n",
              "            }\n",
              "        </style>\n",
              "      <progress value='41' class='' max='58' style='width:300px; height:20px; vertical-align: middle;'></progress>\n",
              "      70.69% [41/58 00:07<00:03 10.1595]\n",
              "    </div>\n",
              "    "
            ],
            "text/plain": [
              "<IPython.core.display.HTML object>"
            ]
          },
          "metadata": {
            "tags": []
          }
        },
        {
          "output_type": "stream",
          "text": [
            "LR Finder is complete, type {learner_name}.recorder.plot() to see the graph.\n"
          ],
          "name": "stdout"
        }
      ]
    },
    {
      "cell_type": "code",
      "metadata": {
        "id": "wuz6xdPd2eYN",
        "colab_type": "code",
        "outputId": "a9f774ba-717a-4d8c-f306-09142f6b2d13",
        "colab": {
          "base_uri": "https://localhost:8080/",
          "height": 278
        }
      },
      "source": [
        "learn_lm.recorder.plot()"
      ],
      "execution_count": 0,
      "outputs": [
        {
          "output_type": "display_data",
          "data": {
            "image/png": "[encoded data removed]",
            "text/plain": [
              "<Figure size 432x288 with 1 Axes>"
            ]
          },
          "metadata": {
            "tags": [],
            "needs_background": "light"
          }
        }
      ]
    },
    {
      "cell_type": "code",
      "metadata": {
        "id": "n7cCzm1N4PBT",
        "colab_type": "code",
        "colab": {}
      },
      "source": [
        "lr = 1e-2\n",
        "# lr *= bs/48"
      ],
      "execution_count": 0,
      "outputs": []
    },
    {
      "cell_type": "code",
      "metadata": {
        "id": "TEh9nt-X4mN6",
        "colab_type": "code",
        "outputId": "2b5ea3bd-8699-4e30-d995-c12a5576dd4e",
        "colab": {
          "base_uri": "https://localhost:8080/",
          "height": 107
        }
      },
      "source": [
        "learn_lm.fit_one_cycle(2, lr, moms=(0.8,0.7))"
      ],
      "execution_count": 0,
      "outputs": [
        {
          "output_type": "display_data",
          "data": {
            "text/html": [
              "<table border=\"1\" class=\"dataframe\">\n",
              "  <thead>\n",
              "    <tr style=\"text-align: left;\">\n",
              "      <th>epoch</th>\n",
              "      <th>train_loss</th>\n",
              "      <th>valid_loss</th>\n",
              "      <th>accuracy</th>\n",
              "      <th>time</th>\n",
              "    </tr>\n",
              "  </thead>\n",
              "  <tbody>\n",
              "    <tr>\n",
              "      <td>0</td>\n",
              "      <td>4.303964</td>\n",
              "      <td>4.011925</td>\n",
              "      <td>0.228571</td>\n",
              "      <td>00:11</td>\n",
              "    </tr>\n",
              "    <tr>\n",
              "      <td>1</td>\n",
              "      <td>3.742675</td>\n",
              "      <td>3.991700</td>\n",
              "      <td>0.214286</td>\n",
              "      <td>00:10</td>\n",
              "    </tr>\n",
              "  </tbody>\n",
              "</table>"
            ],
            "text/plain": [
              "<IPython.core.display.HTML object>"
            ]
          },
          "metadata": {
            "tags": []
          }
        }
      ]
    },
    {
      "cell_type": "code",
      "metadata": {
        "id": "jC7ivFOd4xXj",
        "colab_type": "code",
        "colab": {}
      },
      "source": [
        "learn_lm.unfreeze()"
      ],
      "execution_count": 0,
      "outputs": []
    },
    {
      "cell_type": "code",
      "metadata": {
        "id": "H7q5TVnA43VJ",
        "colab_type": "code",
        "outputId": "68e4c05e-2aec-44fc-f55f-f0c80ef208e3",
        "colab": {
          "base_uri": "https://localhost:8080/",
          "height": 137
        }
      },
      "source": [
        "learn_lm.fit_one_cycle(3, lr, moms=(0.8,0.7))"
      ],
      "execution_count": 0,
      "outputs": [
        {
          "output_type": "display_data",
          "data": {
            "text/html": [
              "<table border=\"1\" class=\"dataframe\">\n",
              "  <thead>\n",
              "    <tr style=\"text-align: left;\">\n",
              "      <th>epoch</th>\n",
              "      <th>train_loss</th>\n",
              "      <th>valid_loss</th>\n",
              "      <th>accuracy</th>\n",
              "      <th>time</th>\n",
              "    </tr>\n",
              "  </thead>\n",
              "  <tbody>\n",
              "    <tr>\n",
              "      <td>0</td>\n",
              "      <td>3.501353</td>\n",
              "      <td>3.963438</td>\n",
              "      <td>0.271429</td>\n",
              "      <td>00:11</td>\n",
              "    </tr>\n",
              "    <tr>\n",
              "      <td>1</td>\n",
              "      <td>3.230389</td>\n",
              "      <td>4.014949</td>\n",
              "      <td>0.328571</td>\n",
              "      <td>00:11</td>\n",
              "    </tr>\n",
              "    <tr>\n",
              "      <td>2</td>\n",
              "      <td>2.455028</td>\n",
              "      <td>4.159099</td>\n",
              "      <td>0.285714</td>\n",
              "      <td>00:11</td>\n",
              "    </tr>\n",
              "  </tbody>\n",
              "</table>"
            ],
            "text/plain": [
              "<IPython.core.display.HTML object>"
            ]
          },
          "metadata": {
            "tags": []
          }
        }
      ]
    },
    {
      "cell_type": "code",
      "metadata": {
        "id": "_3I9mUzx55s6",
        "colab_type": "code",
        "colab": {}
      },
      "source": [
        "learn_lm.save(\"fine_tuned\")"
      ],
      "execution_count": 0,
      "outputs": []
    },
    {
      "cell_type": "code",
      "metadata": {
        "id": "tnfrp9mJ55p2",
        "colab_type": "code",
        "colab": {}
      },
      "source": [
        "learn_lm.save_encoder('fine_tuned_enc')"
      ],
      "execution_count": 0,
      "outputs": []
    },
    {
      "cell_type": "code",
      "metadata": {
        "id": "xoF47w2H_P2w",
        "colab_type": "code",
        "colab": {}
      },
      "source": [
        "#learn_lm.load_encoder('fine_tuned_enc')"
      ],
      "execution_count": 0,
      "outputs": []
    },
    {
      "cell_type": "code",
      "metadata": {
        "id": "Qa5D17eQ55oA",
        "colab_type": "code",
        "outputId": "b757f041-eb52-49e1-f84e-d0e17ba87544",
        "colab": {
          "base_uri": "https://localhost:8080/",
          "height": 16
        }
      },
      "source": [
        "data_regr = (TextList.from_df(df=df, path=path, cols='text', vocab=data_lm.vocab)\n",
        "             .split_from_df(col='split')\n",
        "             .label_from_df(cols=['V','A','D'], label_cls=FloatList)\n",
        "             .databunch())"
      ],
      "execution_count": 0,
      "outputs": [
        {
          "output_type": "display_data",
          "data": {
            "text/html": [
              ""
            ],
            "text/plain": [
              "<IPython.core.display.HTML object>"
            ]
          },
          "metadata": {
            "tags": []
          }
        },
        {
          "output_type": "display_data",
          "data": {
            "text/html": [
              ""
            ],
            "text/plain": [
              "<IPython.core.display.HTML object>"
            ]
          },
          "metadata": {
            "tags": []
          }
        }
      ]
    },
    {
      "cell_type": "code",
      "metadata": {
        "id": "Bk4AN0P055ls",
        "colab_type": "code",
        "outputId": "fe4f47d4-2c61-40a0-b8f7-28e62827597d",
        "colab": {
          "base_uri": "https://localhost:8080/",
          "height": 34
        }
      },
      "source": [
        "len(data_regr.train_dl)"
      ],
      "execution_count": 0,
      "outputs": [
        {
          "output_type": "execute_result",
          "data": {
            "text/plain": [
              "125"
            ]
          },
          "metadata": {
            "tags": []
          },
          "execution_count": 30
        }
      ]
    },
    {
      "cell_type": "code",
      "metadata": {
        "id": "AbYrgvuh55kS",
        "colab_type": "code",
        "outputId": "36f640df-e8ad-4730-a81b-8509c4d06e4b",
        "colab": {
          "base_uri": "https://localhost:8080/",
          "height": 297
        }
      },
      "source": [
        "data_regr.show_batch()"
      ],
      "execution_count": 0,
      "outputs": [
        {
          "output_type": "display_data",
          "data": {
            "text/html": [
              "<table border=\"1\" class=\"dataframe\">\n",
              "  <thead>\n",
              "    <tr style=\"text-align: right;\">\n",
              "      <th>text</th>\n",
              "      <th>target</th>\n",
              "    </tr>\n",
              "  </thead>\n",
              "  <tbody>\n",
              "    <tr>\n",
              "      <td>xxbos xxmaj in another traditional xxunk story , “ xxmaj xxunk xxmaj shih - xxmaj niang xxmaj sinks the xxmaj xxunk xxmaj box in xxmaj anger , “ xxmaj xxunk xxmaj shih - xxmaj niang xxmaj sinks the xxmaj xxunk xxmaj box in xxmaj anger , ” trans , xxmaj richard xxup m. xxup w. xxmaj xxunk , in xxup y. xxup w. xxmaj ma and xxmaj joseph xxup s.</td>\n",
              "      <td>[2.9 2.9 3. ]</td>\n",
              "    </tr>\n",
              "    <tr>\n",
              "      <td>xxbos xxmaj further , the committee notes section xxunk ) of the xxmaj senate xxmaj gift xxmaj rule ( 35 ) concerning anything which is paid for at market value or returned . . . as well as your commitment to pay for any item which the committee might xxunk were in violation of the rules , and has further concluded that you must pay xxmaj chang an amount xxunk</td>\n",
              "      <td>[2.9 2.7 3. ]</td>\n",
              "    </tr>\n",
              "    <tr>\n",
              "      <td>xxbos xxmaj when discussing the role of parents and xxunk in a child ’s sexuality , he commented “ xxmaj they can bring you up [ to be ] open minded to [ homosexuality ] , but they do n’t bring you up [ to be a homosexual ] … i grew up in a place where [ homosexuality is accepted ] , so that ’s why i ’m so</td>\n",
              "      <td>[3. 3. 3.]</td>\n",
              "    </tr>\n",
              "    <tr>\n",
              "      <td>xxbos xxmaj for two years , these men studied the number of occurrences of homosexuality in both xxunk , or identical twins ( a set of twins coming from the same xxunk egg and thus having identical xxup dna ) , and xxunk , or xxunk twins ( a set of twins from too separate xxunk , causing them to have similar xxup dna , but not any more so</td>\n",
              "      <td>[3.   3.   3.14]</td>\n",
              "    </tr>\n",
              "    <tr>\n",
              "      <td>xxbos “ xxmaj xxunk xxmaj shih - xxmaj niang xxmaj sinks the xxmaj xxunk xxmaj box in xxmaj anger , “ xxmaj xxunk xxmaj shih - xxmaj niang xxmaj sinks the xxmaj xxunk xxmaj box in xxmaj anger , ” trans , xxmaj richard xxup m. xxup w. xxmaj xxunk , in xxup y. xxup w. xxmaj ma and xxmaj joseph xxup s. xxup m. xxmaj lau . xxmaj traditional</td>\n",
              "      <td>[3.  3.  3.1]</td>\n",
              "    </tr>\n",
              "  </tbody>\n",
              "</table>"
            ],
            "text/plain": [
              "<IPython.core.display.HTML object>"
            ]
          },
          "metadata": {
            "tags": []
          }
        }
      ]
    },
    {
      "cell_type": "code",
      "metadata": {
        "id": "rT67Jl_355ha",
        "colab_type": "code",
        "colab": {}
      },
      "source": [
        "learn = text_classifier_learner(data_regr, AWD_LSTM, drop_mult=0.3,metrics = rmse)\n",
        "learn.loss_func=MSELossFlat()\n",
        "learn.load_encoder('fine_tuned_enc')\n",
        "learn.freeze()"
      ],
      "execution_count": 0,
      "outputs": []
    },
    {
      "cell_type": "code",
      "metadata": {
        "id": "3M5w7xxA49PY",
        "colab_type": "code",
        "outputId": "007accbe-e9d0-4222-d70b-42b909439200",
        "colab": {
          "base_uri": "https://localhost:8080/",
          "height": 112
        }
      },
      "source": [
        "learn.lr_find()"
      ],
      "execution_count": 0,
      "outputs": [
        {
          "output_type": "display_data",
          "data": {
            "text/html": [
              "\n",
              "    <div>\n",
              "        <style>\n",
              "            /* Turns off some styling */\n",
              "            progress {\n",
              "                /* gets rid of default border in Firefox and Opera. */\n",
              "                border: none;\n",
              "                /* Needs to be in here for Safari polyfill so background images work as expected. */\n",
              "                background-size: auto;\n",
              "            }\n",
              "            .progress-bar-interrupted, .progress-bar-interrupted::-webkit-progress-bar {\n",
              "                background: #F44336;\n",
              "            }\n",
              "        </style>\n",
              "      <progress value='0' class='' max='1' style='width:300px; height:20px; vertical-align: middle;'></progress>\n",
              "      0.00% [0/1 00:00<00:00]\n",
              "    </div>\n",
              "    \n",
              "<table border=\"1\" class=\"dataframe\">\n",
              "  <thead>\n",
              "    <tr style=\"text-align: left;\">\n",
              "      <th>epoch</th>\n",
              "      <th>train_loss</th>\n",
              "      <th>valid_loss</th>\n",
              "      <th>root_mean_squared_error</th>\n",
              "      <th>time</th>\n",
              "    </tr>\n",
              "  </thead>\n",
              "  <tbody>\n",
              "  </tbody>\n",
              "</table><p>\n",
              "\n",
              "    <div>\n",
              "        <style>\n",
              "            /* Turns off some styling */\n",
              "            progress {\n",
              "                /* gets rid of default border in Firefox and Opera. */\n",
              "                border: none;\n",
              "                /* Needs to be in here for Safari polyfill so background images work as expected. */\n",
              "                background-size: auto;\n",
              "            }\n",
              "            .progress-bar-interrupted, .progress-bar-interrupted::-webkit-progress-bar {\n",
              "                background: #F44336;\n",
              "            }\n",
              "        </style>\n",
              "      <progress value='92' class='' max='125' style='width:300px; height:20px; vertical-align: middle;'></progress>\n",
              "      73.60% [92/125 00:06<00:02 8.2747]\n",
              "    </div>\n",
              "    "
            ],
            "text/plain": [
              "<IPython.core.display.HTML object>"
            ]
          },
          "metadata": {
            "tags": []
          }
        },
        {
          "output_type": "stream",
          "text": [
            "LR Finder is complete, type {learner_name}.recorder.plot() to see the graph.\n"
          ],
          "name": "stdout"
        }
      ]
    },
    {
      "cell_type": "code",
      "metadata": {
        "id": "K3ihVVaWAhse",
        "colab_type": "code",
        "outputId": "0a0b1bd0-aca5-4e1c-ff57-bb07af4107e3",
        "colab": {
          "base_uri": "https://localhost:8080/",
          "height": 278
        }
      },
      "source": [
        "learn.recorder.plot()"
      ],
      "execution_count": 0,
      "outputs": [
        {
          "output_type": "display_data",
          "data": {
            "image/png": "[encoded data removed]",
            "text/plain": [
              "<Figure size 432x288 with 1 Axes>"
            ]
          },
          "metadata": {
            "tags": [],
            "needs_background": "light"
          }
        }
      ]
    },
    {
      "cell_type": "code",
      "metadata": {
        "id": "u5fZuvU2AkN6",
        "colab_type": "code",
        "colab": {}
      },
      "source": [
        "lr = 3e-2"
      ],
      "execution_count": 0,
      "outputs": []
    },
    {
      "cell_type": "code",
      "metadata": {
        "id": "3IL2xerjAnkk",
        "colab_type": "code",
        "outputId": "c37844b3-fb2a-44d8-85f7-6676ad749a68",
        "colab": {
          "base_uri": "https://localhost:8080/",
          "height": 77
        }
      },
      "source": [
        "learn.fit_one_cycle(1, 1e-1, moms=(0.8,0.7))"
      ],
      "execution_count": 0,
      "outputs": [
        {
          "output_type": "display_data",
          "data": {
            "text/html": [
              "<table border=\"1\" class=\"dataframe\">\n",
              "  <thead>\n",
              "    <tr style=\"text-align: left;\">\n",
              "      <th>epoch</th>\n",
              "      <th>train_loss</th>\n",
              "      <th>valid_loss</th>\n",
              "      <th>root_mean_squared_error</th>\n",
              "      <th>time</th>\n",
              "    </tr>\n",
              "  </thead>\n",
              "  <tbody>\n",
              "    <tr>\n",
              "      <td>0</td>\n",
              "      <td>0.387430</td>\n",
              "      <td>0.071282</td>\n",
              "      <td>0.264375</td>\n",
              "      <td>00:10</td>\n",
              "    </tr>\n",
              "  </tbody>\n",
              "</table>"
            ],
            "text/plain": [
              "<IPython.core.display.HTML object>"
            ]
          },
          "metadata": {
            "tags": []
          }
        }
      ]
    },
    {
      "cell_type": "code",
      "metadata": {
        "id": "xLG4lHLCAs27",
        "colab_type": "code",
        "colab": {}
      },
      "source": [
        "learn.save('first')"
      ],
      "execution_count": 0,
      "outputs": []
    },
    {
      "cell_type": "code",
      "metadata": {
        "id": "cJu2IXFqBFFU",
        "colab_type": "code",
        "colab": {}
      },
      "source": [
        "#learn.load('first')"
      ],
      "execution_count": 0,
      "outputs": []
    },
    {
      "cell_type": "code",
      "metadata": {
        "id": "N7vM-K-NBLm9",
        "colab_type": "code",
        "outputId": "55d19b13-a260-4d42-f17d-66f0d6c74b3e",
        "colab": {
          "base_uri": "https://localhost:8080/",
          "height": 77
        }
      },
      "source": [
        "learn.freeze_to(-2)\n",
        "learn.fit_one_cycle(1, slice(1e-2/(2.6**4),1e-2), moms=(0.8,0.7))"
      ],
      "execution_count": 0,
      "outputs": [
        {
          "output_type": "display_data",
          "data": {
            "text/html": [
              "<table border=\"1\" class=\"dataframe\">\n",
              "  <thead>\n",
              "    <tr style=\"text-align: left;\">\n",
              "      <th>epoch</th>\n",
              "      <th>train_loss</th>\n",
              "      <th>valid_loss</th>\n",
              "      <th>root_mean_squared_error</th>\n",
              "      <th>time</th>\n",
              "    </tr>\n",
              "  </thead>\n",
              "  <tbody>\n",
              "    <tr>\n",
              "      <td>0</td>\n",
              "      <td>0.085974</td>\n",
              "      <td>0.063857</td>\n",
              "      <td>0.250118</td>\n",
              "      <td>00:12</td>\n",
              "    </tr>\n",
              "  </tbody>\n",
              "</table>"
            ],
            "text/plain": [
              "<IPython.core.display.HTML object>"
            ]
          },
          "metadata": {
            "tags": []
          }
        }
      ]
    },
    {
      "cell_type": "code",
      "metadata": {
        "id": "6930ywtVAzFD",
        "colab_type": "code",
        "outputId": "2f6f715a-d6a8-4500-988b-71175014dbc0",
        "colab": {
          "base_uri": "https://localhost:8080/",
          "height": 77
        }
      },
      "source": [
        "learn.freeze_to(-3)\n",
        "learn.fit_one_cycle(1, slice(5e-3/(2.6**4),5e-3), moms=(0.8,0.7))"
      ],
      "execution_count": 0,
      "outputs": [
        {
          "output_type": "display_data",
          "data": {
            "text/html": [
              "<table border=\"1\" class=\"dataframe\">\n",
              "  <thead>\n",
              "    <tr style=\"text-align: left;\">\n",
              "      <th>epoch</th>\n",
              "      <th>train_loss</th>\n",
              "      <th>valid_loss</th>\n",
              "      <th>root_mean_squared_error</th>\n",
              "      <th>time</th>\n",
              "    </tr>\n",
              "  </thead>\n",
              "  <tbody>\n",
              "    <tr>\n",
              "      <td>0</td>\n",
              "      <td>0.077736</td>\n",
              "      <td>0.060036</td>\n",
              "      <td>0.243030</td>\n",
              "      <td>00:10</td>\n",
              "    </tr>\n",
              "  </tbody>\n",
              "</table>"
            ],
            "text/plain": [
              "<IPython.core.display.HTML object>"
            ]
          },
          "metadata": {
            "tags": []
          }
        }
      ]
    },
    {
      "cell_type": "code",
      "metadata": {
        "id": "kMnM4g05A-MM",
        "colab_type": "code",
        "colab": {}
      },
      "source": [
        "learn.save('third')"
      ],
      "execution_count": 0,
      "outputs": []
    },
    {
      "cell_type": "code",
      "metadata": {
        "id": "0qt_M7xyBcKM",
        "colab_type": "code",
        "outputId": "c4ab3cd9-c7f1-4e82-eae9-8c59fbbb7a4e",
        "colab": {
          "base_uri": "https://localhost:8080/",
          "height": 107
        }
      },
      "source": [
        "learn.unfreeze()\n",
        "learn.fit_one_cycle(2, slice(1e-3/(2.6**4),1e-3), moms=(0.8,0.7))"
      ],
      "execution_count": 0,
      "outputs": [
        {
          "output_type": "display_data",
          "data": {
            "text/html": [
              "<table border=\"1\" class=\"dataframe\">\n",
              "  <thead>\n",
              "    <tr style=\"text-align: left;\">\n",
              "      <th>epoch</th>\n",
              "      <th>train_loss</th>\n",
              "      <th>valid_loss</th>\n",
              "      <th>root_mean_squared_error</th>\n",
              "      <th>time</th>\n",
              "    </tr>\n",
              "  </thead>\n",
              "  <tbody>\n",
              "    <tr>\n",
              "      <td>0</td>\n",
              "      <td>0.071463</td>\n",
              "      <td>0.060184</td>\n",
              "      <td>0.243209</td>\n",
              "      <td>00:13</td>\n",
              "    </tr>\n",
              "    <tr>\n",
              "      <td>1</td>\n",
              "      <td>0.068483</td>\n",
              "      <td>0.058854</td>\n",
              "      <td>0.240386</td>\n",
              "      <td>00:11</td>\n",
              "    </tr>\n",
              "  </tbody>\n",
              "</table>"
            ],
            "text/plain": [
              "<IPython.core.display.HTML object>"
            ]
          },
          "metadata": {
            "tags": []
          }
        }
      ]
    },
    {
      "cell_type": "code",
      "metadata": {
        "id": "DtiMYFhLBqnp",
        "colab_type": "code",
        "outputId": "07e4046f-324d-431a-b400-c39c939a2f88",
        "colab": {
          "base_uri": "https://localhost:8080/",
          "height": 70
        }
      },
      "source": [
        "learn.predict(\"A fundraiser dedicated to you and you having fun\")"
      ],
      "execution_count": 0,
      "outputs": [
        {
          "output_type": "execute_result",
          "data": {
            "text/plain": [
              "(FloatItem [3.540498 3.269486 3.290179],\n",
              " tensor([3.5405, 3.2695, 3.2902]),\n",
              " tensor([3.5405, 3.2695, 3.2902]))"
            ]
          },
          "metadata": {
            "tags": []
          },
          "execution_count": 41
        }
      ]
    },
    {
      "cell_type": "code",
      "metadata": {
        "id": "QHDzgPX_B4ff",
        "colab_type": "code",
        "outputId": "2bc80127-d0ca-4448-cdd4-606663fe6961",
        "colab": {
          "base_uri": "https://localhost:8080/",
          "height": 70
        }
      },
      "source": [
        "learn.predict(\"Many of the children have learning disabilities, behavioral problems, or come from economically distressed families.\")"
      ],
      "execution_count": 0,
      "outputs": [
        {
          "output_type": "execute_result",
          "data": {
            "text/plain": [
              "(FloatItem [2.740778 3.014001 2.960551],\n",
              " tensor([2.7408, 3.0140, 2.9606]),\n",
              " tensor([2.7408, 3.0140, 2.9606]))"
            ]
          },
          "metadata": {
            "tags": []
          },
          "execution_count": 42
        }
      ]
    },
    {
      "cell_type": "code",
      "metadata": {
        "id": "GbA3m7DNCov_",
        "colab_type": "code",
        "outputId": "015bafbd-3f1b-4597-b8ac-02e16b2657a7",
        "colab": {
          "base_uri": "https://localhost:8080/",
          "height": 70
        }
      },
      "source": [
        "learn.predict(\"yes! yes! yes! let's do it\")"
      ],
      "execution_count": 0,
      "outputs": [
        {
          "output_type": "execute_result",
          "data": {
            "text/plain": [
              "(FloatItem [4.122722 4.062442 3.785894],\n",
              " tensor([4.1227, 4.0624, 3.7859]),\n",
              " tensor([4.1227, 4.0624, 3.7859]))"
            ]
          },
          "metadata": {
            "tags": []
          },
          "execution_count": 43
        }
      ]
    },
    {
      "cell_type": "code",
      "metadata": {
        "id": "ZXT3bRaDG4j0",
        "colab_type": "code",
        "outputId": "50efa2f7-fdb5-46ab-b23a-f385e74775a7",
        "colab": {
          "base_uri": "https://localhost:8080/",
          "height": 70
        }
      },
      "source": [
        "learn.predict(\"Fuck you!\")"
      ],
      "execution_count": 0,
      "outputs": [
        {
          "output_type": "execute_result",
          "data": {
            "text/plain": [
              "(FloatItem [3.029834 4.015876 3.407761],\n",
              " tensor([3.0298, 4.0159, 3.4078]),\n",
              " tensor([3.0298, 4.0159, 3.4078]))"
            ]
          },
          "metadata": {
            "tags": []
          },
          "execution_count": 45
        }
      ]
    },
    {
      "cell_type": "code",
      "metadata": {
        "id": "P-0jioQSHRF1",
        "colab_type": "code",
        "colab": {}
      },
      "source": [
        "## To do - reverse and teach"
      ],
      "execution_count": 0,
      "outputs": []
    },
    {
      "cell_type": "code",
      "metadata": {
        "id": "m1Weytp9Hy8_",
        "colab_type": "code",
        "outputId": "9435b22f-1bec-4b1c-b717-a04f98d5cbf9",
        "colab": {
          "base_uri": "https://localhost:8080/",
          "height": 70
        }
      },
      "source": [
        "learn.predict(\"I admire your coding skills!\")"
      ],
      "execution_count": 0,
      "outputs": [
        {
          "output_type": "execute_result",
          "data": {
            "text/plain": [
              "(FloatItem [3.413165 4.007046 3.542338],\n",
              " tensor([3.4132, 4.0070, 3.5423]),\n",
              " tensor([3.4132, 4.0070, 3.5423]))"
            ]
          },
          "metadata": {
            "tags": []
          },
          "execution_count": 47
        }
      ]
    },
    {
      "cell_type": "code",
      "metadata": {
        "id": "dQJ8CLF5QnNX",
        "colab_type": "code",
        "outputId": "a37307b1-18b3-480f-f353-bd196fc6a5a2",
        "colab": {
          "base_uri": "https://localhost:8080/",
          "height": 70
        }
      },
      "source": [
        "learn.predict(\"I'm in love with you!\")"
      ],
      "execution_count": 0,
      "outputs": [
        {
          "output_type": "execute_result",
          "data": {
            "text/plain": [
              "(FloatItem [3.841689 4.052391 3.677698],\n",
              " tensor([3.8417, 4.0524, 3.6777]),\n",
              " tensor([3.8417, 4.0524, 3.6777]))"
            ]
          },
          "metadata": {
            "tags": []
          },
          "execution_count": 48
        }
      ]
    },
    {
      "cell_type": "code",
      "metadata": {
        "id": "6gyrhvUfQ5rF",
        "colab_type": "code",
        "outputId": "53d166bd-2764-4387-b8ba-77611dbdc86d",
        "colab": {
          "base_uri": "https://localhost:8080/",
          "height": 70
        }
      },
      "source": [
        "learn.predict(\"Amazing!\")"
      ],
      "execution_count": 0,
      "outputs": [
        {
          "output_type": "execute_result",
          "data": {
            "text/plain": [
              "(FloatItem [4.37727  4.834956 4.100627],\n",
              " tensor([4.3773, 4.8350, 4.1006]),\n",
              " tensor([4.3773, 4.8350, 4.1006]))"
            ]
          },
          "metadata": {
            "tags": []
          },
          "execution_count": 54
        }
      ]
    },
    {
      "cell_type": "code",
      "metadata": {
        "id": "llVNgjWlXF6j",
        "colab_type": "code",
        "outputId": "04469530-1b47-4d11-a7cf-dac5ef44e71b",
        "colab": {
          "base_uri": "https://localhost:8080/",
          "height": 70
        }
      },
      "source": [
        "learn.predict(\"Disgusting!\")"
      ],
      "execution_count": 0,
      "outputs": [
        {
          "output_type": "execute_result",
          "data": {
            "text/plain": [
              "(FloatItem [3.224688 3.94572  3.459103],\n",
              " tensor([3.2247, 3.9457, 3.4591]),\n",
              " tensor([3.2247, 3.9457, 3.4591]))"
            ]
          },
          "metadata": {
            "tags": []
          },
          "execution_count": 55
        }
      ]
    },
    {
      "cell_type": "code",
      "metadata": {
        "id": "ds0JCeYAXadW",
        "colab_type": "code",
        "colab": {}
      },
      "source": [
        ""
      ],
      "execution_count": 0,
      "outputs": []
    }
  ]
}