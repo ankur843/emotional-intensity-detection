{
 "cells": [
  {
   "cell_type": "code",
   "execution_count": 1,
   "metadata": {},
   "outputs": [],
   "source": [
    "import pandas as pd"
   ]
  },
  {
   "cell_type": "code",
   "execution_count": 36,
   "metadata": {},
   "outputs": [],
   "source": [
    "anger_train = pd.read_csv('../dataset/input/anger-ratings-0to1.train.txt', sep=\"\\t\", header=None)\n",
    "anger_dev = pd.read_csv('../dataset/input/anger-ratings-0to1.dev.gold.txt', sep=\"\\t\", header=None)\n",
    "fear_train = pd.read_csv('../dataset/input/fear-ratings-0to1.train.txt', sep=\"\\t\", header=None)\n",
    "fear_dev = pd.read_csv('../dataset/input/fear-ratings-0to1.dev.gold.txt', sep=\"\\t\", header=None)\n",
    "joy_train = pd.read_csv('../dataset/input/joy-ratings-0to1.train.txt', sep=\"\\t\", header=None)\n",
    "joy_dev = pd.read_csv('../dataset/input/joy-ratings-0to1.dev.gold.txt', sep=\"\\t\", header=None)\n",
    "sadness_train = pd.read_csv('../dataset/input/sadness-ratings-0to1.train.txt', sep=\"\\t\", header=None)\n",
    "sadness_dev = pd.read_csv('../dataset/input/sadness-ratings-0to1.dev.gold.txt', sep=\"\\t\", header=None)\n",
    "\n",
    "columns = ['id','text','emotion','intensity']\n",
    "anger_train.columns = anger_dev.columns = columns\n",
    "fear_train.columns = fear_dev.columns = columns\n",
    "joy_train.columns = joy_dev.columns = columns\n",
    "sadness_train.columns = sadness_dev.columns = columns"
   ]
  },
  {
   "cell_type": "code",
   "execution_count": 42,
   "metadata": {},
   "outputs": [
    {
     "name": "stdout",
     "output_type": "stream",
     "text": [
      "Anger Data -  (857, 4) (84, 4)\n",
      "Fear Data -  (1147, 4) (110, 4)\n",
      "Joy Data -  (823, 4) (79, 4)\n",
      "Sadness Data -  (786, 4) (74, 4)\n"
     ]
    }
   ],
   "source": [
    "print (\"Anger Data - \",anger_train.shape, anger_dev.shape)\n",
    "print (\"Fear Data - \",fear_train.shape, fear_dev.shape)\n",
    "print (\"Joy Data - \",joy_train.shape, joy_dev.shape)\n",
    "print (\"Sadness Data - \", sadness_train.shape, sadness_dev.shape)"
   ]
  },
  {
   "cell_type": "code",
   "execution_count": 43,
   "metadata": {},
   "outputs": [],
   "source": [
    "anger_df = pd.concat([anger_train, anger_dev], ignore_index=True, sort=False)\n",
    "fear_df = pd.concat([fear_train, fear_dev], ignore_index=True, sort=False)\n",
    "joy_df = pd.concat([joy_train, joy_dev], ignore_index=True, sort=False)\n",
    "sadness_df = pd.concat([sadness_train, sadness_dev], ignore_index=True, sort=False)"
   ]
  },
  {
   "cell_type": "code",
   "execution_count": 68,
   "metadata": {},
   "outputs": [],
   "source": [
    "def create_is_valid(df):\n",
    "    valid_df = df.sample(frac=0.2, random_state=200)\n",
    "    df['is_valid'] = pd.Series(df.index).apply(lambda x: x in valid_df.index)"
   ]
  },
  {
   "cell_type": "code",
   "execution_count": 69,
   "metadata": {},
   "outputs": [],
   "source": [
    "create_is_valid(anger_df)\n",
    "create_is_valid(fear_df)\n",
    "create_is_valid(joy_df)\n",
    "create_is_valid(sadness_df)"
   ]
  },
  {
   "cell_type": "code",
   "execution_count": 73,
   "metadata": {},
   "outputs": [],
   "source": [
    "emotions_df = pd.concat([anger_df, fear_df, joy_df, sadness_df], ignore_index=True, sort=False)"
   ]
  },
  {
   "cell_type": "code",
   "execution_count": 74,
   "metadata": {},
   "outputs": [
    {
     "data": {
      "text/plain": [
       "fear       1257\n",
       "anger       941\n",
       "joy         902\n",
       "sadness     860\n",
       "Name: emotion, dtype: int64"
      ]
     },
     "execution_count": 74,
     "metadata": {},
     "output_type": "execute_result"
    }
   ],
   "source": [
    "emotions_df.emotion.value_counts()"
   ]
  },
  {
   "cell_type": "code",
   "execution_count": 75,
   "metadata": {},
   "outputs": [
    {
     "data": {
      "text/plain": [
       "False    3169\n",
       "True      791\n",
       "Name: is_valid, dtype: int64"
      ]
     },
     "execution_count": 75,
     "metadata": {},
     "output_type": "execute_result"
    }
   ],
   "source": [
    "emotions_df.is_valid.value_counts()"
   ]
  },
  {
   "cell_type": "code",
   "execution_count": 76,
   "metadata": {},
   "outputs": [],
   "source": [
    "emotions_df.to_csv(\"../dataset/output/emotions_df.csv\")"
   ]
  },
  {
   "cell_type": "code",
   "execution_count": 77,
   "metadata": {},
   "outputs": [],
   "source": [
    "anger_df.to_csv(\"../dataset/output/anger_df.csv\")\n",
    "fear_df.to_csv(\"../dataset/output/fear_df.csv\")\n",
    "joy_df.to_csv(\"../dataset/output/joy_df.csv\")\n",
    "sadness_df.to_csv(\"../dataset/output/sadness_df.csv\")"
   ]
  },
  {
   "cell_type": "code",
   "execution_count": 79,
   "metadata": {},
   "outputs": [
    {
     "data": {
      "text/html": [
       "<div>\n",
       "<style scoped>\n",
       "    .dataframe tbody tr th:only-of-type {\n",
       "        vertical-align: middle;\n",
       "    }\n",
       "\n",
       "    .dataframe tbody tr th {\n",
       "        vertical-align: top;\n",
       "    }\n",
       "\n",
       "    .dataframe thead th {\n",
       "        text-align: right;\n",
       "    }\n",
       "</style>\n",
       "<table border=\"1\" class=\"dataframe\">\n",
       "  <thead>\n",
       "    <tr style=\"text-align: right;\">\n",
       "      <th></th>\n",
       "      <th>id</th>\n",
       "      <th>text</th>\n",
       "      <th>emotion</th>\n",
       "      <th>intensity</th>\n",
       "      <th>is_valid</th>\n",
       "    </tr>\n",
       "  </thead>\n",
       "  <tbody>\n",
       "    <tr>\n",
       "      <th>0</th>\n",
       "      <td>10000</td>\n",
       "      <td>How the fu*k! Who the heck! moved my fridge!.....</td>\n",
       "      <td>anger</td>\n",
       "      <td>0.938</td>\n",
       "      <td>False</td>\n",
       "    </tr>\n",
       "    <tr>\n",
       "      <th>1</th>\n",
       "      <td>10001</td>\n",
       "      <td>So my Indian Uber driver just called someone t...</td>\n",
       "      <td>anger</td>\n",
       "      <td>0.896</td>\n",
       "      <td>True</td>\n",
       "    </tr>\n",
       "    <tr>\n",
       "      <th>2</th>\n",
       "      <td>10002</td>\n",
       "      <td>@DPD_UK I asked for my parcel to be delivered ...</td>\n",
       "      <td>anger</td>\n",
       "      <td>0.896</td>\n",
       "      <td>False</td>\n",
       "    </tr>\n",
       "    <tr>\n",
       "      <th>3</th>\n",
       "      <td>10003</td>\n",
       "      <td>so ef whichever butt wipe pulled the fire alar...</td>\n",
       "      <td>anger</td>\n",
       "      <td>0.896</td>\n",
       "      <td>False</td>\n",
       "    </tr>\n",
       "    <tr>\n",
       "      <th>4</th>\n",
       "      <td>10004</td>\n",
       "      <td>Don't join @BTCare they put the phone down on ...</td>\n",
       "      <td>anger</td>\n",
       "      <td>0.896</td>\n",
       "      <td>False</td>\n",
       "    </tr>\n",
       "    <tr>\n",
       "      <th>...</th>\n",
       "      <td>...</td>\n",
       "      <td>...</td>\n",
       "      <td>...</td>\n",
       "      <td>...</td>\n",
       "      <td>...</td>\n",
       "    </tr>\n",
       "    <tr>\n",
       "      <th>3955</th>\n",
       "      <td>40855</td>\n",
       "      <td>Common app just randomly logged me out as I wa...</td>\n",
       "      <td>sadness</td>\n",
       "      <td>0.833</td>\n",
       "      <td>False</td>\n",
       "    </tr>\n",
       "    <tr>\n",
       "      <th>3956</th>\n",
       "      <td>40856</td>\n",
       "      <td>I'd rather laugh with the rarest genius, in be...</td>\n",
       "      <td>sadness</td>\n",
       "      <td>0.688</td>\n",
       "      <td>False</td>\n",
       "    </tr>\n",
       "    <tr>\n",
       "      <th>3957</th>\n",
       "      <td>40857</td>\n",
       "      <td>If you #invest in my new #film I will stop ask...</td>\n",
       "      <td>sadness</td>\n",
       "      <td>0.458</td>\n",
       "      <td>False</td>\n",
       "    </tr>\n",
       "    <tr>\n",
       "      <th>3958</th>\n",
       "      <td>40858</td>\n",
       "      <td>Just watched Django Unchained, Other people ma...</td>\n",
       "      <td>sadness</td>\n",
       "      <td>0.333</td>\n",
       "      <td>False</td>\n",
       "    </tr>\n",
       "    <tr>\n",
       "      <th>3959</th>\n",
       "      <td>40859</td>\n",
       "      <td>@KeithOlbermann depressing how despicable Trum...</td>\n",
       "      <td>sadness</td>\n",
       "      <td>0.708</td>\n",
       "      <td>False</td>\n",
       "    </tr>\n",
       "  </tbody>\n",
       "</table>\n",
       "<p>3960 rows × 5 columns</p>\n",
       "</div>"
      ],
      "text/plain": [
       "         id                                               text  emotion  \\\n",
       "0     10000  How the fu*k! Who the heck! moved my fridge!.....    anger   \n",
       "1     10001  So my Indian Uber driver just called someone t...    anger   \n",
       "2     10002  @DPD_UK I asked for my parcel to be delivered ...    anger   \n",
       "3     10003  so ef whichever butt wipe pulled the fire alar...    anger   \n",
       "4     10004  Don't join @BTCare they put the phone down on ...    anger   \n",
       "...     ...                                                ...      ...   \n",
       "3955  40855  Common app just randomly logged me out as I wa...  sadness   \n",
       "3956  40856  I'd rather laugh with the rarest genius, in be...  sadness   \n",
       "3957  40857  If you #invest in my new #film I will stop ask...  sadness   \n",
       "3958  40858  Just watched Django Unchained, Other people ma...  sadness   \n",
       "3959  40859  @KeithOlbermann depressing how despicable Trum...  sadness   \n",
       "\n",
       "      intensity  is_valid  \n",
       "0         0.938     False  \n",
       "1         0.896      True  \n",
       "2         0.896     False  \n",
       "3         0.896     False  \n",
       "4         0.896     False  \n",
       "...         ...       ...  \n",
       "3955      0.833     False  \n",
       "3956      0.688     False  \n",
       "3957      0.458     False  \n",
       "3958      0.333     False  \n",
       "3959      0.708     False  \n",
       "\n",
       "[3960 rows x 5 columns]"
      ]
     },
     "execution_count": 79,
     "metadata": {},
     "output_type": "execute_result"
    }
   ],
   "source": [
    "emotions_df"
   ]
  },
  {
   "cell_type": "code",
   "execution_count": null,
   "metadata": {},
   "outputs": [],
   "source": []
  }
 ],
 "metadata": {
  "kernelspec": {
   "display_name": "Python 3",
   "language": "python",
   "name": "python3"
  },
  "language_info": {
   "codemirror_mode": {
    "name": "ipython",
    "version": 3
   },
   "file_extension": ".py",
   "mimetype": "text/x-python",
   "name": "python",
   "nbconvert_exporter": "python",
   "pygments_lexer": "ipython3",
   "version": "3.7.6"
  }
 },
 "nbformat": 4,
 "nbformat_minor": 4
}
